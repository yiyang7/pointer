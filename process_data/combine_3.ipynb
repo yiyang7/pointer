{
 "cells": [
  {
   "cell_type": "code",
   "execution_count": 1,
   "metadata": {},
   "outputs": [],
   "source": [
    "import os"
   ]
  },
  {
   "cell_type": "code",
   "execution_count": 2,
   "metadata": {},
   "outputs": [],
   "source": [
    "tags = [\"relationships\",\"atheismbot\",\"ukpolitics\"]"
   ]
  },
  {
   "cell_type": "code",
   "execution_count": 4,
   "metadata": {},
   "outputs": [],
   "source": [
    "# cp /home/cs224u/processed_10_1k/processed_atheismbot/atheismbot_story/* .\n",
    "# cp /home/cs224u/processed_10_1k/processed_relationships/relationships_story/* .\n",
    "# cp /home/cs224u/processed_10_1k/processed_ukpolitics/ukpolitics_story/* .\n",
    "\n",
    "train_story = []\n",
    "val_story = []\n",
    "test_story = []\n",
    "\n",
    "for t in tags:\n",
    "    # get train, val, test\n",
    "    train_r = open(\"/home/cs224u/processed_10_1k/processed_\"+t+\"/\"+t+\"_train_list.txt\" ,\"r\")\n",
    "    val_r = open(\"/home/cs224u/processed_10_1k/processed_\"+t+\"/\"+t+\"_val_list.txt\" ,\"r\")\n",
    "    test_r = open(\"/home/cs224u/processed_10_1k/processed_\"+t+\"/\"+t+\"_test_list.txt\" ,\"r\")\n",
    "    \n",
    "    train_s = train_r.readlines()\n",
    "    val_s = val_r.readlines()\n",
    "    test_s = test_r.readlines()\n",
    "    \n",
    "    train_s[-1] = train_s[-1] + \"\\n\"\n",
    "    val_s[-1] = val_s[-1] + \"\\n\"\n",
    "    test_s[-1] = test_s[-1] + \"\\n\"\n",
    "    \n",
    "    train_story += train_s\n",
    "    val_story += val_s\n",
    "    test_story += test_s\n",
    "    \n",
    "# write to file\n",
    "train_w = open(\"/home/cs224u/processed_10_1k/processed_combine3/combine3_train_list.txt\" ,\"w+\")\n",
    "val_w = open(\"/home/cs224u/processed_10_1k/processed_combine3/combine3_val_list.txt\" ,\"w+\")\n",
    "test_w = open(\"/home/cs224u/processed_10_1k/processed_combine3/combine3_test_list.txt\" ,\"w+\")\n",
    "\n",
    "for t in train_story:\n",
    "    train_w.write(t)\n",
    "for t in val_story:\n",
    "    val_w.write(t)\n",
    "for t in test_story:\n",
    "    test_w.write(t)\n",
    "\n",
    "train_w.close()\n",
    "val_w.close()\n",
    "test_w.close()"
   ]
  },
  {
   "cell_type": "code",
   "execution_count": 6,
   "metadata": {},
   "outputs": [
    {
     "data": {
      "text/plain": [
       "'t3_4t8xqg_relationships.story\\n'"
      ]
     },
     "execution_count": 6,
     "metadata": {},
     "output_type": "execute_result"
    }
   ],
   "source": [
    "test_story[0]"
   ]
  },
  {
   "cell_type": "code",
   "execution_count": 7,
   "metadata": {},
   "outputs": [
    {
     "data": {
      "text/plain": [
       "'t3_1c96ud_atheismbot.story'"
      ]
     },
     "execution_count": 7,
     "metadata": {},
     "output_type": "execute_result"
    }
   ],
   "source": [
    "test_story[-1]"
   ]
  },
  {
   "cell_type": "code",
   "execution_count": 11,
   "metadata": {},
   "outputs": [
    {
     "name": "stdout",
     "output_type": "stream",
     "text": [
      "t3_333h14_relationships.story\n",
      "\n"
     ]
    }
   ],
   "source": [
    "for t in train_story + val_story + test_story:\n",
    "    print (t)\n",
    "    break"
   ]
  },
  {
   "cell_type": "code",
   "execution_count": 12,
   "metadata": {},
   "outputs": [
    {
     "data": {
      "text/plain": [
       "'t3_333h14_relationships.story\\n'"
      ]
     },
     "execution_count": 12,
     "metadata": {},
     "output_type": "execute_result"
    }
   ],
   "source": [
    "train_story[0]"
   ]
  },
  {
   "cell_type": "code",
   "execution_count": 13,
   "metadata": {},
   "outputs": [
    {
     "data": {
      "text/plain": [
       "'5dj1xq_relationships.story\\n'"
      ]
     },
     "execution_count": 13,
     "metadata": {},
     "output_type": "execute_result"
    }
   ],
   "source": [
    "train_story[1]"
   ]
  },
  {
   "cell_type": "code",
   "execution_count": null,
   "metadata": {},
   "outputs": [],
   "source": []
  }
 ],
 "metadata": {
  "kernelspec": {
   "display_name": "nlu3",
   "language": "python",
   "name": "nlu3"
  },
  "language_info": {
   "codemirror_mode": {
    "name": "ipython",
    "version": 3
   },
   "file_extension": ".py",
   "mimetype": "text/x-python",
   "name": "python",
   "nbconvert_exporter": "python",
   "pygments_lexer": "ipython3",
   "version": "3.7.3"
  }
 },
 "nbformat": 4,
 "nbformat_minor": 2
}
