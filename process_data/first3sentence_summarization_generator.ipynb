{
 "cells": [
  {
   "cell_type": "code",
   "execution_count": null,
   "metadata": {},
   "outputs": [],
   "source": [
    "import jsonlines\n",
    "import os\n",
    "import numpy as np\n",
    "import re"
   ]
  },
  {
   "cell_type": "code",
   "execution_count": 2,
   "metadata": {},
   "outputs": [],
   "source": [
    "# choose a subreddit\n",
    "input_subreddit = \"AskReddit\"\n",
    "\n",
    "# read json dataset\n",
    "path = \"/home/ubuntu/cs224u/raw_reddit/\" + \"tldr-training-data.jsonl\"\n",
    "reader = jsonlines.open(path)"
   ]
  },
  {
   "cell_type": "code",
   "execution_count": 6,
   "metadata": {},
   "outputs": [
    {
     "data": {
      "text/plain": [
       "'/home/ubuntu/cs224u/pointer/process_data'"
      ]
     },
     "execution_count": 6,
     "metadata": {},
     "output_type": "execute_result"
    }
   ],
   "source": [
    "cwd = os.getcwd()\n",
    "cwd"
   ]
  },
  {
   "cell_type": "code",
   "execution_count": 23,
   "metadata": {},
   "outputs": [],
   "source": [
    "# get current directory\n",
    "cwd = os.getcwd()\n",
    "# create the directory to the corresponding\n",
    "make_dir = cwd + '/'+input_subreddit+'_baseline_summarization_story'\n",
    "os.mkdir(make_dir)"
   ]
  },
  {
   "cell_type": "code",
   "execution_count": 9,
   "metadata": {},
   "outputs": [
    {
     "name": "stdout",
     "output_type": "stream",
     "text": [
      "{u'body': u\"I take a beta blocker for my heart condition that not only makes me have crazy dreams, they can feel more real than reality.  2 dreams come to mind which were fucked up.  The last and most recent was basically unzipping the skin on my barely 1 year old daughter to save the universe under the direction of an alien.  I knew it was fucked up, but I honestly believed what the alien was saying so to save the universe I butchered my daughter.  Now that was pretty bad and all, but the first really bad dream I had on the beta blocker has stuck with me just as much.  In it I was at my parents house with all of us dressed in bdsm gear.  I then became aware that I was in a dream and thought to myself wtf? a lucid dream? this is awesome.  At that point my feet wouldn't move and my parents gradually walked up to me before violently raping me.  I couldn't do anything to wake up and it felt as real as anything I have ever done while awake and sober.  It felt like the dream lasted hours, I woke up in tears and didn't say much for a few days instead opting to get extremely wasted until I got over it.\\n\\nTL;DR: Butchered daughter to save the universe and was violently raped for house by my parents, both of which felt as real as reality when awake and sober.\", u'normalizedBody': u\"I take a beta blocker for my heart condition that not only makes me have crazy dreams, they can feel more real than reality.  2 dreams come to mind which were fucked up.  The last and most recent was basically unzipping the skin on my barely 1 year old daughter to save the universe under the direction of an alien.  I knew it was fucked up, but I honestly believed what the alien was saying so to save the universe I butchered my daughter.  Now that was pretty bad and all, but the first really bad dream I had on the beta blocker has stuck with me just as much.  In it I was at my parents house with all of us dressed in bdsm gear.  I then became aware that I was in a dream and thought to myself wtf? a lucid dream? this is awesome.  At that point my feet wouldn't move and my parents gradually walked up to me before violently raping me.  I couldn't do anything to wake up and it felt as real as anything I have ever done while awake and sober.  It felt like the dream lasted hours, I woke up in tears and didn't say much for a few days instead opting to get extremely wasted until I got over it. \\n TL;DR: Butchered daughter to save the universe and was violently raped for house by my parents, both of which felt as real as reality when awake and sober. \\n\", u'subreddit_id': u't5_2qh1i', u'summary_len': 27, u'author': u'leep420', u'content_len': 219, u'subreddit': u'AskReddit', u'content': u\"I take a beta blocker for my heart condition that not only makes me have crazy dreams, they can feel more real than reality.  2 dreams come to mind which were fucked up.  The last and most recent was basically unzipping the skin on my barely 1 year old daughter to save the universe under the direction of an alien.  I knew it was fucked up, but I honestly believed what the alien was saying so to save the universe I butchered my daughter.  Now that was pretty bad and all, but the first really bad dream I had on the beta blocker has stuck with me just as much.  In it I was at my parents house with all of us dressed in bdsm gear.  I then became aware that I was in a dream and thought to myself wtf? a lucid dream? this is awesome.  At that point my feet wouldn't move and my parents gradually walked up to me before violently raping me.  I couldn't do anything to wake up and it felt as real as anything I have ever done while awake and sober.  It felt like the dream lasted hours, I woke up in tears and didn't say much for a few days instead opting to get extremely wasted until I got over it.\", u'summary': u'Butchered daughter to save the universe and was violently raped for house by my parents, both of which felt as real as reality when awake and sober.', u'id': u'c6c7tdy'}\n"
     ]
    }
   ],
   "source": [
    "for dic in reader:\n",
    "    if(\"subreddit\" in dic.keys() and dic[\"subreddit\"] == \"AskReddit\" and isEnglish(dic[\"summary\"]) == True and  isEnglish(dic[\"content\"]) == True ):\n",
    "        print(dic)\n",
    "        break"
   ]
  },
  {
   "cell_type": "code",
   "execution_count": 17,
   "metadata": {},
   "outputs": [
    {
     "data": {
      "text/plain": [
       "u'I take a beta blocker for my heart condition that not only makes me have crazy dreams, they can feel more real than reality.  2 dreams come to mind which were fucked up.  The last and most recent was basically unzipping the skin on my barely 1 year old daughter to save the universe under the direction of an alien.  I knew it was fucked up, but I honestly believed what the alien was saying so to save the universe I butchered my daughter.'"
      ]
     },
     "execution_count": 17,
     "metadata": {},
     "output_type": "execute_result"
    }
   ],
   "source": [
    "content = dic[\"content\"]\n",
    "' '.join(re.split(r'(?<=[.:;])\\s', content)[:4])"
   ]
  },
  {
   "cell_type": "code",
   "execution_count": 20,
   "metadata": {},
   "outputs": [],
   "source": [
    "# create a .story file and save it to the directory save_dir using baseline summarization method\n",
    "# (first three sentence):\n",
    "def create_story_baseline_summarization_file(input_dict, save_dir):\n",
    "    '''\n",
    "    input:\n",
    "    input_dict: input dictionary, include information about its id, content, summary etc\n",
    "    save_dir: a directory about where to save the story files\n",
    "    '''\n",
    "    \n",
    "    content = input_dict[\"content\"]\n",
    "    summarization_with_first_3_sentences = ' '.join(re.split(r'(?<=[.:;])\\s', content)[:3])\n",
    "    dic_id = input_dict[\"id\"]\n",
    "    filename = os.path.join(save_dir, dic_id + \".story\")\n",
    "    file1 = open(filename,\"w\")\n",
    "    file1.writelines(content+'\\n')\n",
    "    file1.writelines('@hightlight \\n')\n",
    "    file1.writelines(summarization_with_first_3_sentences)\n",
    "    file1.close()\n",
    "    "
   ]
  },
  {
   "cell_type": "code",
   "execution_count": 21,
   "metadata": {},
   "outputs": [],
   "source": [
    "def isEnglish(s):\n",
    "    try:\n",
    "        s.encode(encoding='utf-8').decode('ascii')\n",
    "    except UnicodeDecodeError:\n",
    "        return False\n",
    "    else:\n",
    "        return True"
   ]
  },
  {
   "cell_type": "code",
   "execution_count": 24,
   "metadata": {},
   "outputs": [],
   "source": [
    "# get a corresponding dataset\n",
    "for dic in reader:\n",
    "    if(\"subreddit\" in dic.keys() and dic[\"subreddit\"] == input_subreddit and isEnglish(dic[\"summary\"]) == True and  isEnglish(dic[\"content\"]) == True ):\n",
    "        create_story_baseline_summarization_file(dic, make_dir)"
   ]
  },
  {
   "cell_type": "code",
   "execution_count": null,
   "metadata": {},
   "outputs": [],
   "source": [
    "result_list = os.listdir(input_subreddit+'_story')\n",
    "np.random.shuffle(result_list)\n",
    "size = len(result_list)\n",
    "\n",
    "train_list = result_list[0:int(0.8*size)-1]\n",
    "train_str = \"\\n\".join(x for x in train_list)\n",
    "\n",
    "dev_list = result_list[int(0.8*size):int(0.9*size)-1]\n",
    "dev_str = \"\\n\".join(x for x in dev_list)\n",
    "\n",
    "test_list = result_list[int(0.9*size): int(size)-1]\n",
    "test_str = \"\\n\".join(x for x in test_list)\n"
   ]
  },
  {
   "cell_type": "code",
   "execution_count": null,
   "metadata": {},
   "outputs": [],
   "source": [
    "def create_list(subreddit_type, input_type, input_str):\n",
    "    filename = os.path.join(cwd, subreddit_type + input_type + \"list.txt\")\n",
    "    file1 = open(filename,\"w\")\n",
    "    file1.writelines(input_str)\n",
    "    file1.close()\n",
    "subreddit_type = \"AskReddit\"\n",
    "create_list(subreddit_type, \"train\", train_str)\n",
    "create_list(subreddit_type, \"dev\", dev_str)\n",
    "create_list(subreddit_type, \"test\", test_str)\n"
   ]
  },
  {
   "cell_type": "code",
   "execution_count": null,
   "metadata": {},
   "outputs": [],
   "source": []
  },
  {
   "cell_type": "markdown",
   "metadata": {},
   "source": [
    "# create an example.story "
   ]
  },
  {
   "cell_type": "code",
   "execution_count": null,
   "metadata": {},
   "outputs": [],
   "source": [
    "for dic in reader:\n",
    "    if(\"subreddit\" in dic.keys() and dic[\"subreddit\"] == \"AskReddit\" and isEnglish(dic[\"summary\"]) == True and  isEnglish(dic[\"content\"]) == True ):\n",
    "        print(dic)\n",
    "        break"
   ]
  },
  {
   "cell_type": "code",
   "execution_count": null,
   "metadata": {},
   "outputs": [],
   "source": [
    "# cwd = os.getcwd()\n",
    "filename = os.path.join(cwd, \"example.story\")\n",
    "file1 = open(filename,\"w\")\n",
    "file1.writelines(dic[\"content\"]+'\\n')\n",
    "#file1.writelines('@hightlight \\n')\n",
    "#file1.writelines(input_dict['summary'])\n",
    "file1.close()"
   ]
  },
  {
   "cell_type": "code",
   "execution_count": null,
   "metadata": {},
   "outputs": [],
   "source": [
    "dic[\"content\"]"
   ]
  },
  {
   "cell_type": "code",
   "execution_count": null,
   "metadata": {},
   "outputs": [],
   "source": [
    "dic[\"summary\"]"
   ]
  }
 ],
 "metadata": {
  "kernelspec": {
   "display_name": "nlu",
   "language": "python",
   "name": "nlu"
  },
  "language_info": {
   "codemirror_mode": {
    "name": "ipython",
    "version": 2
   },
   "file_extension": ".py",
   "mimetype": "text/x-python",
   "name": "python",
   "nbconvert_exporter": "python",
   "pygments_lexer": "ipython2",
   "version": "2.7.16"
  }
 },
 "nbformat": 4,
 "nbformat_minor": 2
}
