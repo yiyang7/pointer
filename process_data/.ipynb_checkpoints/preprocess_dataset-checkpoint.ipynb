{
 "cells": [
  {
   "cell_type": "code",
   "execution_count": 1,
   "metadata": {},
   "outputs": [],
   "source": [
    "import jsonlines\n",
    "import os\n",
    "import numpy as np"
   ]
  },
  {
   "cell_type": "code",
   "execution_count": 2,
   "metadata": {},
   "outputs": [],
   "source": [
    "# choose a subreddit\n",
    "input_subreddit = \"AskReddit\""
   ]
  },
  {
   "cell_type": "code",
   "execution_count": 3,
   "metadata": {},
   "outputs": [],
   "source": [
    "# read json dataset\n",
    "src = \"/home/ubuntu/cs224u/raw_reddit/\" + \"tldr-training-data.jsonl\"\n",
    "reader = jsonlines.open(src)\n",
    "\n",
    "# create the directory to the corresponding\n",
    "dst = \"/home/ubuntu/cs224u/processed_ask/\"+input_subreddit+'_story'\n",
    "os.mkdir(dst)"
   ]
  },
  {
   "cell_type": "code",
   "execution_count": 4,
   "metadata": {},
   "outputs": [],
   "source": [
    "# create a .story file and save it to the directory save_dir:\n",
    "def create_story_file(input_dict, save_dir):\n",
    "    '''\n",
    "    input:\n",
    "    input_dict: input dictionary, include information about its id, content, summary etc\n",
    "    save_dir: a directory about where to save the story files\n",
    "    '''\n",
    "    dic_id = input_dict[\"id\"]\n",
    "    filename = os.path.join(save_dir, dic_id + \".story\")\n",
    "    file1 = open(filename,\"w\")\n",
    "    file1.writelines(input_dict[\"content\"]+'\\n')\n",
    "    file1.writelines('@highlight \\n')\n",
    "    file1.writelines(input_dict['summary'])\n",
    "    file1.close()\n",
    "    "
   ]
  },
  {
   "cell_type": "code",
   "execution_count": 5,
   "metadata": {},
   "outputs": [],
   "source": [
    "def isEnglish(s):\n",
    "    try:\n",
    "        s.encode(encoding='utf-8').decode('ascii')\n",
    "    except UnicodeDecodeError:\n",
    "        return False\n",
    "    else:\n",
    "        return True"
   ]
  },
  {
   "cell_type": "code",
   "execution_count": 6,
   "metadata": {},
   "outputs": [],
   "source": [
    "# get a corresponding dataset\n",
    "for dic in reader:\n",
    "    if(\"subreddit\" in dic.keys() and dic[\"subreddit\"] == input_subreddit and isEnglish(dic[\"summary\"]) == True and  isEnglish(dic[\"content\"]) == True ):\n",
    "        create_story_file(dic, dst)"
   ]
  },
  {
   "cell_type": "code",
   "execution_count": 7,
   "metadata": {},
   "outputs": [
    {
     "name": "stderr",
     "output_type": "stream",
     "text": [
      "IOPub data rate exceeded.\n",
      "The notebook server will temporarily stop sending output\n",
      "to the client in order to avoid crashing it.\n",
      "To change this limit, set the config variable\n",
      "`--NotebookApp.iopub_data_rate_limit`.\n",
      "\n",
      "Current values:\n",
      "NotebookApp.iopub_data_rate_limit=1000000.0 (bytes/sec)\n",
      "NotebookApp.rate_limit_window=3.0 (secs)\n",
      "\n"
     ]
    }
   ],
   "source": [
    "result_list = os.listdir(dst)\n",
    "np.random.shuffle(result_list)\n",
    "size = len(result_list)\n",
    "\n",
    "train_list = result_list[0:int(0.98*size)-1]\n",
    "train_str = \"\\n\".join(x for x in train_list)\n",
    "\n",
    "dev_list = result_list[int(0.98*size):int(0.99*size)-1]\n",
    "dev_str = \"\\n\".join(x for x in dev_list)\n",
    "\n",
    "test_list = result_list[int(0.99*size): int(size)-1]\n",
    "test_str = \"\\n\".join(x for x in test_list)\n",
    "\n",
    "print (result_list[:10])"
   ]
  },
  {
   "cell_type": "code",
   "execution_count": null,
   "metadata": {},
   "outputs": [],
   "source": [
    "def create_list(subreddit_type, input_type, input_str):\n",
    "    filename = os.path.join(\"/home/ubuntu/cs224u/processed_ask/\", subreddit_type + input_type + \"list.txt\")\n",
    "    f = open(filename,\"w\")\n",
    "    f.writelines(input_str)\n",
    "    f.close()\n",
    "    \n",
    "subreddit_type = \"AskReddit\"\n",
    "create_list(subreddit_type, \"_train\", train_str)\n",
    "create_list(subreddit_type, \"_val\", dev_str)\n",
    "create_list(subreddit_type, \"_test\", test_str)\n"
   ]
  },
  {
   "cell_type": "code",
   "execution_count": null,
   "metadata": {},
   "outputs": [],
   "source": []
  },
  {
   "cell_type": "markdown",
   "metadata": {},
   "source": [
    "# create an example.story "
   ]
  },
  {
   "cell_type": "code",
   "execution_count": null,
   "metadata": {},
   "outputs": [],
   "source": [
    "for dic in reader:\n",
    "    if(\"subreddit\" in dic.keys() and dic[\"subreddit\"] == \"AskReddit\" and isEnglish(dic[\"summary\"]) == True and  isEnglish(dic[\"content\"]) == True ):\n",
    "        print(dic)\n",
    "        break"
   ]
  },
  {
   "cell_type": "code",
   "execution_count": null,
   "metadata": {},
   "outputs": [],
   "source": [
    "# cwd = os.getcwd()\n",
    "filename = os.path.join(cwd, \"example.story\")\n",
    "file1 = open(filename,\"w\")\n",
    "file1.writelines(dic[\"content\"]+'\\n')\n",
    "#file1.writelines('@hightlight \\n')\n",
    "#file1.writelines(input_dict['summary'])\n",
    "file1.close()"
   ]
  },
  {
   "cell_type": "code",
   "execution_count": null,
   "metadata": {},
   "outputs": [],
   "source": [
    "dic[\"content\"]"
   ]
  },
  {
   "cell_type": "code",
   "execution_count": null,
   "metadata": {},
   "outputs": [],
   "source": [
    "dic[\"summary\"]"
   ]
  }
 ],
 "metadata": {
  "kernelspec": {
   "display_name": "nlu",
   "language": "python",
   "name": "nlu"
  },
  "language_info": {
   "codemirror_mode": {
    "name": "ipython",
    "version": 2
   },
   "file_extension": ".py",
   "mimetype": "text/x-python",
   "name": "python",
   "nbconvert_exporter": "python",
   "pygments_lexer": "ipython2",
   "version": "2.7.16"
  }
 },
 "nbformat": 4,
 "nbformat_minor": 2
}
