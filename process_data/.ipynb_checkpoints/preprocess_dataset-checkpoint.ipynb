{
 "cells": [
  {
   "cell_type": "code",
   "execution_count": 4,
   "metadata": {},
   "outputs": [],
   "source": [
    "from process_util import *\n",
    "from random import sample"
   ]
  },
  {
   "cell_type": "code",
   "execution_count": 6,
   "metadata": {},
   "outputs": [],
   "source": [
    "# read jsonl dataset\n",
    "src = \"/home/ubuntu/cs224u/raw_reddit/tldr-training-data.jsonl\"\n",
    "reader = jsonlines.open(src)\n",
    "\n",
    "# choose a subreddit\n",
    "input_subreddit = \"relationships\"\n",
    "\n",
    "# create the directory to this corresponding dataset\n",
    "dst = \"/home/ubuntu/cs224u/new_relationships\"+'/'+input_subreddit+'_story(small)'\n",
    "os.mkdir(dst)"
   ]
  },
  {
   "cell_type": "code",
   "execution_count": 19,
   "metadata": {},
   "outputs": [],
   "source": [
    "def create_preprocessed_story_file(input_dict, save_dir):\n",
    "    '''\n",
    "    input:\n",
    "    input_dict: input dictionary, include information about its id, content, summary etc\n",
    "    save_dir: a directory about where to save the story files\n",
    "    reference: https://medium.com/@datamonsters/text-preprocessing-in-python-steps-tools-and-examples-bf025f872908\n",
    "    here we preprocessed the content and the summary of the story by:\n",
    "    1) get rid of extra space tab\n",
    "    2) filter out those whose summary is too short/content is too short\n",
    "    3) delete special characters like [...]\n",
    "    4) [potential] Stemming (spend/spent/spends...)\n",
    "    5) [potential] Lemmatization (do/done/did)\n",
    "    '''\n",
    "    dic_id = input_dict[\"id\"]\n",
    "    content = input_dict[\"content\"]\n",
    "    summary = input_dict['summary']\n",
    "    if(summary.split() >3):\n",
    "        # get rid of extra space tab\n",
    "        content = re.sub('\\s+', ' ', content).strip()\n",
    "        summary = re.sub('\\s+', ' ', summary).strip()    \n",
    "        # get rid of words inside special characters\n",
    "        content = re.sub(\"[\\(\\[].*?[\\)\\]]\", \"\", content)\n",
    "        summary = re.sub(\"[\\(\\[].*?[\\)\\]]\", \"\", summary)\n",
    "\n",
    "        filename = os.path.join(save_dir, dic_id + \".story\")\n",
    "        file1 = open(filename,\"w\")\n",
    "        file1.writelines(content+'\\n')\n",
    "        file1.writelines('@highlight \\n')\n",
    "        file1.writelines(summary)\n",
    "        file1.close()"
   ]
  },
  {
   "cell_type": "code",
   "execution_count": 20,
   "metadata": {},
   "outputs": [],
   "source": [
    "# get a corresponding dataset\n",
    "count = 0\n",
    "dic_list = []\n",
    "for dic in reader:\n",
    "    if(\"subreddit\" in dic.keys() and dic[\"subreddit\"] == input_subreddit and \n",
    "       isEnglish(dic[\"summary\"]) == True and  isEnglish(dic[\"content\"]) == True ):\n",
    "        dic_list.append(dic)"
   ]
  },
  {
   "cell_type": "code",
   "execution_count": 21,
   "metadata": {},
   "outputs": [],
   "source": [
    "# create a small dataset\n",
    "sample_list = sample(dic_list,100)\n",
    "for dic in sample_list:\n",
    "    create_preprocessed_story_file(dic, dst)        "
   ]
  },
  {
   "cell_type": "code",
   "execution_count": 22,
   "metadata": {},
   "outputs": [],
   "source": [
    "dst_whole = \"/home/ubuntu/cs224u/new_relationships\"+'/'+input_subreddit+'_story(whole)'\n",
    "os.mkdir(dst_whole)"
   ]
  },
  {
   "cell_type": "code",
   "execution_count": 24,
   "metadata": {},
   "outputs": [],
   "source": [
    "# create the whole dataset \n",
    "#sample_list = sample(dic_list,100)\n",
    "for dic in dic_list:\n",
    "    create_preprocessed_story_file(dic, dst_whole)        "
   ]
  },
  {
   "cell_type": "markdown",
   "metadata": {},
   "source": [
    "# get corresponding list"
   ]
  },
  {
   "cell_type": "code",
   "execution_count": 11,
   "metadata": {},
   "outputs": [
    {
     "name": "stdout",
     "output_type": "stream",
     "text": [
      "169945\n",
      "21242\n",
      "21243\n"
     ]
    }
   ],
   "source": [
    "input_subreddit = \"relationships\"\n",
    "dst = \"/home/ubuntu/cs224u/new_relationships\"+'/'+input_subreddit+'_story'\n",
    "result_list = os.listdir(dst)\n",
    "np.random.shuffle(result_list)\n",
    "size = len(result_list)\n",
    "\n",
    "train_list = result_list[0:int(0.8*size)-1]\n",
    "train_str = \"\\n\".join(x for x in train_list)\n",
    "\n",
    "dev_list = result_list[int(0.8*size):int(0.9*size)-1]\n",
    "dev_str = \"\\n\".join(x for x in dev_list)\n",
    "\n",
    "test_list = result_list[int(0.9*size): int(size)-1]\n",
    "test_str = \"\\n\".join(x for x in test_list)\n",
    "\n",
    "print (len(train_list))\n",
    "print (len(dev_list))\n",
    "print (len(test_list))"
   ]
  },
  {
   "cell_type": "code",
   "execution_count": 12,
   "metadata": {},
   "outputs": [],
   "source": [
    "def create_list(subreddit_type, input_type, input_str):\n",
    "    filename = os.path.join(\"/home/ubuntu/cs224u/new_\"+ subreddit_type+\"/\", subreddit_type + input_type + \"list.txt\")\n",
    "    print (filename)\n",
    "    f = open(filename,\"w\")\n",
    "    f.writelines(input_str)\n",
    "    f.close() "
   ]
  },
  {
   "cell_type": "code",
   "execution_count": 13,
   "metadata": {},
   "outputs": [
    {
     "name": "stdout",
     "output_type": "stream",
     "text": [
      "/home/ubuntu/cs224u/new_relationships/relationships_trainlist.txt\n",
      "/home/ubuntu/cs224u/new_relationships/relationships_vallist.txt\n",
      "/home/ubuntu/cs224u/new_relationships/relationships_testlist.txt\n"
     ]
    }
   ],
   "source": [
    "# create three lists\n",
    "create_list(input_subreddit, \"_train\", train_str)\n",
    "create_list(input_subreddit, \"_val\", dev_str)\n",
    "create_list(input_subreddit, \"_test\", test_str)\n"
   ]
  },
  {
   "cell_type": "markdown",
   "metadata": {},
   "source": [
    "# create a baseline result for the test set"
   ]
  },
  {
   "cell_type": "code",
   "execution_count": 43,
   "metadata": {},
   "outputs": [],
   "source": [
    "# create the directory to the corresponding baseline result\n",
    "make_dir = '/home/ubuntu/cs224u/processed_' +input_subreddit+'/baseline' \n",
    "os.mkdir(make_dir)"
   ]
  },
  {
   "cell_type": "code",
   "execution_count": 44,
   "metadata": {},
   "outputs": [],
   "source": [
    "make_dec_dir = make_dir + '/decoded'\n",
    "os.mkdir(make_dec_dir)\n",
    "\n",
    "make_ref_dir = make_dir + '/reference'\n",
    "os.mkdir(make_ref_dir)"
   ]
  },
  {
   "cell_type": "code",
   "execution_count": 51,
   "metadata": {},
   "outputs": [
    {
     "data": {
      "text/plain": [
       "['t3_1udtww',\n",
       " '6ejvy9',\n",
       " 't3_3yzftu',\n",
       " 't3_4bcuhi',\n",
       " 'di3h5hh',\n",
       " '64tr5t',\n",
       " 't3_29tth3',\n",
       " 'd62d0ho',\n",
       " 'd5axozy']"
      ]
     },
     "execution_count": 51,
     "metadata": {},
     "output_type": "execute_result"
    }
   ],
   "source": [
    "# get the name of the test list\n",
    "test_name_list = [x[:-6] for x in test_list]\n",
    "test_name_list"
   ]
  },
  {
   "cell_type": "code",
   "execution_count": 60,
   "metadata": {},
   "outputs": [
    {
     "name": "stdout",
     "output_type": "stream",
     "text": [
      "t3_4bcuhi\n",
      "t3_1udtww\n",
      "t3_3yzftu\n",
      "t3_29tth3\n",
      "d62d0ho\n",
      "d5axozy\n",
      "di3h5hh\n",
      "6ejvy9\n",
      "64tr5t\n"
     ]
    }
   ],
   "source": [
    "reader = jsonlines.open(src)\n",
    "# create corresponding baseline summarization\n",
    "for dic in reader:\n",
    "    if(\"subreddit\" in dic.keys() and dic[\"subreddit\"] == input_subreddit and isEnglish(dic[\"content\"]) == True):\n",
    "        if(dic[\"id\"] in test_name_list):\n",
    "            print(dic[\"id\"])\n",
    "            create_baseline_summarization_file(dic, make_dec_dir)\n",
    "            create_reference_file(dic, make_ref_dir)\n",
    "        "
   ]
  },
  {
   "cell_type": "code",
   "execution_count": null,
   "metadata": {},
   "outputs": [],
   "source": []
  },
  {
   "cell_type": "markdown",
   "metadata": {},
   "source": [
    "# create an example.story (not relavant to here)"
   ]
  },
  {
   "cell_type": "code",
   "execution_count": 7,
   "metadata": {},
   "outputs": [
    {
     "name": "stdout",
     "output_type": "stream",
     "text": [
      "{u'body': u\"I want to say this was about two weeks ago, could be less, but I haven't been sleeping very much lately and the days are starting to blur together.  My dream started off quite normal, going to familiar places and seeing people I knew.  However, I then went through a door and ended up on the middle of the interstate outside my current hometown, traffic not even bothering to attempt to avoid me.  It felt like Frogger.  Anyway, I came to the conclusion that I should just walk home to my old house which is about 180 miles from where I live now.  The entire way back, I began making up stories to keep myself entertained and somehow came upon the idea of creating a new background for my last name, coming up with traits and their stories for each letter in my last name.  Somehow I ended up in my childhood neighborhood in North Carolina, but my house in Florida had replaced the house there.  Every light in the neighborhood was off.  No streetlamps, no porch lights, the stars and moon were gone as well.  Completely dark, and the fatigue was beginning to wear me down.  I finally made it to my house and walked in the front door.  I expected to hear my dogs barking due to the noise I made, but there was nothing.  I walk through the hallway, turn my head to the right and see my parents' bedroom door is closed.  I figure they're asleep, so I turn around.  As soon as I was facing the opposite direction, I see my sister in a chair, dead, eyes open but lifeless, and fucking Slender Man behind her, and even with his featureless face, I could sense every bit fear-inducing aura built up within him as if he'd done this same thing to thousands of people in their nightmares since the dawn of man.  I yelled out her name in the dream, waking myself up with the sound of me actually yelling it in the real world.  I shot straight up in my bed, sobbing, yelling out my sister's name as if it were something from a movie.  That one nightmare singlehandedly scared me more than anything else in my entire life.\\n\\nTL;DR - Fuck Slender Man.\", u'normalizedBody': u\"I want to say this was about two weeks ago, could be less, but I haven't been sleeping very much lately and the days are starting to blur together.  My dream started off quite normal, going to familiar places and seeing people I knew.  However, I then went through a door and ended up on the middle of the interstate outside my current hometown, traffic not even bothering to attempt to avoid me.  It felt like Frogger.  Anyway, I came to the conclusion that I should just walk home to my old house which is about 180 miles from where I live now.  The entire way back, I began making up stories to keep myself entertained and somehow came upon the idea of creating a new background for my last name, coming up with traits and their stories for each letter in my last name.  Somehow I ended up in my childhood neighborhood in North Carolina, but my house in Florida had replaced the house there.  Every light in the neighborhood was off.  No streetlamps, no porch lights, the stars and moon were gone as well.  Completely dark, and the fatigue was beginning to wear me down.  I finally made it to my house and walked in the front door.  I expected to hear my dogs barking due to the noise I made, but there was nothing.  I walk through the hallway, turn my head to the right and see my parents' bedroom door is closed.  I figure they're asleep, so I turn around.  As soon as I was facing the opposite direction, I see my sister in a chair, dead, eyes open but lifeless, and fucking Slender Man behind her, and even with his featureless face, I could sense every bit fear-inducing aura built up within him as if he'd done this same thing to thousands of people in their nightmares since the dawn of man.  I yelled out her name in the dream, waking myself up with the sound of me actually yelling it in the real world.  I shot straight up in my bed, sobbing, yelling out my sister's name as if it were something from a movie.  That one nightmare singlehandedly scared me more than anything else in my entire life. \\n TL;DR - Fuck Slender Man. \\n\", u'subreddit_id': u't5_2qh1i', u'summary_len': 3, u'author': u'SinglesRazor', u'content_len': 375, u'subreddit': u'AskReddit', u'content': u\"I want to say this was about two weeks ago, could be less, but I haven't been sleeping very much lately and the days are starting to blur together.  My dream started off quite normal, going to familiar places and seeing people I knew.  However, I then went through a door and ended up on the middle of the interstate outside my current hometown, traffic not even bothering to attempt to avoid me.  It felt like Frogger.  Anyway, I came to the conclusion that I should just walk home to my old house which is about 180 miles from where I live now.  The entire way back, I began making up stories to keep myself entertained and somehow came upon the idea of creating a new background for my last name, coming up with traits and their stories for each letter in my last name.  Somehow I ended up in my childhood neighborhood in North Carolina, but my house in Florida had replaced the house there.  Every light in the neighborhood was off.  No streetlamps, no porch lights, the stars and moon were gone as well.  Completely dark, and the fatigue was beginning to wear me down.  I finally made it to my house and walked in the front door.  I expected to hear my dogs barking due to the noise I made, but there was nothing.  I walk through the hallway, turn my head to the right and see my parents' bedroom door is closed.  I figure they're asleep, so I turn around.  As soon as I was facing the opposite direction, I see my sister in a chair, dead, eyes open but lifeless, and fucking Slender Man behind her, and even with his featureless face, I could sense every bit fear-inducing aura built up within him as if he'd done this same thing to thousands of people in their nightmares since the dawn of man.  I yelled out her name in the dream, waking myself up with the sound of me actually yelling it in the real world.  I shot straight up in my bed, sobbing, yelling out my sister's name as if it were something from a movie.  That one nightmare singlehandedly scared me more than anything else in my entire life.\", u'summary': u'Fuck Slender Man.', u'id': u'c6c72m7'}\n"
     ]
    }
   ],
   "source": [
    "for dic in reader:\n",
    "    if(\"subreddit\" in dic.keys() and dic[\"subreddit\"] == \"AskReddit\" and isEnglish(dic[\"summary\"]) == True and  isEnglish(dic[\"content\"]) == True ):\n",
    "        print(dic)\n",
    "        break"
   ]
  },
  {
   "cell_type": "code",
   "execution_count": 9,
   "metadata": {},
   "outputs": [
    {
     "data": {
      "text/plain": [
       "u\"I want to say this was about two weeks ago, could be less, but I haven't been sleeping very much lately and the days are starting to blur together.  My dream started off quite normal, going to familiar places and seeing people I knew.  However, I then went through a door and ended up on the middle of the interstate outside my current hometown, traffic not even bothering to attempt to avoid me.  It felt like Frogger.  Anyway, I came to the conclusion that I should just walk home to my old house which is about 180 miles from where I live now.  The entire way back, I began making up stories to keep myself entertained and somehow came upon the idea of creating a new background for my last name, coming up with traits and their stories for each letter in my last name.  Somehow I ended up in my childhood neighborhood in North Carolina, but my house in Florida had replaced the house there.  Every light in the neighborhood was off.  No streetlamps, no porch lights, the stars and moon were gone as well.  Completely dark, and the fatigue was beginning to wear me down.  I finally made it to my house and walked in the front door.  I expected to hear my dogs barking due to the noise I made, but there was nothing.  I walk through the hallway, turn my head to the right and see my parents' bedroom door is closed.  I figure they're asleep, so I turn around.  As soon as I was facing the opposite direction, I see my sister in a chair, dead, eyes open but lifeless, and fucking Slender Man behind her, and even with his featureless face, I could sense every bit fear-inducing aura built up within him as if he'd done this same thing to thousands of people in their nightmares since the dawn of man.  I yelled out her name in the dream, waking myself up with the sound of me actually yelling it in the real world.  I shot straight up in my bed, sobbing, yelling out my sister's name as if it were something from a movie.  That one nightmare singlehandedly scared me more than anything else in my entire life.\""
      ]
     },
     "execution_count": 9,
     "metadata": {},
     "output_type": "execute_result"
    }
   ],
   "source": [
    "dic[\"content\"]"
   ]
  },
  {
   "cell_type": "code",
   "execution_count": 18,
   "metadata": {},
   "outputs": [
    {
     "data": {
      "text/plain": [
       "3"
      ]
     },
     "execution_count": 18,
     "metadata": {},
     "output_type": "execute_result"
    }
   ],
   "source": [
    "len(dic[\"summary\"].split())"
   ]
  },
  {
   "cell_type": "code",
   "execution_count": null,
   "metadata": {},
   "outputs": [],
   "source": [
    "# cwd = os.getcwd()\n",
    "filename = os.path.join(cwd, \"example.story\")\n",
    "file1 = open(filename,\"w\")\n",
    "file1.writelines(dic[\"content\"]+'\\n')\n",
    "#file1.writelines('@hightlight \\n')\n",
    "#file1.writelines(input_dict['summary'])\n",
    "file1.close()"
   ]
  },
  {
   "cell_type": "code",
   "execution_count": null,
   "metadata": {},
   "outputs": [],
   "source": [
    "dic[\"content\"]"
   ]
  },
  {
   "cell_type": "code",
   "execution_count": null,
   "metadata": {},
   "outputs": [],
   "source": [
    "dic[\"summary\"]"
   ]
  }
 ],
 "metadata": {
  "kernelspec": {
   "display_name": "nlu",
   "language": "python",
   "name": "nlu"
  },
  "language_info": {
   "codemirror_mode": {
    "name": "ipython",
    "version": 2
   },
   "file_extension": ".py",
   "mimetype": "text/x-python",
   "name": "python",
   "nbconvert_exporter": "python",
   "pygments_lexer": "ipython2",
   "version": "2.7.16"
  }
 },
 "nbformat": 4,
 "nbformat_minor": 2
}
