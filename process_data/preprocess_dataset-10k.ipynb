{
 "cells": [
  {
   "cell_type": "code",
   "execution_count": 1,
   "metadata": {},
   "outputs": [],
   "source": [
    "from process_util import *\n",
    "from random import sample\n",
    "\n",
    "SubReddits_to_include_10 = ['relationships', 'legaladvice', 'nfl',  'pettyrevenge', 'atheismbot', 'ShouldIbuythisgame', 'ukpolitics', 'Dogtraining',  'AskHistorians', 'Anxiety']\n",
    "\n",
    "\n",
    "# read jsonl dataset\n",
    "src = \"/home/ubuntu/cs224u/raw_reddit/tldr-training-data.jsonl\"\n",
    "reader = jsonlines.open(src)"
   ]
  },
  {
   "cell_type": "code",
   "execution_count": 4,
   "metadata": {},
   "outputs": [],
   "source": [
    "def create_preprocessed_story_file_include_subreddit(input_dict, save_dir):\n",
    "    '''\n",
    "    input:\n",
    "    input_dict: input dictionary, include information about its id, content, summary etc\n",
    "    save_dir: a directory about where to save the story files\n",
    "    reference: https://medium.com/@datamonsters/text-preprocessing-in-python-steps-tools-and-examples-bf025f872908\n",
    "    here we preprocessed the content and the summary of the story by:\n",
    "    1) get rid of extra space tab\n",
    "    2) filter out those whose summary is too short/content is too short\n",
    "    3) delete special characters like [...]\n",
    "    4) [potential] Stemming (spend/spent/spends...)\n",
    "    5) [potential] Lemmatization (do/done/did)\n",
    "    '''\n",
    "    dic_id = input_dict[\"id\"]\n",
    "    content = input_dict[\"content\"]\n",
    "    summary = input_dict['summary']\n",
    "    subreddit = input_dict[\"subreddit\"]\n",
    "    #print(type(summary.split()))\n",
    "    if(len(summary.split()) > 3):\n",
    "        # get rid of extra space tab\n",
    "        content = re.sub('\\s+', ' ', content).strip()\n",
    "        summary = re.sub('\\s+', ' ', summary).strip()    \n",
    "        # get rid of words inside special characterss\n",
    "        content = re.sub(\"[\\(\\[].*?[\\)\\]]\", \"\", content)\n",
    "        summary = re.sub(\"[\\(\\[].*?[\\)\\]]\", \"\", summary)\n",
    "\n",
    "        filename = os.path.join(save_dir, dic_id +'_'+subreddit+ \".story\")\n",
    "        file1 = open(filename,\"w\")\n",
    "        # add the subreddit information before the summary\n",
    "        file1.writelines(content+'\\n')\n",
    "        file1.writelines('@highlight \\n')\n",
    "        file1.writelines(subreddit+' '+summary)\n",
    "        file1.close()\n",
    "        \n",
    "        \n",
    "def create_final_list(subreddit_type, input_type, input_str):\n",
    "    filename = os.path.join(\"/home/ubuntu/cs224u/processed_10_1k_mymodel\"+'/'+\"processed_\"+subreddit_type+\"/\", subreddit_type + input_type + \"_list.txt\")\n",
    "    print(filename)\n",
    "    f = open(filename,\"w\")\n",
    "    f.writelines(input_str)\n",
    "    f.close()          \n",
    "       \n",
    "        \n",
    "        "
   ]
  },
  {
   "cell_type": "code",
   "execution_count": 18,
   "metadata": {},
   "outputs": [
    {
     "data": {
      "text/plain": [
       "'/home/ubuntu/cs224u/processed_10_1k/processed_ukpolitics/ukpolitics_list.txt'"
      ]
     },
     "execution_count": 18,
     "metadata": {},
     "output_type": "execute_result"
    }
   ],
   "source": [
    "subreddit_type = \"ukpolitics\""
   ]
  },
  {
   "cell_type": "code",
   "execution_count": 6,
   "metadata": {},
   "outputs": [
    {
     "data": {
      "text/plain": [
       "['relationships',\n",
       " 'legaladvice',\n",
       " 'nfl',\n",
       " 'pettyrevenge',\n",
       " 'atheismbot',\n",
       " 'ShouldIbuythisgame',\n",
       " 'ukpolitics',\n",
       " 'Dogtraining',\n",
       " 'AskHistorians',\n",
       " 'Anxiety']"
      ]
     },
     "execution_count": 6,
     "metadata": {},
     "output_type": "execute_result"
    }
   ],
   "source": [
    "SubReddits_to_include_10"
   ]
  },
  {
   "cell_type": "code",
   "execution_count": 5,
   "metadata": {},
   "outputs": [
    {
     "name": "stdout",
     "output_type": "stream",
     "text": [
      "0\n",
      "/home/ubuntu/cs224u/processed_10_1k_mymodel/processed_relationships/relationships_train_list.txt\n",
      "/home/ubuntu/cs224u/processed_10_1k_mymodel/processed_relationships/relationships_val_list.txt\n",
      "/home/ubuntu/cs224u/processed_10_1k_mymodel/processed_relationships/relationships_test_list.txt\n",
      "1\n",
      "/home/ubuntu/cs224u/processed_10_1k_mymodel/processed_legaladvice/legaladvice_train_list.txt\n",
      "/home/ubuntu/cs224u/processed_10_1k_mymodel/processed_legaladvice/legaladvice_val_list.txt\n",
      "/home/ubuntu/cs224u/processed_10_1k_mymodel/processed_legaladvice/legaladvice_test_list.txt\n",
      "2\n",
      "/home/ubuntu/cs224u/processed_10_1k_mymodel/processed_nfl/nfl_train_list.txt\n",
      "/home/ubuntu/cs224u/processed_10_1k_mymodel/processed_nfl/nfl_val_list.txt\n",
      "/home/ubuntu/cs224u/processed_10_1k_mymodel/processed_nfl/nfl_test_list.txt\n",
      "3\n",
      "/home/ubuntu/cs224u/processed_10_1k_mymodel/processed_pettyrevenge/pettyrevenge_train_list.txt\n",
      "/home/ubuntu/cs224u/processed_10_1k_mymodel/processed_pettyrevenge/pettyrevenge_val_list.txt\n",
      "/home/ubuntu/cs224u/processed_10_1k_mymodel/processed_pettyrevenge/pettyrevenge_test_list.txt\n",
      "4\n",
      "/home/ubuntu/cs224u/processed_10_1k_mymodel/processed_atheismbot/atheismbot_train_list.txt\n",
      "/home/ubuntu/cs224u/processed_10_1k_mymodel/processed_atheismbot/atheismbot_val_list.txt\n",
      "/home/ubuntu/cs224u/processed_10_1k_mymodel/processed_atheismbot/atheismbot_test_list.txt\n",
      "5\n",
      "/home/ubuntu/cs224u/processed_10_1k_mymodel/processed_ShouldIbuythisgame/ShouldIbuythisgame_train_list.txt\n",
      "/home/ubuntu/cs224u/processed_10_1k_mymodel/processed_ShouldIbuythisgame/ShouldIbuythisgame_val_list.txt\n",
      "/home/ubuntu/cs224u/processed_10_1k_mymodel/processed_ShouldIbuythisgame/ShouldIbuythisgame_test_list.txt\n",
      "6\n",
      "/home/ubuntu/cs224u/processed_10_1k_mymodel/processed_ukpolitics/ukpolitics_train_list.txt\n",
      "/home/ubuntu/cs224u/processed_10_1k_mymodel/processed_ukpolitics/ukpolitics_val_list.txt\n",
      "/home/ubuntu/cs224u/processed_10_1k_mymodel/processed_ukpolitics/ukpolitics_test_list.txt\n",
      "7\n",
      "/home/ubuntu/cs224u/processed_10_1k_mymodel/processed_Dogtraining/Dogtraining_train_list.txt\n",
      "/home/ubuntu/cs224u/processed_10_1k_mymodel/processed_Dogtraining/Dogtraining_val_list.txt\n",
      "/home/ubuntu/cs224u/processed_10_1k_mymodel/processed_Dogtraining/Dogtraining_test_list.txt\n",
      "8\n",
      "/home/ubuntu/cs224u/processed_10_1k_mymodel/processed_AskHistorians/AskHistorians_train_list.txt\n",
      "/home/ubuntu/cs224u/processed_10_1k_mymodel/processed_AskHistorians/AskHistorians_val_list.txt\n",
      "/home/ubuntu/cs224u/processed_10_1k_mymodel/processed_AskHistorians/AskHistorians_test_list.txt\n",
      "9\n",
      "/home/ubuntu/cs224u/processed_10_1k_mymodel/processed_Anxiety/Anxiety_train_list.txt\n",
      "/home/ubuntu/cs224u/processed_10_1k_mymodel/processed_Anxiety/Anxiety_val_list.txt\n",
      "/home/ubuntu/cs224u/processed_10_1k_mymodel/processed_Anxiety/Anxiety_test_list.txt\n"
     ]
    }
   ],
   "source": [
    "for i in range(len(SubReddits_to_include_10)):\n",
    "    print(i)\n",
    "    # choose a subreddit\n",
    "    input_subreddit = SubReddits_to_include_10[i]\n",
    "    # create the directory to this corresponding dataset\n",
    "    dst = \"/home/ubuntu/cs224u/processed_10_1k_mymodel\"+'/'+\"processed_\"+input_subreddit\n",
    "    os.mkdir(dst)\n",
    "    dst = \"/home/ubuntu/cs224u/processed_10_1k_mymodel\"+'/'+\"processed_\"+input_subreddit+\"/\"+input_subreddit+'_story'\n",
    "    os.mkdir(dst)\n",
    "    #os.mkdir(dst)\n",
    "    # get a corresponding dataset\n",
    "    count = 0\n",
    "    dic_list = []\n",
    "    reader = jsonlines.open(src)\n",
    "    for dic in reader:\n",
    "        if(\"subreddit\" in dic.keys() and dic[\"subreddit\"] == input_subreddit and \n",
    "           isEnglish(dic[\"summary\"]) == True and  isEnglish(dic[\"content\"]) == True):\n",
    "            dic_list.append(dic)\n",
    "            \n",
    "    # create a small dataset if needed\n",
    "    sample_list = sample(dic_list,1200)\n",
    "    for dic in sample_list:\n",
    "        create_preprocessed_story_file_include_subreddit(dic, dst)  \n",
    "\n",
    "    #input_subreddit = \"relationships\"\n",
    "    #dst = \"/home/ubuntu/cs224u/new_relationships\"+'/'+input_subreddit+'_story'\n",
    "    result_list = os.listdir(dst)\n",
    "    np.random.shuffle(result_list)\n",
    "    size = len(result_list)\n",
    "\n",
    "    train_list = result_list[0:int(0.8*size)-1]\n",
    "    train_str = \"\\n\".join(x for x in train_list)\n",
    "\n",
    "    dev_list = result_list[int(0.8*size):int(0.9*size)-1]\n",
    "    dev_str = \"\\n\".join(x for x in dev_list)\n",
    "\n",
    "    test_list = result_list[int(0.9*size): int(size)-1]\n",
    "    test_str = \"\\n\".join(x for x in test_list)\n",
    "    # create three lists\n",
    "    create_final_list(input_subreddit, \"_train\", train_str)\n",
    "    create_final_list(input_subreddit, \"_val\", dev_str)\n",
    "    create_final_list(input_subreddit, \"_test\", test_str)\n",
    "\n",
    "    \n",
    "    \n",
    "    \n",
    "    "
   ]
  },
  {
   "cell_type": "markdown",
   "metadata": {},
   "source": [
    "# example"
   ]
  },
  {
   "cell_type": "code",
   "execution_count": 3,
   "metadata": {},
   "outputs": [
    {
     "name": "stdout",
     "output_type": "stream",
     "text": [
      "/home/ubuntu/cs224u/processed_10_1k/processed_ukpolitics/ukpolitics_train_list.txt\n",
      "/home/ubuntu/cs224u/processed_10_1k/processed_ukpolitics/ukpolitics_val_list.txt\n",
      "/home/ubuntu/cs224u/processed_10_1k/processed_ukpolitics/ukpolitics_test_list.txt\n"
     ]
    }
   ],
   "source": [
    "input_subreddit = \"ukpolitics\"\n",
    "# create the directory to this corresponding dataset\n",
    "dst = \"/home/ubuntu/cs224u/processed_10_1k_mymodel\"+'/'+\"processed_\"+input_subreddit\n",
    "os.mkdir(dst)\n",
    "dst = \"/home/ubuntu/cs224u/processed_10_1k_mymodel\"+'/'+\"processed_\"+input_subreddit+\"/\"+input_subreddit+'_story'\n",
    "os.mkdir(dst)\n",
    "# get a corresponding dataset\n",
    "count = 0\n",
    "dic_list = []\n",
    "reader = jsonlines.open(src)\n",
    "for dic in reader:\n",
    "    if(\"subreddit\" in dic.keys() and dic[\"subreddit\"] == input_subreddit and \n",
    "       isEnglish(dic[\"summary\"]) == True and  isEnglish(dic[\"content\"]) == True):\n",
    "        dic_list.append(dic)\n",
    "\n",
    "# create a small dataset if needed\n",
    "sample_list = sample(dic_list,1200)\n",
    "for dic in sample_list:\n",
    "    create_preprocessed_story_file_include_subreddit(dic, dst)  \n",
    "\n",
    "#input_subreddit = \"relationships\"\n",
    "#dst = \"/home/ubuntu/cs224u/new_relationships\"+'/'+input_subreddit+'_story'\n",
    "result_list = os.listdir(dst)\n",
    "np.random.shuffle(result_list)\n",
    "size = len(result_list)\n",
    "\n",
    "train_list = result_list[0:int(0.8*size)-1]\n",
    "train_str = \"\\n\".join(x for x in train_list)\n",
    "\n",
    "dev_list = result_list[int(0.8*size):int(0.9*size)-1]\n",
    "dev_str = \"\\n\".join(x for x in dev_list)\n",
    "\n",
    "test_list = result_list[int(0.9*size): int(size)-1]\n",
    "test_str = \"\\n\".join(x for x in test_list)\n",
    "# create three lists\n",
    "create_final_list(input_subreddit, \"_train\", train_str)\n",
    "create_final_list(input_subreddit, \"_val\", dev_str)\n",
    "create_final_list(input_subreddit, \"_test\", test_str)"
   ]
  },
  {
   "cell_type": "code",
   "execution_count": null,
   "metadata": {},
   "outputs": [],
   "source": [
    "def create_preprocessed_story_file_include_subreddit(input_dict, save_dir):\n",
    "    '''\n",
    "    input:\n",
    "    input_dict: input dictionary, include information about its id, content, summary etc\n",
    "    save_dir: a directory about where to save the story files\n",
    "    reference: https://medium.com/@datamonsters/text-preprocessing-in-python-steps-tools-and-examples-bf025f872908\n",
    "    here we preprocessed the content and the summary of the story by:\n",
    "    1) get rid of extra space tab\n",
    "    2) filter out those whose summary is too short/content is too short\n",
    "    3) delete special characters like [...]\n",
    "    4) [potential] Stemming (spend/spent/spends...)\n",
    "    5) [potential] Lemmatization (do/done/did)\n",
    "    '''\n",
    "    dic_id = input_dict[\"id\"]\n",
    "    content = input_dict[\"content\"]\n",
    "    summary = input_dict['summary']\n",
    "    subreddit = input_dict[\"subreddit\"]\n",
    "    if(summary.split() > 3):\n",
    "        # get rid of extra space tab\n",
    "        content = re.sub('\\s+', ' ', content).strip()\n",
    "        summary = re.sub('\\s+', ' ', summary).strip()    \n",
    "        # get rid of words inside special characterss\n",
    "        content = re.sub(\"[\\(\\[].*?[\\)\\]]\", \"\", content)\n",
    "        summary = re.sub(\"[\\(\\[].*?[\\)\\]]\", \"\", summary)\n",
    "\n",
    "        filename = os.path.join(save_dir, dic_id +subreddit+ \".story\")\n",
    "        file1 = open(filename,\"w\")\n",
    "        # add the subreddit information before the summary\n",
    "        file1.writelines(content+'\\n')\n",
    "        file1.writelines('@highlight \\n')\n",
    "        file1.writelines(subreddit+summary)\n",
    "        file1.close()"
   ]
  },
  {
   "cell_type": "code",
   "execution_count": null,
   "metadata": {},
   "outputs": [],
   "source": [
    "def create_final_list(subreddit_type, input_type, input_str):\n",
    "    filename = os.path.join(\"/home/ubuntu/cs224u/processesd_10_1k/\"+ subreddit_type+\"/\", subreddit_type + input_type + \"list.txt\")\n",
    "    print(filename)\n",
    "    f = open(filename,\"w\")\n",
    "    f.writelines(input_str)\n",
    "    f.close() "
   ]
  },
  {
   "cell_type": "code",
   "execution_count": null,
   "metadata": {},
   "outputs": [],
   "source": [
    "# get a corresponding dataset\n",
    "count = 0\n",
    "dic_list = []\n",
    "for dic in reader:\n",
    "    if(\"subreddit\" in dic.keys() and dic[\"subreddit\"] == input_subreddit and \n",
    "       isEnglish(dic[\"summary\"]) == True and  isEnglish(dic[\"content\"]) == True ):\n",
    "        dic_list.append(dic)"
   ]
  },
  {
   "cell_type": "code",
   "execution_count": null,
   "metadata": {},
   "outputs": [],
   "source": [
    "# create a small dataset if needed\n",
    "sample_list = sample(dic_list,1200)\n",
    "for dic in sample_list:\n",
    "    create_preprocessed_story_file(dic, dst)        "
   ]
  },
  {
   "cell_type": "code",
   "execution_count": null,
   "metadata": {},
   "outputs": [],
   "source": [
    "#dst_whole = \"/home/ubuntu/cs224u/processed_politics\"+'/'+input_subreddit+'_story_whole'\n",
    "#os.mkdir(dst_whole)\n",
    "dst"
   ]
  },
  {
   "cell_type": "code",
   "execution_count": null,
   "metadata": {},
   "outputs": [],
   "source": [
    "# create the whole dataset \n",
    "#sample_list = sample(dic_list,100)\n",
    "for dic in dic_list:\n",
    "    create_preprocessed_story_file(dic, dst)        "
   ]
  },
  {
   "cell_type": "markdown",
   "metadata": {},
   "source": [
    "# get corresponding list"
   ]
  },
  {
   "cell_type": "code",
   "execution_count": null,
   "metadata": {},
   "outputs": [],
   "source": [
    "#input_subreddit = \"relationships\"\n",
    "#dst = \"/home/ubuntu/cs224u/new_relationships\"+'/'+input_subreddit+'_story'\n",
    "result_list = os.listdir(dst)\n",
    "np.random.shuffle(result_list)\n",
    "size = len(result_list)\n",
    "\n",
    "train_list = result_list[0:int(0.8*size)-1]\n",
    "train_str = \"\\n\".join(x for x in train_list)\n",
    "\n",
    "dev_list = result_list[int(0.8*size):int(0.9*size)-1]\n",
    "dev_str = \"\\n\".join(x for x in dev_list)\n",
    "\n",
    "test_list = result_list[int(0.9*size): int(size)-1]\n",
    "test_str = \"\\n\".join(x for x in test_list)\n",
    "\n",
    "# print (len(train_list))\n",
    "# print (len(dev_list))\n",
    "# print (len(test_list))"
   ]
  },
  {
   "cell_type": "code",
   "execution_count": null,
   "metadata": {},
   "outputs": [],
   "source": [
    "dst"
   ]
  },
  {
   "cell_type": "code",
   "execution_count": null,
   "metadata": {},
   "outputs": [],
   "source": [
    "# create three lists\n",
    "create_list(input_subreddit, \"_train\", train_str)\n",
    "create_list(input_subreddit, \"_val\", dev_str)\n",
    "create_list(input_subreddit, \"_test\", test_str)\n"
   ]
  },
  {
   "cell_type": "markdown",
   "metadata": {},
   "source": [
    "# combine dataset and lists"
   ]
  },
  {
   "cell_type": "code",
   "execution_count": 6,
   "metadata": {},
   "outputs": [],
   "source": [
    "import os\n",
    "import shutil\n",
    "import glob"
   ]
  },
  {
   "cell_type": "code",
   "execution_count": 9,
   "metadata": {},
   "outputs": [],
   "source": [
    "# combine all data into a file\n",
    "root_dir = \"/home/ubuntu/cs224u/processed_10_1k_mymodel\"\n",
    "# create a processed_combine_all file\n",
    "dst = \"/home/ubuntu/cs224u/processed_10_1k_mymodel\"+'/'+\"processed_combine_all\"\n",
    "os.mkdir(dst)\n",
    "dest = \"/home/ubuntu/cs224u/processed_10_1k_mymodel\"+'/'+\"processed_combine_all/\"+ \"combine_all_story\"\n",
    "os.mkdir(dest)"
   ]
  },
  {
   "cell_type": "code",
   "execution_count": 10,
   "metadata": {},
   "outputs": [],
   "source": [
    "for i in range(len(SubReddits_to_include_10)):\n",
    "    # add all information into the processed_combine_all file from \n",
    "    input_subreddit = SubReddits_to_include_10[i]\n",
    "    src = root_dir + \"/processed_\"+ input_subreddit + \"/\"+input_subreddit + \"_story\"\n",
    "    src_files = os.listdir(src)\n",
    "    for file_name in src_files:\n",
    "        full_file_name = os.path.join(src, file_name)\n",
    "        if os.path.isfile(full_file_name):\n",
    "            shutil.copy(full_file_name, dest)\n",
    "            "
   ]
  },
  {
   "cell_type": "code",
   "execution_count": 11,
   "metadata": {},
   "outputs": [
    {
     "data": {
      "text/plain": [
       "'/home/ubuntu/cs224u/processed_10_1k_mymodel/processed_combine_all'"
      ]
     },
     "execution_count": 11,
     "metadata": {},
     "output_type": "execute_result"
    }
   ],
   "source": [
    "dst"
   ]
  },
  {
   "cell_type": "code",
   "execution_count": 12,
   "metadata": {},
   "outputs": [
    {
     "name": "stdout",
     "output_type": "stream",
     "text": [
      "/home/ubuntu/cs224u/processed_10_1k_mymodel/processed_combine_all/combine_train_list.txt\n",
      "['/home/ubuntu/cs224u/processed_10_1k_mymodel/processed_relationships/relationships_train_list.txt']\n",
      "['/home/ubuntu/cs224u/processed_10_1k_mymodel/processed_legaladvice/legaladvice_train_list.txt']\n",
      "['/home/ubuntu/cs224u/processed_10_1k_mymodel/processed_nfl/nfl_train_list.txt']\n",
      "['/home/ubuntu/cs224u/processed_10_1k_mymodel/processed_pettyrevenge/pettyrevenge_train_list.txt']\n",
      "['/home/ubuntu/cs224u/processed_10_1k_mymodel/processed_atheismbot/atheismbot_train_list.txt']\n",
      "['/home/ubuntu/cs224u/processed_10_1k_mymodel/processed_ShouldIbuythisgame/ShouldIbuythisgame_train_list.txt']\n",
      "['/home/ubuntu/cs224u/processed_10_1k_mymodel/processed_ukpolitics/ukpolitics_train_list.txt']\n",
      "['/home/ubuntu/cs224u/processed_10_1k_mymodel/processed_Dogtraining/Dogtraining_train_list.txt']\n",
      "['/home/ubuntu/cs224u/processed_10_1k_mymodel/processed_AskHistorians/AskHistorians_train_list.txt']\n",
      "['/home/ubuntu/cs224u/processed_10_1k_mymodel/processed_Anxiety/Anxiety_train_list.txt']\n"
     ]
    }
   ],
   "source": [
    "# combine all subreddit_train_list.txt data into a combine_train_list.txt\n",
    "# create a result outfile name combine_train_list.txt\n",
    "# combine_train_list.txt\n",
    "\n",
    "combine_train = os.path.join(dst, \"combine_train_list.txt\")\n",
    "print(combine_train)\n",
    "\n",
    "#\"/home/ubuntu/cs224u/processed_10_1k/processed_\" + input_subreddit+ \"/\"+input_subreddit+\"_train_list.txt\"\n",
    "\n",
    "for i in range(len(SubReddits_to_include_10)):\n",
    "    # add all information into the processed_combine_all file from \n",
    "    input_subreddit = SubReddits_to_include_10[i]\n",
    "    read_files = glob.glob(\"/home/ubuntu/cs224u/processed_10_1k_mymodel/processed_\" + input_subreddit+ \"/\"+input_subreddit+\"_train_list.txt\")\n",
    "    print(read_files)\n",
    "    combine_train = os.path.join(dst, \"combine_train_list.txt\")\n",
    "    with open(combine_train, \"a\") as outfile:\n",
    "        for f in read_files:\n",
    "            with open(f, \"rb\") as infile:\n",
    "                outfile.writelines(infile.read())\n",
    "            outfile.writelines(\"\\n\")\n",
    "      #  num_lines = sum(1 for line in open(\"/home/ubuntu/cs224u/processed_10_1k/processed_combine_all/combine_all_story/combine_train_list.txt\"))\n",
    "      #  print(num_lines)\n",
    "            \n",
    " "
   ]
  },
  {
   "cell_type": "code",
   "execution_count": 13,
   "metadata": {},
   "outputs": [
    {
     "name": "stdout",
     "output_type": "stream",
     "text": [
      "/home/ubuntu/cs224u/processed_10_1k_mymodel/processed_combine_all/combine_val_list.txt\n",
      "['/home/ubuntu/cs224u/processed_10_1k_mymodel/processed_relationships/relationships_val_list.txt']\n",
      "['/home/ubuntu/cs224u/processed_10_1k_mymodel/processed_legaladvice/legaladvice_val_list.txt']\n",
      "['/home/ubuntu/cs224u/processed_10_1k_mymodel/processed_nfl/nfl_val_list.txt']\n",
      "['/home/ubuntu/cs224u/processed_10_1k_mymodel/processed_pettyrevenge/pettyrevenge_val_list.txt']\n",
      "['/home/ubuntu/cs224u/processed_10_1k_mymodel/processed_atheismbot/atheismbot_val_list.txt']\n",
      "['/home/ubuntu/cs224u/processed_10_1k_mymodel/processed_ShouldIbuythisgame/ShouldIbuythisgame_val_list.txt']\n",
      "['/home/ubuntu/cs224u/processed_10_1k_mymodel/processed_ukpolitics/ukpolitics_val_list.txt']\n",
      "['/home/ubuntu/cs224u/processed_10_1k_mymodel/processed_Dogtraining/Dogtraining_val_list.txt']\n",
      "['/home/ubuntu/cs224u/processed_10_1k_mymodel/processed_AskHistorians/AskHistorians_val_list.txt']\n",
      "['/home/ubuntu/cs224u/processed_10_1k_mymodel/processed_Anxiety/Anxiety_val_list.txt']\n"
     ]
    }
   ],
   "source": [
    "# combine all subreddit_train_list.txt data into a combine_train_list.txt\n",
    "# create a result outfile name combine_train_list.txt\n",
    "# combine_train_list.txt\n",
    "\n",
    "combine_train = os.path.join(dst, \"combine_val_list.txt\")\n",
    "print(combine_train)\n",
    "\n",
    "#\"/home/ubuntu/cs224u/processed_10_1k/processed_\" + input_subreddit+ \"/\"+input_subreddit+\"_train_list.txt\"\n",
    "\n",
    "for i in range(len(SubReddits_to_include_10)):\n",
    "    # add all information into the processed_combine_all file from \n",
    "    input_subreddit = SubReddits_to_include_10[i]\n",
    "    read_files = glob.glob(\"/home/ubuntu/cs224u/processed_10_1k_mymodel/processed_\" + input_subreddit+ \"/\"+input_subreddit+\"_val_list.txt\")\n",
    "    print(read_files)\n",
    "    combine_train = os.path.join(dst, \"combine_val_list.txt\")\n",
    "    with open(combine_train, \"a\") as outfile:\n",
    "        for f in read_files:\n",
    "            with open(f, \"rb\") as infile:\n",
    "                outfile.writelines(infile.read())\n",
    "            outfile.writelines(\"\\n\")\n",
    "     #   num_lines = sum(1 for line in open(\"/home/ubuntu/cs224u/processed_10_1k/processed_combine_all/combine_all_story/combine_val_list.txt\"))\n",
    "     #   print(num_lines)\n",
    "            \n",
    " "
   ]
  },
  {
   "cell_type": "code",
   "execution_count": 14,
   "metadata": {},
   "outputs": [
    {
     "name": "stdout",
     "output_type": "stream",
     "text": [
      "/home/ubuntu/cs224u/processed_10_1k_mymodel/processed_combine_all/combine_test_list.txt\n",
      "['/home/ubuntu/cs224u/processed_10_1k_mymodel/processed_relationships/relationships_test_list.txt']\n",
      "['/home/ubuntu/cs224u/processed_10_1k_mymodel/processed_legaladvice/legaladvice_test_list.txt']\n",
      "['/home/ubuntu/cs224u/processed_10_1k_mymodel/processed_nfl/nfl_test_list.txt']\n",
      "['/home/ubuntu/cs224u/processed_10_1k_mymodel/processed_pettyrevenge/pettyrevenge_test_list.txt']\n",
      "['/home/ubuntu/cs224u/processed_10_1k_mymodel/processed_atheismbot/atheismbot_test_list.txt']\n",
      "['/home/ubuntu/cs224u/processed_10_1k_mymodel/processed_ShouldIbuythisgame/ShouldIbuythisgame_test_list.txt']\n",
      "['/home/ubuntu/cs224u/processed_10_1k_mymodel/processed_ukpolitics/ukpolitics_test_list.txt']\n",
      "['/home/ubuntu/cs224u/processed_10_1k_mymodel/processed_Dogtraining/Dogtraining_test_list.txt']\n",
      "['/home/ubuntu/cs224u/processed_10_1k_mymodel/processed_AskHistorians/AskHistorians_test_list.txt']\n",
      "['/home/ubuntu/cs224u/processed_10_1k_mymodel/processed_Anxiety/Anxiety_test_list.txt']\n"
     ]
    }
   ],
   "source": [
    "# combine all subreddit_train_list.txt data into a combine_train_list.txt\n",
    "# create a result outfile name combine_train_list.txt\n",
    "# combine_train_list.txt\n",
    "\n",
    "combine_train = os.path.join(dst, \"combine_test_list.txt\")\n",
    "print(combine_train)\n",
    "\n",
    "#\"/home/ubuntu/cs224u/processed_10_1k/processed_\" + input_subreddit+ \"/\"+input_subreddit+\"_train_list.txt\"\n",
    "\n",
    "for i in range(len(SubReddits_to_include_10)):\n",
    "    # add all information into the processed_combine_all file from \n",
    "    input_subreddit = SubReddits_to_include_10[i]\n",
    "    read_files = glob.glob(\"/home/ubuntu/cs224u/processed_10_1k_mymodel/processed_\" + input_subreddit+ \"/\"+input_subreddit+\"_test_list.txt\")\n",
    "    print(read_files)\n",
    "    combine_train = os.path.join(dst, \"combine_test_list.txt\")\n",
    "    with open(combine_train, \"a\") as outfile:\n",
    "        for f in read_files:\n",
    "            with open(f, \"rb\") as infile:\n",
    "                outfile.writelines(infile.read())\n",
    "        outfile.writelines(\"\\n\")\n",
    "    #    num_lines = sum(1 for line in open(\"/home/ubuntu/cs224u/processed_10_1k/processed_combine_all/combine_all_story/combine_test_list.txt\"))\n",
    "    #    print(num_lines)\n",
    "            \n",
    " "
   ]
  },
  {
   "cell_type": "code",
   "execution_count": 38,
   "metadata": {},
   "outputs": [
    {
     "name": "stdout",
     "output_type": "stream",
     "text": [
      "1193\n",
      "1189\n",
      "1115\n",
      "1171\n",
      "1199\n",
      "1119\n",
      "1159\n",
      "1191\n",
      "1171\n",
      "1184\n"
     ]
    }
   ],
   "source": [
    "# test the size \n",
    "for i in range(len(SubReddits_to_include_10)):\n",
    "    # add all information into the processed_combine_all file from \n",
    "    input_subreddit = SubReddits_to_include_10[i]\n",
    "    list = os.listdir(\"/home/ubuntu/cs224u/processed_10_1k/processed_\"+input_subreddit+'/'+input_subreddit+'_story') # dir is your directory path\n",
    "    number_files = len(list)\n",
    "    print number_files"
   ]
  },
  {
   "cell_type": "code",
   "execution_count": 40,
   "metadata": {},
   "outputs": [
    {
     "data": {
      "text/plain": [
       "11691"
      ]
     },
     "execution_count": 40,
     "metadata": {},
     "output_type": "execute_result"
    }
   ],
   "source": [
    "1193+1189+1115+1171+1199+1119+1159+1191+1171+1184"
   ]
  },
  {
   "cell_type": "code",
   "execution_count": null,
   "metadata": {},
   "outputs": [],
   "source": []
  },
  {
   "cell_type": "code",
   "execution_count": null,
   "metadata": {},
   "outputs": [],
   "source": []
  },
  {
   "cell_type": "code",
   "execution_count": null,
   "metadata": {},
   "outputs": [],
   "source": []
  },
  {
   "cell_type": "code",
   "execution_count": null,
   "metadata": {},
   "outputs": [],
   "source": []
  },
  {
   "cell_type": "code",
   "execution_count": null,
   "metadata": {},
   "outputs": [],
   "source": []
  },
  {
   "cell_type": "markdown",
   "metadata": {},
   "source": [
    "# create a baseline result for the test set"
   ]
  },
  {
   "cell_type": "code",
   "execution_count": null,
   "metadata": {},
   "outputs": [],
   "source": [
    "# create the directory to the corresponding baseline result\n",
    "make_dir = '/home/ubuntu/cs224u/processed_' +input_subreddit+'/baseline' \n",
    "os.mkdir(make_dir)"
   ]
  },
  {
   "cell_type": "code",
   "execution_count": null,
   "metadata": {},
   "outputs": [],
   "source": [
    "make_dec_dir = make_dir + '/decoded'\n",
    "os.mkdir(make_dec_dir)\n",
    "\n",
    "make_ref_dir = make_dir + '/reference'\n",
    "os.mkdir(make_ref_dir)"
   ]
  },
  {
   "cell_type": "code",
   "execution_count": null,
   "metadata": {},
   "outputs": [],
   "source": [
    "# get the name of the test list\n",
    "test_name_list = [x[:-6] for x in test_list]\n",
    "test_name_list"
   ]
  },
  {
   "cell_type": "code",
   "execution_count": null,
   "metadata": {},
   "outputs": [],
   "source": [
    "reader = jsonlines.open(src)\n",
    "# create corresponding baseline summarization\n",
    "for dic in reader:\n",
    "    if(\"subreddit\" in dic.keys() and dic[\"subreddit\"] == input_subreddit and isEnglish(dic[\"content\"]) == True):\n",
    "        if(dic[\"id\"] in test_name_list):\n",
    "            print(dic[\"id\"])\n",
    "            create_baseline_summarization_file(dic, make_dec_dir)\n",
    "            create_reference_file(dic, make_ref_dir)\n",
    "        "
   ]
  },
  {
   "cell_type": "code",
   "execution_count": null,
   "metadata": {},
   "outputs": [],
   "source": []
  },
  {
   "cell_type": "markdown",
   "metadata": {},
   "source": [
    "# create an example.story (not relavant to here)"
   ]
  },
  {
   "cell_type": "code",
   "execution_count": null,
   "metadata": {},
   "outputs": [],
   "source": [
    "for dic in reader:\n",
    "    if(\"subreddit\" in dic.keys() and dic[\"subreddit\"] == \"AskReddit\" and isEnglish(dic[\"summary\"]) == True and  isEnglish(dic[\"content\"]) == True ):\n",
    "        print(dic)\n",
    "        break"
   ]
  },
  {
   "cell_type": "code",
   "execution_count": null,
   "metadata": {},
   "outputs": [],
   "source": [
    "dic[\"content\"]"
   ]
  },
  {
   "cell_type": "code",
   "execution_count": null,
   "metadata": {},
   "outputs": [],
   "source": [
    "len(dic[\"summary\"].split())"
   ]
  },
  {
   "cell_type": "code",
   "execution_count": null,
   "metadata": {},
   "outputs": [],
   "source": [
    "# cwd = os.getcwd()\n",
    "filename = os.path.join(cwd, \"example.story\")\n",
    "file1 = open(filename,\"w\")\n",
    "file1.writelines(dic[\"content\"]+'\\n')\n",
    "#file1.writelines('@hightlight \\n')\n",
    "#file1.writelines(input_dict['summary'])\n",
    "file1.close()"
   ]
  },
  {
   "cell_type": "code",
   "execution_count": null,
   "metadata": {},
   "outputs": [],
   "source": [
    "dic[\"content\"]"
   ]
  },
  {
   "cell_type": "code",
   "execution_count": null,
   "metadata": {},
   "outputs": [],
   "source": [
    "dic[\"summary\"]"
   ]
  }
 ],
 "metadata": {
  "kernelspec": {
   "display_name": "nlu",
   "language": "python",
   "name": "nlu"
  },
  "language_info": {
   "codemirror_mode": {
    "name": "ipython",
    "version": 2
   },
   "file_extension": ".py",
   "mimetype": "text/x-python",
   "name": "python",
   "nbconvert_exporter": "python",
   "pygments_lexer": "ipython2",
   "version": "2.7.16"
  }
 },
 "nbformat": 4,
 "nbformat_minor": 2
}
