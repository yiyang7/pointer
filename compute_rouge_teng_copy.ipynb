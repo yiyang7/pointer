{
 "cells": [
  {
   "cell_type": "code",
   "execution_count": 1,
   "metadata": {},
   "outputs": [],
   "source": [
    "from os import listdir\n",
    "from os.path import isfile, join\n",
    "from sumeval.metrics.rouge import RougeCalculator\n",
    "import numpy as np\n",
    "import matplotlib.pyplot as plt"
   ]
  },
  {
   "cell_type": "markdown",
   "metadata": {},
   "source": [
    "# example"
   ]
  },
  {
   "cell_type": "code",
   "execution_count": 2,
   "metadata": {},
   "outputs": [
    {
     "name": "stdout",
     "output_type": "stream",
     "text": [
      "ROUGE-1: 0.5\n",
      "ROUGE-2: 0.4\n",
      "ROUGE-L: 0.6666666666666666\n",
      "ROUGE-BE: 0.4\n"
     ]
    }
   ],
   "source": [
    "\n",
    "from sumeval.metrics.rouge import RougeCalculator\n",
    "rouge = RougeCalculator(stopwords=True, lang=\"en\")\n",
    "\n",
    "rouge_1 = rouge.rouge_n(\n",
    "            summary=\"I went to the Mars from my living town.\",\n",
    "            references=\"I went to Mars\",\n",
    "            n=1)\n",
    "\n",
    "rouge_2 = rouge.rouge_n(\n",
    "            summary=\"I went to the Mars from my living town.\",\n",
    "            references=[\"I went to Mars\", \"It's my living town\"],\n",
    "            n=2)\n",
    "\n",
    "rouge_l = rouge.rouge_l(\n",
    "            summary=\"I went to the Mars from my living town.\",\n",
    "            references=[\"I went to Mars\", \"It's my living town\"])\n",
    "\n",
    "# You need spaCy to calculate ROUGE-BE\n",
    "\n",
    "rouge_be = rouge.rouge_be(\n",
    "            summary=\"I went to the Mars from my living town.\",\n",
    "            references=[\"I went to Mars\", \"It's my living town\"])\n",
    "\n",
    "print(\"ROUGE-1: {}, ROUGE-2: {}, ROUGE-L: {}, ROUGE-BE: {}\".format(\n",
    "    rouge_1, rouge_2, rouge_l, rouge_be\n",
    ").replace(\", \", \"\\n\"))\n",
    "    "
   ]
  },
  {
   "cell_type": "code",
   "execution_count": 15,
   "metadata": {},
   "outputs": [],
   "source": [
    "# relationship small dataset\n",
    "path_pre = \"/home/ubuntu/cs224u/processed_relationships/baseline\"\n",
    "ref_path = path_pre + '/reference'\n",
    "reference_files = [f for f in listdir(ref_path) if isfile(join(ref_path, f))]\n",
    "dec_path = path_pre + '/decoded'\n",
    "decoded_files = [f for f in listdir(dec_path) if isfile(join(dec_path, f))]\n"
   ]
  },
  {
   "cell_type": "code",
   "execution_count": 3,
   "metadata": {},
   "outputs": [
    {
     "data": {
      "text/plain": [
       "['t3_4bcuhi_reference.txt',\n",
       " 't3_3yzftu_reference.txt',\n",
       " '6ejvy9_reference.txt',\n",
       " 'd5axozy_reference.txt',\n",
       " 't3_29tth3_reference.txt',\n",
       " 'di3h5hh_reference.txt',\n",
       " 'd62d0ho_reference.txt',\n",
       " '64tr5t_reference.txt',\n",
       " 't3_1udtww_reference.txt']"
      ]
     },
     "execution_count": 3,
     "metadata": {},
     "output_type": "execute_result"
    }
   ],
   "source": [
    "reference_files"
   ]
  },
  {
   "cell_type": "code",
   "execution_count": null,
   "metadata": {},
   "outputs": [],
   "source": []
  },
  {
   "cell_type": "code",
   "execution_count": 2,
   "metadata": {},
   "outputs": [],
   "source": [
    "def computeRougeScore(path_pre, alpha_input = 0.5, consider_first = 0, if_rouge_be = False, \n",
    "                      random_test = True,\n",
    "                      first_str_in_ref = 0, print_progress = False, print_result = False,\n",
    "                     ref_folder = '/reference/', decode_folder = '/decoded/', \n",
    "                     look_at_subred = None, file_to_subred_mapping = None):\n",
    "    '''\n",
    "    input: a working directory indicate where the reference and decode files are\n",
    "    '''\n",
    "    # setup working directory\n",
    "    ref_path = path_pre + ref_folder\n",
    "    dec_path = path_pre + decode_folder\n",
    "    \n",
    "    if look_at_subred is not None and file_to_subred_mapping is not None :\n",
    "        reference_files = [f for f in listdir(ref_path) if isfile(join(ref_path, f)) and \n",
    "                          file_to_subred_mapping[f[:6]] == look_at_subred]\n",
    "        reference_files.sort()\n",
    "        #reference_files = reference_files[:5000]: to deal with the large AskReddit Dataset\n",
    "        decoded_files = [f for f in listdir(dec_path) if isfile(join(dec_path, f)) and \n",
    "                          file_to_subred_mapping[f[:6]] == look_at_subred]\n",
    "        decoded_files.sort()\n",
    "        #decoded_files = decoded_files[:5000]: to deal with the large AskReddit Dataset\n",
    "    else:\n",
    "        reference_files = [f for f in listdir(ref_path) if isfile(join(ref_path, f))]\n",
    "        reference_files.sort()\n",
    "        #reference_files = reference_files[:5000]: to deal with the large AskReddit Dataset\n",
    "        decoded_files = [f for f in listdir(dec_path) if isfile(join(dec_path, f))]\n",
    "        decoded_files.sort()\n",
    "        #decoded_files = decoded_files[:5000]: to deal with the large AskReddit Dataset\n",
    "    \n",
    "    \n",
    "    rouge = RougeCalculator(stopwords=False, lang=\"en\")\n",
    "#     if consider_first:\n",
    "#         reference_files = reference_files[:consider_first]\n",
    "#         decoded_files = decoded_files[:consider_first]\n",
    "    num_file = len(reference_files)\n",
    "    \n",
    "    # select random(or first) part of the data \n",
    "    if random_test and consider_first > 0:\n",
    "        chosen_index = np.random.choice(num_file, consider_first, replace = False)\n",
    "    elif consider_first > 0:\n",
    "        chosen_index = np.arange(consider_first)\n",
    "    else:\n",
    "        chosen_index = np.arange(num_file)\n",
    "    \n",
    "    num_file = len(chosen_index)\n",
    "    \n",
    "    rouge_1 = np.zeros(num_file)\n",
    "    rouge_2 = np.zeros(num_file)\n",
    "    rouge_l = np.zeros(num_file)\n",
    "    rouge_be = np.zeros(num_file)\n",
    "    \n",
    "    \n",
    "    for i, indx in enumerate(chosen_index):\n",
    "        \n",
    "        if i % 500 == 0 and print_progress:\n",
    "            print('calculating i, finished', i/num_file)\n",
    "            \n",
    "        f_ref = open(ref_path + reference_files[indx], 'r').read()\n",
    "#         print(f_ref[:10])\n",
    "        if first_str_in_ref:\n",
    "            f_ref = f_ref[:int(len(f_ref) * first_str_in_ref)]\n",
    "        f_decode = open( dec_path + decoded_files[indx], 'r').read()\n",
    "#         print(reference_files[i], decoded_files[i])\n",
    "        rouge_1[i] = rouge.rouge_n(\n",
    "            summary=f_decode,\n",
    "            references=f_ref,\n",
    "            n=1,alpha = alpha_input)\n",
    "\n",
    "        rouge_2[i] = rouge.rouge_n(\n",
    "            summary=f_decode,\n",
    "            references=f_ref,\n",
    "            n=2, alpha = alpha_input)\n",
    "\n",
    "        rouge_l[i] = rouge.rouge_l(\n",
    "            summary=f_decode,\n",
    "            references=f_ref,alpha = alpha_input)\n",
    "        \n",
    "        if if_rouge_be:\n",
    "            rouge_be[i] = rouge.rouge_be(\n",
    "                summary=f_decode,\n",
    "                references=f_ref,alpha = alpha_input)\n",
    "\n",
    "    rouge_1_average = np.mean(rouge_1)    \n",
    "    rouge_2_average = np.mean(rouge_2)    \n",
    "    rouge_l_average = np.mean(rouge_l)\n",
    "    if print_result:\n",
    "        print(\"in total \", len(chosen_index), \"examples\")\n",
    "        print(\"rouge_1_average score:\", rouge_1_average)\n",
    "        print(\"rouge_2_average score:\", rouge_2_average)\n",
    "        print(\"rouge_l_average score:\", rouge_l_average)\n",
    "    \n",
    "    if if_rouge_be:\n",
    "        rouge_be_average = np.mean(rouge_be)\n",
    "        print(\"rouge_be_average score:\", rouge_be_average)   \n",
    "        return [rouge_1_average, rouge_2_average, rouge_l_average, rouge_be_average]\n",
    "    \n",
    "    return [rouge_1_average, rouge_2_average, rouge_l_average]"
   ]
  },
  {
   "cell_type": "code",
   "execution_count": 32,
   "metadata": {},
   "outputs": [
    {
     "name": "stdout",
     "output_type": "stream",
     "text": [
      "rouge_1_average score: 0.17448384037694867\n",
      "rouge_2_average score: 0.028741521495144688\n",
      "rouge_l_average score: 0.12528579276117954\n",
      "rouge_be_average score: 0.05478750640040962\n"
     ]
    }
   ],
   "source": [
    "# relationship small dataset\n",
    "path_pre = \"/home/ubuntu/cs224u/processed_relationships/baseline\"\n",
    "\n",
    "\n",
    "computeRougeScore(path_pre,alpha_input = 0.5) # return: precision, recall, f1"
   ]
  },
  {
   "cell_type": "code",
   "execution_count": 120,
   "metadata": {},
   "outputs": [
    {
     "name": "stdout",
     "output_type": "stream",
     "text": [
      "in total  4459 examples\n",
      "rouge_1_average score: 0.14524432050248826\n",
      "rouge_2_average score: 0.0262261693517867\n",
      "rouge_l_average score: 0.10016417609387036\n"
     ]
    },
    {
     "data": {
      "text/plain": [
       "[0.14524432050248826, 0.0262261693517867, 0.10016417609387036]"
      ]
     },
     "execution_count": 120,
     "metadata": {},
     "output_type": "execute_result"
    }
   ],
   "source": [
    "# pretrained model\n",
    "path_pre = '/home/ubuntu/cs224u/pointer/log/pretrained_model/decode_test_400maxenc_4beam_35mindec_120maxdec_ckpt-238410'\n",
    "computeRougeScore(path_pre,alpha_input = 0.5, print_result=True) # return: rouge1 rouge2, rougel\n",
    "# computeRougeScore(path_pre, alpha_input = 0.5, ref_folder = '/content/', decode_folder = '/reference/')"
   ]
  },
  {
   "cell_type": "code",
   "execution_count": 34,
   "metadata": {},
   "outputs": [
    {
     "name": "stdout",
     "output_type": "stream",
     "text": [
      "rouge_1_average score: 0.13774893754386922\n",
      "rouge_2_average score: 0.031008597706054207\n",
      "rouge_l_average score: 0.10987995815993751\n",
      "rouge_be_average score: 0.02278000647831357\n"
     ]
    }
   ],
   "source": [
    "# our training\n",
    "path_pre = '/home/ubuntu/cs224u/pointer/log/reddit_exp/decode_test_400maxenc_4beam_35mindec_120maxdec_ckpt-39995_cov_init_cov_init'\n",
    "\n",
    "computeRougeScore(path_pre,alpha_input = 0.5)"
   ]
  },
  {
   "cell_type": "code",
   "execution_count": 37,
   "metadata": {},
   "outputs": [
    {
     "name": "stdout",
     "output_type": "stream",
     "text": [
      "rouge_1_average score: 0.1518306825952093\n",
      "rouge_2_average score: 0.027848149178214408\n",
      "rouge_l_average score: 0.10711039495037253\n",
      "rouge_be_average score: 0.027821014579900872\n"
     ]
    }
   ],
   "source": [
    "# lead-3 baseline\n",
    "path_pre = '../AskReddit_baseline_summarization'\n",
    "\n",
    "computeRougeScore(path_pre,alpha_input = 0.5)"
   ]
  },
  {
   "cell_type": "code",
   "execution_count": 3,
   "metadata": {},
   "outputs": [
    {
     "name": "stdout",
     "output_type": "stream",
     "text": [
      "in total  119 examples\n",
      "rouge_1_average score: 0.15243363615360483\n",
      "rouge_2_average score: 0.02640599118214271\n",
      "rouge_l_average score: 0.11181573118002303\n"
     ]
    },
    {
     "data": {
      "text/plain": [
       "[0.15243363615360483, 0.02640599118214271, 0.11181573118002303]"
      ]
     },
     "execution_count": 3,
     "metadata": {},
     "output_type": "execute_result"
    }
   ],
   "source": [
    "# pretrained on relationships\n",
    "\n",
    "path_pre = './log/pretrained_relationships_exp/decode_test_400maxenc_4beam_35mindec_120maxdec_ckpt-238410_cov_init_cov_init'\n",
    "\n",
    "computeRougeScore(path_pre,alpha_input = 0.5,  if_rouge_be=False, consider_first=0, random_test=False, print_result=True)\n",
    "# computeRougeScore(path_pre, alpha_input = 0.99,  consider_first=1000, \n",
    "#                   ref_folder = '/content/', decode_folder = '/decoded/',\n",
    "#                  print_result=True)"
   ]
  },
  {
   "cell_type": "code",
   "execution_count": 5,
   "metadata": {},
   "outputs": [
    {
     "name": "stdout",
     "output_type": "stream",
     "text": [
      "in total  119 examples\n",
      "rouge_1_average score: 0.20289855193474882\n",
      "rouge_2_average score: 0.05666682703407628\n",
      "rouge_l_average score: 0.1569817754930441\n"
     ]
    },
    {
     "data": {
      "text/plain": [
       "[0.20289855193474882, 0.05666682703407628, 0.1569817754930441]"
      ]
     },
     "execution_count": 5,
     "metadata": {},
     "output_type": "execute_result"
    }
   ],
   "source": [
    "# full tuned on relationships\n",
    "\n",
    "path_pre = './log/pretrained_full_tune_relationships_exp/decode_test_400maxenc_4beam_35mindec_120maxdec_ckpt-238965_cov_init'\n",
    "\n",
    "computeRougeScore(path_pre,alpha_input = 0.5,  if_rouge_be=False, consider_first=0, random_test=False, print_result=True)\n",
    "# computeRougeScore(path_pre, alpha_input = 0.99,  consider_first=1000, \n",
    "#                   ref_folder = '/reference/', decode_folder = '/decoded/',\n",
    "#                  print_result=True)"
   ]
  },
  {
   "cell_type": "code",
   "execution_count": 7,
   "metadata": {
    "scrolled": true
   },
   "outputs": [
    {
     "name": "stdout",
     "output_type": "stream",
     "text": [
      "in total  119 examples\n",
      "rouge_1_average score: 0.210399892937429\n",
      "rouge_2_average score: 0.061066517631897736\n",
      "rouge_l_average score: 0.16126166888240775\n"
     ]
    },
    {
     "data": {
      "text/plain": [
       "[0.210399892937429, 0.061066517631897736, 0.16126166888240775]"
      ]
     },
     "execution_count": 7,
     "metadata": {},
     "output_type": "execute_result"
    }
   ],
   "source": [
    "# fine tuned on relationships\n",
    "\n",
    "path_pre = './log/pretrained_fine_tune_relationships_exp/decode_test_400maxenc_4beam_35mindec_120maxdec_ckpt-238949_cov_init'\n",
    "\n",
    "computeRougeScore(path_pre,alpha_input = 0.5,  if_rouge_be=False, consider_first=0, random_test=False, print_result=True)\n",
    "# computeRougeScore(path_pre, alpha_input = 0.99,  consider_first=1000, \n",
    "#                   ref_folder = '/reference/', decode_folder = '/decoded/',\n",
    "#                  print_result=True)"
   ]
  },
  {
   "cell_type": "code",
   "execution_count": null,
   "metadata": {},
   "outputs": [],
   "source": [
    "# pretrain v.s. full tune v.s. fine tune on relationship 1000\n",
    "# pretrain\n",
    "rouge_1_average score: 0.15243363615360483\n",
    "rouge_2_average score: 0.02640599118214271\n",
    "rouge_l_average score: 0.11181573118002303\n",
    "    \n",
    "# pretrain + full tune\n",
    "rouge_1_average score: 0.20289855193474882\n",
    "rouge_2_average score: 0.05666682703407628\n",
    "rouge_l_average score: 0.1569817754930441\n",
    "    \n",
    "# pretrain + fine tune\n",
    "rouge_1_average score: 0.210399892937429\n",
    "rouge_2_average score: 0.061066517631897736\n",
    "rouge_l_average score: 0.16126166888240775"
   ]
  },
  {
   "cell_type": "code",
   "execution_count": 3,
   "metadata": {},
   "outputs": [
    {
     "name": "stdout",
     "output_type": "stream",
     "text": [
      "in total  1165 examples\n",
      "rouge_1_average score: 0.1285903161542736\n",
      "rouge_2_average score: 0.024403407513581533\n",
      "rouge_l_average score: 0.10796030216648057\n"
     ]
    },
    {
     "data": {
      "text/plain": [
       "[0.1285903161542736, 0.024403407513581533, 0.10796030216648057]"
      ]
     },
     "execution_count": 3,
     "metadata": {},
     "output_type": "execute_result"
    }
   ],
   "source": [
    "# our model on 10_1000\n",
    "\n",
    "path_pre = '/home/ubuntu/cs224u/pointer/log/mymodel_combine_all_exp_hidden_64_emb_32_batch_16_max_enc_steps_300_max_dec_steps_50_min_dec_steps_10_lr_0.15/decode_test_400maxenc_4beam_10mindec_120maxdec_ckpt-17436_cov_init'\n",
    "\n",
    "computeRougeScore(path_pre,alpha_input = 0.5,  if_rouge_be=False, consider_first=0, random_test=False, print_result=True)\n",
    "# computeRougeScore(path_pre, alpha_input = 0.99,  consider_first=1000,\n",
    "#                   first_str_in_ref=200, ref_folder = '/content/', decode_folder = '/reference/')"
   ]
  },
  {
   "cell_type": "code",
   "execution_count": 18,
   "metadata": {},
   "outputs": [],
   "source": [
    "def make_decode_to_sub_mapping(story_list_dir, combined_decoded_dir, subreddit_names):\n",
    "\n",
    "    text_file = open(story_list_dir, \"r\")\n",
    "    story_file_list = [ l for l in text_file.read().split('\\n')][:-1]\n",
    "\n",
    "    decoded_file_list =  [f.split('.')[0] for f in listdir(combined_decoded_dir) if isfile(join(combined_decoded_dir, f))]\n",
    "\n",
    "    decode_to_sub_mapping = {}\n",
    "\n",
    "    for sub in subreddit_names:\n",
    "        for story_name, decode_name in zip(story_file_list, decoded_file_list):\n",
    "            if sub in story_name:\n",
    "                decode_to_sub_mapping[decode_name[:6]] = sub\n",
    "    return decode_to_sub_mapping\n",
    "\n",
    "# decoded_file_list.sort()"
   ]
  },
  {
   "cell_type": "code",
   "execution_count": 19,
   "metadata": {},
   "outputs": [],
   "source": [
    "decode_to_sub_mapping = make_decode_to_sub_mapping(story_list_dir, combined_decoded_dir, subreddit_names)"
   ]
  },
  {
   "cell_type": "code",
   "execution_count": 29,
   "metadata": {
    "scrolled": false
   },
   "outputs": [
    {
     "name": "stdout",
     "output_type": "stream",
     "text": [
      "relationships  result::::::::::\n",
      "in total  119 examples\n",
      "rouge_1_average score: 0.15849781168550597\n",
      "rouge_2_average score: 0.03153210421509397\n",
      "rouge_l_average score: 0.13055311691809487\n",
      "legaladvice  result::::::::::\n",
      "in total  118 examples\n",
      "rouge_1_average score: 0.15622263357211644\n",
      "rouge_2_average score: 0.03729189839674535\n",
      "rouge_l_average score: 0.1283764848845192\n",
      "nfl  result::::::::::\n",
      "in total  111 examples\n",
      "rouge_1_average score: 0.1539894897630392\n",
      "rouge_2_average score: 0.04105680241121961\n",
      "rouge_l_average score: 0.12900942325628725\n",
      "pettyrevenge  result::::::::::\n",
      "in total  117 examples\n",
      "rouge_1_average score: 0.1644951245475429\n",
      "rouge_2_average score: 0.04984337324515147\n",
      "rouge_l_average score: 0.14145267667381425\n",
      "atheismbot  result::::::::::\n",
      "in total  119 examples\n",
      "rouge_1_average score: 0.1571537579703957\n",
      "rouge_2_average score: 0.03920384350326892\n",
      "rouge_l_average score: 0.13166941406772317\n",
      "ShouldIbuythisgame  result::::::::::\n",
      "in total  111 examples\n",
      "rouge_1_average score: 0.15172990403432773\n",
      "rouge_2_average score: 0.03506742871292763\n",
      "rouge_l_average score: 0.12348318747323721\n",
      "ukpolitics  result::::::::::\n",
      "in total  115 examples\n",
      "rouge_1_average score: 0.15687670016862013\n",
      "rouge_2_average score: 0.04327569158156575\n",
      "rouge_l_average score: 0.13489915273989123\n",
      "Dogtraining  result::::::::::\n",
      "in total  119 examples\n",
      "rouge_1_average score: 0.1717009002270078\n",
      "rouge_2_average score: 0.04432977952547905\n",
      "rouge_l_average score: 0.14195614338370333\n",
      "AskHistorians  result::::::::::\n",
      "in total  117 examples\n",
      "rouge_1_average score: 0.16329025766592856\n",
      "rouge_2_average score: 0.037926022560049934\n",
      "rouge_l_average score: 0.14206103637249606\n",
      "Anxiety  result::::::::::\n",
      "in total  118 examples\n",
      "rouge_1_average score: 0.14716518279081744\n",
      "rouge_2_average score: 0.025920460803558268\n",
      "rouge_l_average score: 0.12258872127411916\n"
     ]
    }
   ],
   "source": [
    "# print the individual result of the combined training\n",
    "story_list_dir = '/home/ubuntu/cs224u/processed_10_1k/processed_combine_all/combine_test_list.txt'\n",
    "combined_decoded_dir = '/home/ubuntu/cs224u/pointer/log/combine_all_exp/decode_test_400maxenc_4beam_10mindec_120maxdec_ckpt-17502_cov_init/decoded'\n",
    "\n",
    "subreddit_names = ['relationships', 'legaladvice', 'nfl',  'pettyrevenge', 'atheismbot', \n",
    "                            'ShouldIbuythisgame', 'ukpolitics', 'Dogtraining',  'AskHistorians', 'Anxiety']\n",
    "\n",
    "decode_to_sub_mapping = make_decode_to_sub_mapping(story_list_dir, combined_decoded_dir, subreddit_names)\n",
    "\n",
    "path_pre = '/home/ubuntu/cs224u/pointer/log/combine_all_exp/decode_test_400maxenc_4beam_10mindec_120maxdec_ckpt-17502_cov_init'\n",
    "\n",
    "SubReddits_to_include_10 = [ 'relationships', 'legaladvice', 'nfl',  'pettyrevenge', 'atheismbot', \n",
    "                            'ShouldIbuythisgame', 'ukpolitics', 'Dogtraining',  'AskHistorians', 'Anxiety']\n",
    "\n",
    "for sub in SubReddits_to_include_10:\n",
    "    print(sub, ' result::::::::::')\n",
    "    computeRougeScore(path_pre,alpha_input = 0.5,  if_rouge_be=False, consider_first=0, random_test=False, \n",
    "                  print_result=True, \n",
    "                 look_at_subred=sub, file_to_subred_mapping = decode_to_sub_mapping)\n",
    "\n"
   ]
  },
  {
   "cell_type": "code",
   "execution_count": 61,
   "metadata": {},
   "outputs": [
    {
     "name": "stdout",
     "output_type": "stream",
     "text": [
      "relationships  result::::::::::\n",
      "legaladvice  result::::::::::\n",
      "nfl  result::::::::::\n",
      "pettyrevenge  result::::::::::\n",
      "atheismbot  result::::::::::\n",
      "ShouldIbuythisgame  result::::::::::\n",
      "ukpolitics  result::::::::::\n",
      "Dogtraining  result::::::::::\n",
      "AskHistorians  result::::::::::\n",
      "Anxiety  result::::::::::\n"
     ]
    }
   ],
   "source": [
    "# print the individual result of the combined training\n",
    "story_list_dir = '/home/ubuntu/cs224u/processed_10_1k/processed_combine_all/combine_test_list.txt'\n",
    "combined_decoded_dir = '/home/ubuntu/cs224u/pointer/log/combine_all_exp/decode_test_400maxenc_4beam_10mindec_120maxdec_ckpt-17502_cov_init/decoded'\n",
    "\n",
    "subreddit_names = ['relationships', 'legaladvice', 'nfl',  'pettyrevenge', 'atheismbot', \n",
    "                            'ShouldIbuythisgame', 'ukpolitics', 'Dogtraining',  'AskHistorians', 'Anxiety']\n",
    "\n",
    "decode_to_sub_mapping = make_decode_to_sub_mapping(story_list_dir, combined_decoded_dir, subreddit_names)\n",
    "\n",
    "path_pre = '/home/ubuntu/cs224u/pointer/log/mymodel_combine_all_exp_hidden_64_emb_32_batch_16_max_enc_steps_300_max_dec_steps_50_min_dec_steps_10_lr_0.15/decode_test_400maxenc_4beam_10mindec_120maxdec_ckpt-17436_cov_init'\n",
    "\n",
    "SubReddits_to_include_10 = [ 'relationships', 'legaladvice', 'nfl',  'pettyrevenge', 'atheismbot', \n",
    "                            'ShouldIbuythisgame', 'ukpolitics', 'Dogtraining',  'AskHistorians', 'Anxiety']\n",
    "\n",
    "for sub in SubReddits_to_include_10:\n",
    "    print(sub, ' result::::::::::')\n",
    "    computeRougeScore(path_pre,alpha_input = 0.5,  if_rouge_be=False, consider_first=0, random_test=False, \n",
    "                      print_result=True, \n",
    "                     look_at_subred=sub, file_to_subred_mapping = decode_to_sub_mapping)\n",
    "\n"
   ]
  },
  {
   "cell_type": "code",
   "execution_count": 54,
   "metadata": {},
   "outputs": [
    {
     "name": "stdout",
     "output_type": "stream",
     "text": [
      "relationships  result::::::::::\n",
      "in total  119 examples\n",
      "rouge_1_average score: 0.15040356621771278\n",
      "rouge_2_average score: 0.025202959855291487\n",
      "rouge_l_average score: 0.10873971812008684\n",
      "legaladvice  result::::::::::\n",
      "in total  118 examples\n",
      "rouge_1_average score: 0.15863028452902894\n",
      "rouge_2_average score: 0.02933248383763507\n",
      "rouge_l_average score: 0.1080298889458904\n",
      "nfl  result::::::::::\n",
      "in total  111 examples\n",
      "rouge_1_average score: 0.15871224048227087\n",
      "rouge_2_average score: 0.027221915886211274\n",
      "rouge_l_average score: 0.11207939137194388\n",
      "pettyrevenge  result::::::::::\n",
      "in total  117 examples\n",
      "rouge_1_average score: 0.14804059298148514\n",
      "rouge_2_average score: 0.026215382377625728\n",
      "rouge_l_average score: 0.10179465680638504\n",
      "atheismbot  result::::::::::\n",
      "in total  119 examples\n",
      "rouge_1_average score: 0.16224971563912854\n",
      "rouge_2_average score: 0.032376212883578885\n",
      "rouge_l_average score: 0.11649625140352397\n",
      "ShouldIbuythisgame  result::::::::::\n",
      "in total  111 examples\n",
      "rouge_1_average score: 0.13872857406379258\n",
      "rouge_2_average score: 0.02609585732483627\n",
      "rouge_l_average score: 0.09833255303324746\n",
      "ukpolitics  result::::::::::\n",
      "in total  115 examples\n",
      "rouge_1_average score: 0.15513687368243434\n",
      "rouge_2_average score: 0.027020731058464635\n",
      "rouge_l_average score: 0.10587261666705397\n",
      "Dogtraining  result::::::::::\n",
      "in total  119 examples\n",
      "rouge_1_average score: 0.15538226375984232\n",
      "rouge_2_average score: 0.02950963994833494\n",
      "rouge_l_average score: 0.10844737429820861\n",
      "AskHistorians  result::::::::::\n",
      "in total  117 examples\n",
      "rouge_1_average score: 0.14266789013006165\n",
      "rouge_2_average score: 0.03192839531123992\n",
      "rouge_l_average score: 0.10145652267756067\n",
      "Anxiety  result::::::::::\n",
      "in total  118 examples\n",
      "rouge_1_average score: 0.173073955238508\n",
      "rouge_2_average score: 0.032973620646061234\n",
      "rouge_l_average score: 0.12026813284721645\n"
     ]
    }
   ],
   "source": [
    "# print the lead-2/3 results\n",
    "\n",
    "path_pre = '/home/ubuntu/cs224u/pointer/log/baseline-comebine_all_lead2/'\n",
    "\n",
    "SubReddits_to_include_10 = [ 'relationships', 'legaladvice', 'nfl',  'pettyrevenge', 'atheismbot', \n",
    "                            'ShouldIbuythisgame', 'ukpolitics', 'Dogtraining',  'AskHistorians', 'Anxiety']\n",
    "\n",
    "for sub in SubReddits_to_include_10:\n",
    "    print(sub, ' result::::::::::')\n",
    "    computeRougeScore(path_pre,alpha_input = 0.5,  if_rouge_be=False, consider_first=0, random_test=False, \n",
    "                  print_result=True, \n",
    "                 look_at_subred=sub, file_to_subred_mapping = decode_to_sub_mapping)\n"
   ]
  },
  {
   "cell_type": "code",
   "execution_count": 55,
   "metadata": {
    "scrolled": false
   },
   "outputs": [
    {
     "name": "stdout",
     "output_type": "stream",
     "text": [
      "relationships  result::::::::::\n",
      "in total  119 examples\n",
      "rouge_1_average score: 0.15850538413733006\n",
      "rouge_2_average score: 0.02473623626526117\n",
      "rouge_l_average score: 0.10991903290275977\n",
      "legaladvice  result::::::::::\n",
      "in total  118 examples\n",
      "rouge_1_average score: 0.1773223556835235\n",
      "rouge_2_average score: 0.03084239317407503\n",
      "rouge_l_average score: 0.11304612337378775\n",
      "nfl  result::::::::::\n",
      "in total  111 examples\n",
      "rouge_1_average score: 0.1713479915001112\n",
      "rouge_2_average score: 0.030215757477078227\n",
      "rouge_l_average score: 0.11629813166433371\n",
      "pettyrevenge  result::::::::::\n",
      "in total  117 examples\n",
      "rouge_1_average score: 0.16588169706078407\n",
      "rouge_2_average score: 0.030900425453985882\n",
      "rouge_l_average score: 0.1110201885350039\n",
      "atheismbot  result::::::::::\n",
      "in total  119 examples\n",
      "rouge_1_average score: 0.1764058467899222\n",
      "rouge_2_average score: 0.03672801879786728\n",
      "rouge_l_average score: 0.12378297509035283\n",
      "ShouldIbuythisgame  result::::::::::\n",
      "in total  111 examples\n",
      "rouge_1_average score: 0.1595052591407454\n",
      "rouge_2_average score: 0.030717027664017037\n",
      "rouge_l_average score: 0.10918286356027262\n",
      "ukpolitics  result::::::::::\n",
      "in total  115 examples\n",
      "rouge_1_average score: 0.17878898050729497\n",
      "rouge_2_average score: 0.031229415219196945\n",
      "rouge_l_average score: 0.11744490958103292\n",
      "Dogtraining  result::::::::::\n",
      "in total  119 examples\n",
      "rouge_1_average score: 0.17148499998032685\n",
      "rouge_2_average score: 0.032552089589544295\n",
      "rouge_l_average score: 0.1167185841734324\n",
      "AskHistorians  result::::::::::\n",
      "in total  117 examples\n",
      "rouge_1_average score: 0.15733767183840827\n",
      "rouge_2_average score: 0.031628151945396026\n",
      "rouge_l_average score: 0.1076436821384361\n",
      "Anxiety  result::::::::::\n",
      "in total  118 examples\n",
      "rouge_1_average score: 0.18124919203142276\n",
      "rouge_2_average score: 0.03500458918049781\n",
      "rouge_l_average score: 0.11840220134934046\n"
     ]
    }
   ],
   "source": [
    "# print the lead-2/3 results\n",
    "\n",
    "path_pre = '/home/ubuntu/cs224u/pointer/log/baseline-comebine_all_lead3/'\n",
    "\n",
    "SubReddits_to_include_10 = [ 'relationships', 'legaladvice', 'nfl',  'pettyrevenge', 'atheismbot', \n",
    "                            'ShouldIbuythisgame', 'ukpolitics', 'Dogtraining',  'AskHistorians', 'Anxiety']\n",
    "\n",
    "for sub in SubReddits_to_include_10:\n",
    "    print(sub, ' result::::::::::')\n",
    "    computeRougeScore(path_pre,alpha_input = 0.5,  if_rouge_be=False, consider_first=0, random_test=False, \n",
    "                  print_result=True, \n",
    "                 look_at_subred=sub, file_to_subred_mapping = decode_to_sub_mapping)\n"
   ]
  },
  {
   "cell_type": "code",
   "execution_count": 5,
   "metadata": {},
   "outputs": [
    {
     "name": "stdout",
     "output_type": "stream",
     "text": [
      "combine_all result:::::::::\n",
      "in total  1164 examples\n",
      "rouge_1_average score: 0.15817978453330553\n",
      "rouge_2_average score: 0.038528688508180406\n",
      "rouge_l_average score: 0.13266524343571767\n",
      "relationships result:::::::::\n",
      "in total  119 examples\n",
      "rouge_1_average score: 0.12525299019225103\n",
      "rouge_2_average score: 0.025543781534426203\n",
      "rouge_l_average score: 0.112095598052901\n",
      "legaladvice result:::::::::\n",
      "in total  118 examples\n",
      "rouge_1_average score: 0.01720943504730226\n",
      "rouge_2_average score: 0.0007093199920169055\n",
      "rouge_l_average score: 0.015630173986726795\n",
      "nfl result:::::::::\n",
      "in total  111 examples\n",
      "rouge_1_average score: 0.027012105816404664\n",
      "rouge_2_average score: 0.006144794518875825\n",
      "rouge_l_average score: 0.025154912207059177\n",
      "pettyrevenge result:::::::::\n",
      "in total  117 examples\n",
      "rouge_1_average score: 0.07683100233448827\n",
      "rouge_2_average score: 0.027478386869204337\n",
      "rouge_l_average score: 0.07539629782783977\n",
      "atheismbot result:::::::::\n",
      "in total  119 examples\n",
      "rouge_1_average score: 0.1704642067002566\n",
      "rouge_2_average score: 0.08164719430292318\n",
      "rouge_l_average score: 0.1521278414283474\n",
      "ShouldIbuythisgame result:::::::::\n",
      "in total  111 examples\n",
      "rouge_1_average score: 0.10223104556569558\n",
      "rouge_2_average score: 0.0041087641363249895\n",
      "rouge_l_average score: 0.0860155325152653\n",
      "ukpolitics result:::::::::\n",
      "in total  115 examples\n",
      "rouge_1_average score: 0.033739787644274204\n",
      "rouge_2_average score: 0.00012882447665056362\n",
      "rouge_l_average score: 0.03180999097455697\n",
      "Dogtraining result:::::::::\n",
      "in total  119 examples\n",
      "rouge_1_average score: 0.1543734982069903\n",
      "rouge_2_average score: 0.014079800518490929\n",
      "rouge_l_average score: 0.13668641658235928\n",
      "AskHistorians result:::::::::\n",
      "in total  117 examples\n",
      "rouge_1_average score: 0.08273060441330628\n",
      "rouge_2_average score: 0.00044984255510571296\n",
      "rouge_l_average score: 0.08191779163066297\n",
      "Anxiety result:::::::::\n",
      "in total  118 examples\n",
      "rouge_1_average score: 0.0904094495849223\n",
      "rouge_2_average score: 0.01032621380843723\n",
      "rouge_l_average score: 0.07605499432429981\n"
     ]
    }
   ],
   "source": [
    "# print the individual training and together training\n",
    "\n",
    "SubReddits_to_include_10 = ['combine_all', 'relationships', 'legaladvice', 'nfl',  'pettyrevenge', 'atheismbot', \n",
    "                            'ShouldIbuythisgame', 'ukpolitics', 'Dogtraining',  'AskHistorians', 'Anxiety']\n",
    "# exp_folder_dir = '/decode_test_400maxenc_4beam_10mindec_120maxdec_ckpt-1757_cov_init'\n",
    "\n",
    "for sub in SubReddits_to_include_10:\n",
    "    print(sub,'result:::::::::')\n",
    "    ref_path = '/home/ubuntu/cs224u/pointer/log/' + sub + '_exp'\n",
    "    sub_folder = [f for f in listdir(ref_path) if f[0] == 'd'][0]\n",
    "    path_pre = '/home/ubuntu/cs224u/pointer/log/' + sub + '_exp/' + sub_folder\n",
    "    computeRougeScore(path_pre,alpha_input = 0.5,  if_rouge_be=False, consider_first=0, random_test=False, print_result=True)\n"
   ]
  },
  {
   "cell_type": "code",
   "execution_count": 56,
   "metadata": {
    "scrolled": true
   },
   "outputs": [
    {
     "name": "stdout",
     "output_type": "stream",
     "text": [
      "fine_tune_exp_hidden_64_emb_32_batch_16_max_enc_steps_300_max_dec_steps_50_min_dec_steps_20_lr_0.03\n",
      "in total  1164 examples\n",
      "rouge_1_average score: 0.06029066446085742\n",
      "rouge_2_average score: 0.0003217797716831448\n",
      "rouge_l_average score: 0.05886041827459867\n",
      "fine_tune_exp_hidden_64_emb_32_batch_16_max_enc_steps_300_max_dec_steps_100_min_dec_steps_10_lr_0.03\n",
      "in total  1164 examples\n",
      "rouge_1_average score: 0.012944424411662075\n",
      "rouge_2_average score: 0.0\n",
      "rouge_l_average score: 0.012944424411662075\n",
      "fine_tune_exp_hidden_64_emb_32_batch_16_max_enc_steps_300_max_dec_steps_100_min_dec_steps_10_lr_0.3\n",
      "in total  1164 examples\n",
      "rouge_1_average score: 0.11260193583562358\n",
      "rouge_2_average score: 0.025486343518514868\n",
      "rouge_l_average score: 0.10215226619675451\n",
      "fine_tune_exp_hidden_64_emb_32_batch_16_max_enc_steps_300_max_dec_steps_50_min_dec_steps_20_lr_0.5\n",
      "in total  1164 examples\n",
      "rouge_1_average score: 0.14413197791721605\n",
      "rouge_2_average score: 0.02160925474391756\n",
      "rouge_l_average score: 0.11393097098653841\n",
      "fine_tune_exp_hidden_64_emb_32_batch_16_max_enc_steps_300_max_dec_steps_100_min_dec_steps_10_lr_0.05\n",
      "in total  1164 examples\n",
      "rouge_1_average score: 0.011057346180310491\n",
      "rouge_2_average score: 0.0\n",
      "rouge_l_average score: 0.010796459618736643\n",
      "fine_tune_exp_hidden_64_emb_32_batch_16_max_enc_steps_300_max_dec_steps_100_min_dec_steps_20_lr_0.5\n",
      "in total  1164 examples\n",
      "rouge_1_average score: 0.12887519855628374\n",
      "rouge_2_average score: 0.016384054643072833\n",
      "rouge_l_average score: 0.10972576912815489\n",
      "fine_tune_exp_hidden_64_emb_32_batch_16_max_enc_steps_300_max_dec_steps_50_min_dec_steps_10_lr_0.5\n",
      "in total  1164 examples\n",
      "rouge_1_average score: 0.14200238453541042\n",
      "rouge_2_average score: 0.020782177843411877\n",
      "rouge_l_average score: 0.12145665604721051\n",
      "fine_tune_exp_hidden_64_emb_32_batch_16_max_enc_steps_300_max_dec_steps_100_min_dec_steps_20_lr_0.03\n",
      "in total  1164 examples\n",
      "rouge_1_average score: 0.002812553145498518\n",
      "rouge_2_average score: 0.0\n",
      "rouge_l_average score: 0.002812553145498518\n",
      "fine_tune_exp_hidden_64_emb_32_batch_16_max_enc_steps_300_max_dec_steps_50_min_dec_steps_20_lr_0.1\n",
      "in total  1164 examples\n",
      "rouge_1_average score: 0.07199256500395587\n",
      "rouge_2_average score: 0.0008854524702003964\n",
      "rouge_l_average score: 0.0665828104074964\n",
      "fine_tune_exp_hidden_64_emb_32_batch_16_max_enc_steps_300_max_dec_steps_100_min_dec_steps_10_lr_0.5\n",
      "in total  1164 examples\n",
      "rouge_1_average score: 0.10441177412097861\n",
      "rouge_2_average score: 0.016691978193055363\n",
      "rouge_l_average score: 0.08677128772805069\n",
      "fine_tune_exp_hidden_64_emb_32_batch_16_max_enc_steps_300_max_dec_steps_100_min_dec_steps_20_lr_0.1\n",
      "in total  1164 examples\n",
      "rouge_1_average score: 0.03674124574934153\n",
      "rouge_2_average score: 0.0037001553294744288\n",
      "rouge_l_average score: 0.03553336466369825\n",
      "fine_tune_exp_hidden_64_emb_32_batch_16_max_enc_steps_300_max_dec_steps_100_min_dec_steps_20_lr_0.3\n",
      "in total  1164 examples\n",
      "rouge_1_average score: 0.11748067196052016\n",
      "rouge_2_average score: 0.0215134767468136\n",
      "rouge_l_average score: 0.09637473253784466\n",
      "fine_tune_exp_hidden_64_emb_32_batch_16_max_enc_steps_300_max_dec_steps_100_min_dec_steps_10_lr_0.1\n",
      "in total  1164 examples\n",
      "rouge_1_average score: 0.08288416169165094\n",
      "rouge_2_average score: 0.0002447498025327016\n",
      "rouge_l_average score: 0.07759740738859679\n",
      "fine_tune_exp_hidden_64_emb_32_batch_16_max_enc_steps_300_max_dec_steps_50_min_dec_steps_20_lr_0.3\n",
      "in total  1164 examples\n",
      "rouge_1_average score: 0.1010426058074482\n",
      "rouge_2_average score: 0.020035920598758167\n",
      "rouge_l_average score: 0.08658830873759826\n",
      "fine_tune_exp_hidden_64_emb_32_batch_16_max_enc_steps_300_max_dec_steps_50_min_dec_steps_10_lr_0.03\n",
      "in total  1164 examples\n",
      "rouge_1_average score: 0.000838751774155156\n",
      "rouge_2_average score: 0.0\n",
      "rouge_l_average score: 0.000838751774155156\n",
      "fine_tune_exp_hidden_64_emb_32_batch_16_max_enc_steps_300_max_dec_steps_100_min_dec_steps_20_lr_0.05\n",
      "in total  1164 examples\n",
      "rouge_1_average score: 0.0694314768060981\n",
      "rouge_2_average score: 0.0003269671177021417\n",
      "rouge_l_average score: 0.06715158291658349\n",
      "fine_tune_exp_hidden_64_emb_32_batch_16_max_enc_steps_300_max_dec_steps_50_min_dec_steps_10_lr_0.05\n",
      "in total  1164 examples\n",
      "rouge_1_average score: 0.06639854173664902\n",
      "rouge_2_average score: 0.00014081282700521635\n",
      "rouge_l_average score: 0.06260460930861143\n",
      "fine_tune_exp_hidden_64_emb_32_batch_16_max_enc_steps_300_max_dec_steps_50_min_dec_steps_10_lr_0.1\n",
      "in total  1164 examples\n",
      "rouge_1_average score: 0.04490252514311162\n",
      "rouge_2_average score: 0.0002291664288187904\n",
      "rouge_l_average score: 0.043730977375096694\n",
      "fine_tune_exp_hidden_64_emb_32_batch_16_max_enc_steps_300_max_dec_steps_50_min_dec_steps_10_lr_0.3\n",
      "in total  1164 examples\n",
      "rouge_1_average score: 0.075370486715865\n",
      "rouge_2_average score: 0.010182998983837612\n",
      "rouge_l_average score: 0.0621818845018397\n",
      "fine_tune_exp_hidden_64_emb_32_batch_16_max_enc_steps_300_max_dec_steps_50_min_dec_steps_20_lr_0.05\n",
      "in total  1164 examples\n",
      "rouge_1_average score: 0.07470373876686343\n",
      "rouge_2_average score: 0.0004014732782779418\n",
      "rouge_l_average score: 0.07037118475475111\n"
     ]
    }
   ],
   "source": [
    "# print the result of hyper-para searching\n",
    "ref_path = '/home/ubuntu/cs224u/pointer/log/'\n",
    "sub_folder = [f for f in listdir(ref_path) if 'fine_tune_exp_hidden' in f]\n",
    "for folder in sub_folder:\n",
    "    look_path = ref_path + folder\n",
    "    try:\n",
    "        exp_para_name = [f for f in listdir(look_path) if 'decode' in f][0]\n",
    "        path = look_path + '/' + exp_para_name\n",
    "        print(folder)\n",
    "        computeRougeScore(path,alpha_input = 0.5,  if_rouge_be=False, consider_first=0, random_test=False, print_result=True)\n",
    "    except:\n",
    "        print('!!!!no', folder)"
   ]
  },
  {
   "cell_type": "code",
   "execution_count": null,
   "metadata": {},
   "outputs": [],
   "source": []
  },
  {
   "cell_type": "code",
   "execution_count": 41,
   "metadata": {},
   "outputs": [
    {
     "data": {
      "text/plain": [
       "['decode_test_400maxenc_4beam_10mindec_120maxdec_ckpt-1757_cov_init']"
      ]
     },
     "execution_count": 41,
     "metadata": {},
     "output_type": "execute_result"
    }
   ],
   "source": [
    "ref_path = '/home/ubuntu/cs224u/pointer/log/' + sub + '_exp'\n",
    "[f for f in listdir(ref_path) if f[0] == 'd']"
   ]
  },
  {
   "cell_type": "code",
   "execution_count": 35,
   "metadata": {},
   "outputs": [
    {
     "name": "stdout",
     "output_type": "stream",
     "text": [
      "in total  2000 examples\n",
      "rouge_1_average score: 0.7444281817937951\n",
      "rouge_2_average score: 0.5003590780151564\n",
      "rouge_l_average score: 0.5965231043409077\n"
     ]
    },
    {
     "data": {
      "text/plain": [
       "[0.7444281817937951, 0.5003590780151564, 0.5965231043409077]"
      ]
     },
     "execution_count": 35,
     "metadata": {},
     "output_type": "execute_result"
    }
   ],
   "source": [
    "computeRougeScore(path_pre, alpha_input = 0.99,if_rouge_be=False, consider_first=2000, \n",
    "                  random_test=True, print_result=True,\n",
    "                  ref_folder = '/content/', decode_folder = '/decoded/')"
   ]
  },
  {
   "cell_type": "code",
   "execution_count": 9,
   "metadata": {},
   "outputs": [],
   "source": [
    "def plot_coverage(path_pre, consider_first, random_test = False, ref_folder = '/content/', decode_folder = '/reference/'):\n",
    "    str_length = [i *0.1 for i in range(1, 11)]\n",
    "    r_scores_ref = np.zeros([3, len(str_length)])\n",
    "    r_scores_dec = np.zeros([3, len(str_length)])\n",
    "    max_scores_ref = computeRougeScore(path_pre, alpha_input = 0.99,  consider_first=consider_first,\n",
    "                      first_str_in_ref=50000, random_test = random_test, \n",
    "                                       ref_folder = '/content/', decode_folder = '/reference/')\n",
    "    max_scores_dec = computeRougeScore(path_pre, alpha_input = 0.99,  consider_first=consider_first,\n",
    "                      first_str_in_ref=50000, random_test = random_test, \n",
    "                                       ref_folder = '/content/', decode_folder = '/decoded/')\n",
    "    for i, s in enumerate(str_length):\n",
    "        print('calculating ', i ,'/', len(str_length))\n",
    "        r_scores_ref[:, i]= computeRougeScore(path_pre, alpha_input = 0.99,  consider_first=consider_first,\n",
    "                      first_str_in_ref=s, random_test = random_test, \n",
    "                                              ref_folder = '/content/', decode_folder = '/reference/')\n",
    "        r_scores_dec[:, i]= computeRougeScore(path_pre, alpha_input = 0.99,  consider_first=consider_first,\n",
    "                      first_str_in_ref=s, random_test = random_test, \n",
    "                                              ref_folder = '/content/', decode_folder = '/decoded/')\n",
    "    #     r1_scores[0, i] = r1\n",
    "    r_scores_ref = r_scores_ref / np.array(max_scores_ref).reshape([3,1])\n",
    "    r_scores_dec = r_scores_dec / np.array(max_scores_dec).reshape([3,1])\n",
    "    \n",
    "    labels = ['rouge1', 'rouge2', 'rougel']\n",
    "    colors = ['red', 'green', 'blue']\n",
    "    for i in range(3):\n",
    "        plt.plot([0] + str_length, [0] + list(r_scores_ref[i]), color = colors[i], label = labels[i] + '_ref')\n",
    "        plt.plot([0] + str_length, [0] + list(r_scores_dec[i]), color = colors[i], ls = '--', label = labels[i] + '_dec')\n",
    "    plt.xlabel('Content Ratio')\n",
    "    plt.ylabel('Precision Ratio')\n",
    "    plt.legend()"
   ]
  },
  {
   "cell_type": "code",
   "execution_count": 12,
   "metadata": {
    "scrolled": false
   },
   "outputs": [
    {
     "name": "stdout",
     "output_type": "stream",
     "text": [
      "calculating  0 / 10\n",
      "calculating  1 / 10\n",
      "calculating  2 / 10\n",
      "calculating  3 / 10\n",
      "calculating  4 / 10\n",
      "calculating  5 / 10\n",
      "calculating  6 / 10\n",
      "calculating  7 / 10\n",
      "calculating  8 / 10\n",
      "calculating  9 / 10\n"
     ]
    },
    {
     "data": {
      "image/png": "[encoded data removed]",
      "text/plain": [
       "<Figure size 432x288 with 1 Axes>"
      ]
     },
     "metadata": {
      "needs_background": "light"
     },
     "output_type": "display_data"
    }
   ],
   "source": [
    "# pretrained on relationships\n",
    "\n",
    "path_pre = './log/pretrained_relationships_exp/decode_test_400maxenc_4beam_35mindec_120maxdec_ckpt-238410_cov_init_cov_init'\n",
    "\n",
    "consider_first = 100\n",
    "\n",
    "plot_coverage(path_pre, consider_first)"
   ]
  },
  {
   "cell_type": "code",
   "execution_count": 14,
   "metadata": {},
   "outputs": [
    {
     "name": "stdout",
     "output_type": "stream",
     "text": [
      "calculating  0 / 10\n",
      "calculating  1 / 10\n",
      "calculating  2 / 10\n",
      "calculating  3 / 10\n",
      "calculating  4 / 10\n",
      "calculating  5 / 10\n",
      "calculating  6 / 10\n",
      "calculating  7 / 10\n",
      "calculating  8 / 10\n",
      "calculating  9 / 10\n"
     ]
    },
    {
     "data": {
      "image/png": "[encoded data removed]",
      "text/plain": [
       "<Figure size 432x288 with 1 Axes>"
      ]
     },
     "metadata": {
      "needs_background": "light"
     },
     "output_type": "display_data"
    }
   ],
   "source": [
    "# fine-tuned on relationships\n",
    "\n",
    "path_pre = './log/pretrained_fine_tune_relationships_exp/decode_test_400maxenc_4beam_35mindec_120maxdec_ckpt-238949_cov_init'\n",
    "\n",
    "consider_first = 100\n",
    "\n",
    "plot_coverage(path_pre, consider_first)"
   ]
  },
  {
   "cell_type": "code",
   "execution_count": 15,
   "metadata": {
    "scrolled": false
   },
   "outputs": [
    {
     "name": "stdout",
     "output_type": "stream",
     "text": [
      "calculating  0 / 10\n",
      "calculating  1 / 10\n",
      "calculating  2 / 10\n",
      "calculating  3 / 10\n",
      "calculating  4 / 10\n",
      "calculating  5 / 10\n",
      "calculating  6 / 10\n",
      "calculating  7 / 10\n",
      "calculating  8 / 10\n",
      "calculating  9 / 10\n"
     ]
    },
    {
     "data": {
      "image/png": "[encoded data removed]",
      "text/plain": [
       "<Figure size 432x288 with 1 Axes>"
      ]
     },
     "metadata": {
      "needs_background": "light"
     },
     "output_type": "display_data"
    }
   ],
   "source": [
    "# post-trained on relationships\n",
    "\n",
    "path_pre = './log/pretrained_full_tune_relationships_exp/decode_test_400maxenc_4beam_35mindec_120maxdec_ckpt-238965_cov_init'\n",
    "\n",
    "consider_first = 100\n",
    "\n",
    "plot_coverage(path_pre, consider_first)"
   ]
  },
  {
   "cell_type": "code",
   "execution_count": null,
   "metadata": {},
   "outputs": [],
   "source": [
    "result of pretrained on relationships: first 5000 samples\n",
    "# precision of decoded vs content\n",
    "rouge_1_average score: 0.9476733773189917\n",
    "rouge_2_average score: 0.8781008312357037\n",
    "rouge_l_average score: 0.7871324912436809\n",
    "    \n",
    "# precision of reference vs content\n",
    "rouge_1_average score: 0.6247194098851112\n",
    "rouge_2_average score: 0.22893374806623992\n",
    "rouge_l_average score: 0.44880102949302747\n",
    "\n",
    "# rouge score of decoded vs reference \n",
    "rouge_1_average score: 0.20083441528699159\n",
    "rouge_2_average score: 0.04273009170748925\n",
    "rouge_l_average score: 0.12879304116662274\n",
    "    \n",
    "# rouge score of docoded vs reference (reddit-trained, 2000 examples)    \n",
    "rouge_1_average score: 0.22215900752330625\n",
    "rouge_2_average score: 0.0698998361164686\n",
    "rouge_l_average score: 0.17615150345659464\n",
    "    \n",
    "# rouge score of docoded vs reference (reddit-fine-tuned, 2000 examples)    \n",
    "rouge_1_average score: 0.21079686760037958\n",
    "rouge_2_average score: 0.06482064476960846\n",
    "rouge_l_average score: 0.16468544256901335\n",
    "    \n",
    "    \n",
    "    \n",
    "# on relationships, big \n",
    "# precision of decoded vs content (pre-trained, 2000 examples)\n",
    "rouge_1_average score: 0.9476733773189917\n",
    "rouge_2_average score: 0.8781008312357037\n",
    "rouge_l_average score: 0.7871324912436809\n",
    "    \n",
    "# precision score of docoded vs content (reddit-fine-tuned, 2000 examples)        \n",
    "rouge_1_average score: 0.7444281817937951\n",
    "rouge_2_average score: 0.5003590780151564\n",
    "rouge_l_average score: 0.5965231043409077\n",
    "\n",
    "# precision of docoded vs content (reddit-trained, 2000 examples)    \n",
    "rouge_1_average score: 0.8049491511060715\n",
    "rouge_2_average score: 0.6190002024114848\n",
    "rouge_l_average score: 0.6827285338828178\n",
    "    \n",
    "    \n"
   ]
  },
  {
   "cell_type": "code",
   "execution_count": null,
   "metadata": {},
   "outputs": [],
   "source": [
    "# the pointer model v.s. our model\n",
    "# orginal\n",
    "rouge_1_average score: 0.15817978453330553\n",
    "rouge_2_average score: 0.038528688508180406\n",
    "rouge_l_average score: 0.13266524343571767\n",
    "    \n",
    "# our model    \n",
    "rouge_1_average score: 0.1285903161542736\n",
    "rouge_2_average score: 0.024403407513581533\n",
    "rouge_l_average score: 0.10796030216648057"
   ]
  },
  {
   "cell_type": "code",
   "execution_count": null,
   "metadata": {},
   "outputs": [],
   "source": []
  },
  {
   "cell_type": "code",
   "execution_count": null,
   "metadata": {},
   "outputs": [],
   "source": []
  },
  {
   "cell_type": "code",
   "execution_count": null,
   "metadata": {},
   "outputs": [],
   "source": []
  },
  {
   "cell_type": "code",
   "execution_count": null,
   "metadata": {},
   "outputs": [],
   "source": []
  },
  {
   "cell_type": "code",
   "execution_count": null,
   "metadata": {},
   "outputs": [],
   "source": []
  },
  {
   "cell_type": "code",
   "execution_count": null,
   "metadata": {},
   "outputs": [],
   "source": []
  },
  {
   "cell_type": "markdown",
   "metadata": {},
   "source": [
    "# not relavant below"
   ]
  },
  {
   "cell_type": "code",
   "execution_count": 23,
   "metadata": {},
   "outputs": [],
   "source": [
    "def rouge_eval(ref_dir, dec_dir):\n",
    "  \"\"\"Evaluate the files in ref_dir and dec_dir with pyrouge, returning results_dict\"\"\"\n",
    "  r = pyrouge.Rouge155('/home/ubuntu/pyrouge/pyrouge/ROUGE-1.5.5')\n",
    "  r.model_filename_pattern = '#ID#_reference.txt'\n",
    "#   r.system_filename_pattern = '(\\s+)_decoded.txt'\n",
    "\n",
    "  r.system_filename_pattern = '(\\d+)_decoded.txt'\n",
    "  r.model_dir = ref_dir\n",
    "  r.system_dir = dec_dir\n",
    "  #logging.getLogger('global').setLevel(logging.WARNING) # silence pyrouge logging\n",
    "  rouge_results = r.convert_and_evaluate()\n",
    "  return r.output_to_dict(rouge_results)"
   ]
  },
  {
   "cell_type": "code",
   "execution_count": 24,
   "metadata": {},
   "outputs": [],
   "source": [
    "# compute rouge score on the relationship's small dataset\n",
    "#ref_dir = '/home/ubuntu/cs224u/processed_relationships/baseline/reference'\n",
    "#dec_dir = '/home/ubuntu/cs224u/processed_relationships/baseline/decoded'"
   ]
  },
  {
   "cell_type": "code",
   "execution_count": 20,
   "metadata": {},
   "outputs": [],
   "source": [
    "# compute rouge score on the relationship's small dataset\n",
    "ref_dir = '/home/ubuntu/cs224u/pointer/log/test_exp/decode_test_400maxenc_4beam_35mindec_120maxdec_ckpt-2315_cov_init/reference'\n",
    "dec_dir = '/home/ubuntu/cs224u/pointer/log/test_exp/decode_test_400maxenc_4beam_35mindec_120maxdec_ckpt-2315_cov_init/decoded'"
   ]
  },
  {
   "cell_type": "code",
   "execution_count": 21,
   "metadata": {},
   "outputs": [
    {
     "name": "stderr",
     "output_type": "stream",
     "text": [
      "2019-05-27 05:54:10,748 [MainThread  ] [INFO ]  Set ROUGE home directory to /home/ubuntu/pyrouge/pyrouge/ROUGE-1.5.5.\n",
      "2019-05-27 05:54:10,748 [MainThread  ] [INFO ]  Writing summaries.\n",
      "2019-05-27 05:54:10,749 [MainThread  ] [INFO ]  Processing summaries. Saving system files to /tmp/tmph0cnzion/system and model files to /tmp/tmph0cnzion/model.\n",
      "2019-05-27 05:54:10,750 [MainThread  ] [INFO ]  Processing files in /home/ubuntu/cs224u/pointer/log/test_exp/decode_test_400maxenc_4beam_35mindec_120maxdec_ckpt-2315_cov_init/decoded.\n",
      "2019-05-27 05:54:10,751 [MainThread  ] [INFO ]  Processing 000005_decoded.txt.\n",
      "2019-05-27 05:54:10,752 [MainThread  ] [INFO ]  Processing 000004_decoded.txt.\n",
      "2019-05-27 05:54:10,752 [MainThread  ] [INFO ]  Processing 000003_decoded.txt.\n",
      "2019-05-27 05:54:10,753 [MainThread  ] [INFO ]  Processing 000000_decoded.txt.\n",
      "2019-05-27 05:54:10,754 [MainThread  ] [INFO ]  Processing 000002_decoded.txt.\n",
      "2019-05-27 05:54:10,755 [MainThread  ] [INFO ]  Processing 000007_decoded.txt.\n",
      "2019-05-27 05:54:10,755 [MainThread  ] [INFO ]  Processing 000001_decoded.txt.\n",
      "2019-05-27 05:54:10,756 [MainThread  ] [INFO ]  Processing 000006_decoded.txt.\n",
      "2019-05-27 05:54:10,757 [MainThread  ] [INFO ]  Processing 000008_decoded.txt.\n",
      "2019-05-27 05:54:10,757 [MainThread  ] [INFO ]  Saved processed files to /tmp/tmph0cnzion/system.\n",
      "2019-05-27 05:54:10,758 [MainThread  ] [INFO ]  Processing files in /home/ubuntu/cs224u/pointer/log/test_exp/decode_test_400maxenc_4beam_35mindec_120maxdec_ckpt-2315_cov_init/reference.\n",
      "2019-05-27 05:54:10,758 [MainThread  ] [INFO ]  Processing 000005_reference.txt.\n",
      "2019-05-27 05:54:10,759 [MainThread  ] [INFO ]  Processing 000008_reference.txt.\n",
      "2019-05-27 05:54:10,760 [MainThread  ] [INFO ]  Processing 000000_reference.txt.\n",
      "2019-05-27 05:54:10,761 [MainThread  ] [INFO ]  Processing 000003_reference.txt.\n",
      "2019-05-27 05:54:10,761 [MainThread  ] [INFO ]  Processing 000007_reference.txt.\n",
      "2019-05-27 05:54:10,762 [MainThread  ] [INFO ]  Processing 000004_reference.txt.\n",
      "2019-05-27 05:54:10,763 [MainThread  ] [INFO ]  Processing 000002_reference.txt.\n",
      "2019-05-27 05:54:10,763 [MainThread  ] [INFO ]  Processing 000006_reference.txt.\n",
      "2019-05-27 05:54:10,764 [MainThread  ] [INFO ]  Processing 000001_reference.txt.\n",
      "2019-05-27 05:54:10,765 [MainThread  ] [INFO ]  Saved processed files to /tmp/tmph0cnzion/model.\n",
      "2019-05-27 05:54:10,766 [MainThread  ] [INFO ]  Written ROUGE configuration to /tmp/tmpmkj1n5cs/rouge_conf.xml\n",
      "2019-05-27 05:54:10,766 [MainThread  ] [INFO ]  Running ROUGE with command /home/ubuntu/pyrouge/pyrouge/ROUGE-1.5.5/ROUGE-1.5.5.pl -e /home/ubuntu/pyrouge/pyrouge/ROUGE-1.5.5/data -c 95 -2 -1 -U -r 1000 -n 4 -w 1.2 -a -m /tmp/tmpmkj1n5cs/rouge_conf.xml\n"
     ]
    },
    {
     "ename": "CalledProcessError",
     "evalue": "Command '['/home/ubuntu/pyrouge/pyrouge/ROUGE-1.5.5/ROUGE-1.5.5.pl', '-e', '/home/ubuntu/pyrouge/pyrouge/ROUGE-1.5.5/data', '-c', '95', '-2', '-1', '-U', '-r', '1000', '-n', '4', '-w', '1.2', '-a', '-m', '/tmp/tmpmkj1n5cs/rouge_conf.xml']' returned non-zero exit status 255.",
     "output_type": "error",
     "traceback": [
      "\u001b[0;31m---------------------------------------------------------------------------\u001b[0m",
      "\u001b[0;31mCalledProcessError\u001b[0m                        Traceback (most recent call last)",
      "\u001b[0;32m<ipython-input-21-9ad15289ba9c>\u001b[0m in \u001b[0;36m<module>\u001b[0;34m\u001b[0m\n\u001b[0;32m----> 1\u001b[0;31m \u001b[0mresult\u001b[0m \u001b[0;34m=\u001b[0m \u001b[0mrouge_eval\u001b[0m\u001b[0;34m(\u001b[0m\u001b[0mref_dir\u001b[0m\u001b[0;34m,\u001b[0m \u001b[0mdec_dir\u001b[0m\u001b[0;34m)\u001b[0m\u001b[0;34m\u001b[0m\u001b[0;34m\u001b[0m\u001b[0m\n\u001b[0m",
      "\u001b[0;32m<ipython-input-19-a70186ab68d6>\u001b[0m in \u001b[0;36mrouge_eval\u001b[0;34m(ref_dir, dec_dir)\u001b[0m\n\u001b[1;32m      9\u001b[0m   \u001b[0mr\u001b[0m\u001b[0;34m.\u001b[0m\u001b[0msystem_dir\u001b[0m \u001b[0;34m=\u001b[0m \u001b[0mdec_dir\u001b[0m\u001b[0;34m\u001b[0m\u001b[0;34m\u001b[0m\u001b[0m\n\u001b[1;32m     10\u001b[0m   \u001b[0;31m#logging.getLogger('global').setLevel(logging.WARNING) # silence pyrouge logging\u001b[0m\u001b[0;34m\u001b[0m\u001b[0;34m\u001b[0m\u001b[0;34m\u001b[0m\u001b[0m\n\u001b[0;32m---> 11\u001b[0;31m   \u001b[0mrouge_results\u001b[0m \u001b[0;34m=\u001b[0m \u001b[0mr\u001b[0m\u001b[0;34m.\u001b[0m\u001b[0mconvert_and_evaluate\u001b[0m\u001b[0;34m(\u001b[0m\u001b[0;34m)\u001b[0m\u001b[0;34m\u001b[0m\u001b[0;34m\u001b[0m\u001b[0m\n\u001b[0m\u001b[1;32m     12\u001b[0m   \u001b[0;32mreturn\u001b[0m \u001b[0mr\u001b[0m\u001b[0;34m.\u001b[0m\u001b[0moutput_to_dict\u001b[0m\u001b[0;34m(\u001b[0m\u001b[0mrouge_results\u001b[0m\u001b[0;34m)\u001b[0m\u001b[0;34m\u001b[0m\u001b[0;34m\u001b[0m\u001b[0m\n",
      "\u001b[0;32m~/miniconda2/envs/nlu3/lib/python3.7/site-packages/pyrouge/Rouge155.py\u001b[0m in \u001b[0;36mconvert_and_evaluate\u001b[0;34m(self, system_id, split_sentences, rouge_args)\u001b[0m\n\u001b[1;32m    359\u001b[0m             \u001b[0mself\u001b[0m\u001b[0;34m.\u001b[0m\u001b[0msplit_sentences\u001b[0m\u001b[0;34m(\u001b[0m\u001b[0;34m)\u001b[0m\u001b[0;34m\u001b[0m\u001b[0;34m\u001b[0m\u001b[0m\n\u001b[1;32m    360\u001b[0m         \u001b[0mself\u001b[0m\u001b[0;34m.\u001b[0m\u001b[0m__write_summaries\u001b[0m\u001b[0;34m(\u001b[0m\u001b[0;34m)\u001b[0m\u001b[0;34m\u001b[0m\u001b[0;34m\u001b[0m\u001b[0m\n\u001b[0;32m--> 361\u001b[0;31m         \u001b[0mrouge_output\u001b[0m \u001b[0;34m=\u001b[0m \u001b[0mself\u001b[0m\u001b[0;34m.\u001b[0m\u001b[0mevaluate\u001b[0m\u001b[0;34m(\u001b[0m\u001b[0msystem_id\u001b[0m\u001b[0;34m,\u001b[0m \u001b[0mrouge_args\u001b[0m\u001b[0;34m)\u001b[0m\u001b[0;34m\u001b[0m\u001b[0;34m\u001b[0m\u001b[0m\n\u001b[0m\u001b[1;32m    362\u001b[0m         \u001b[0;32mreturn\u001b[0m \u001b[0mrouge_output\u001b[0m\u001b[0;34m\u001b[0m\u001b[0;34m\u001b[0m\u001b[0m\n\u001b[1;32m    363\u001b[0m \u001b[0;34m\u001b[0m\u001b[0m\n",
      "\u001b[0;32m~/miniconda2/envs/nlu3/lib/python3.7/site-packages/pyrouge/Rouge155.py\u001b[0m in \u001b[0;36mevaluate\u001b[0;34m(self, system_id, rouge_args)\u001b[0m\n\u001b[1;32m    334\u001b[0m         self.log.info(\n\u001b[1;32m    335\u001b[0m             \"Running ROUGE with command {}\".format(\" \".join(command)))\n\u001b[0;32m--> 336\u001b[0;31m         \u001b[0mrouge_output\u001b[0m \u001b[0;34m=\u001b[0m \u001b[0mcheck_output\u001b[0m\u001b[0;34m(\u001b[0m\u001b[0mcommand\u001b[0m\u001b[0;34m)\u001b[0m\u001b[0;34m.\u001b[0m\u001b[0mdecode\u001b[0m\u001b[0;34m(\u001b[0m\u001b[0;34m\"UTF-8\"\u001b[0m\u001b[0;34m)\u001b[0m\u001b[0;34m\u001b[0m\u001b[0;34m\u001b[0m\u001b[0m\n\u001b[0m\u001b[1;32m    337\u001b[0m         \u001b[0;32mreturn\u001b[0m \u001b[0mrouge_output\u001b[0m\u001b[0;34m\u001b[0m\u001b[0;34m\u001b[0m\u001b[0m\n\u001b[1;32m    338\u001b[0m \u001b[0;34m\u001b[0m\u001b[0m\n",
      "\u001b[0;32m~/miniconda2/envs/nlu3/lib/python3.7/subprocess.py\u001b[0m in \u001b[0;36mcheck_output\u001b[0;34m(timeout, *popenargs, **kwargs)\u001b[0m\n\u001b[1;32m    393\u001b[0m \u001b[0;34m\u001b[0m\u001b[0m\n\u001b[1;32m    394\u001b[0m     return run(*popenargs, stdout=PIPE, timeout=timeout, check=True,\n\u001b[0;32m--> 395\u001b[0;31m                **kwargs).stdout\n\u001b[0m\u001b[1;32m    396\u001b[0m \u001b[0;34m\u001b[0m\u001b[0m\n\u001b[1;32m    397\u001b[0m \u001b[0;34m\u001b[0m\u001b[0m\n",
      "\u001b[0;32m~/miniconda2/envs/nlu3/lib/python3.7/subprocess.py\u001b[0m in \u001b[0;36mrun\u001b[0;34m(input, capture_output, timeout, check, *popenargs, **kwargs)\u001b[0m\n\u001b[1;32m    485\u001b[0m         \u001b[0;32mif\u001b[0m \u001b[0mcheck\u001b[0m \u001b[0;32mand\u001b[0m \u001b[0mretcode\u001b[0m\u001b[0;34m:\u001b[0m\u001b[0;34m\u001b[0m\u001b[0;34m\u001b[0m\u001b[0m\n\u001b[1;32m    486\u001b[0m             raise CalledProcessError(retcode, process.args,\n\u001b[0;32m--> 487\u001b[0;31m                                      output=stdout, stderr=stderr)\n\u001b[0m\u001b[1;32m    488\u001b[0m     \u001b[0;32mreturn\u001b[0m \u001b[0mCompletedProcess\u001b[0m\u001b[0;34m(\u001b[0m\u001b[0mprocess\u001b[0m\u001b[0;34m.\u001b[0m\u001b[0margs\u001b[0m\u001b[0;34m,\u001b[0m \u001b[0mretcode\u001b[0m\u001b[0;34m,\u001b[0m \u001b[0mstdout\u001b[0m\u001b[0;34m,\u001b[0m \u001b[0mstderr\u001b[0m\u001b[0;34m)\u001b[0m\u001b[0;34m\u001b[0m\u001b[0;34m\u001b[0m\u001b[0m\n\u001b[1;32m    489\u001b[0m \u001b[0;34m\u001b[0m\u001b[0m\n",
      "\u001b[0;31mCalledProcessError\u001b[0m: Command '['/home/ubuntu/pyrouge/pyrouge/ROUGE-1.5.5/ROUGE-1.5.5.pl', '-e', '/home/ubuntu/pyrouge/pyrouge/ROUGE-1.5.5/data', '-c', '95', '-2', '-1', '-U', '-r', '1000', '-n', '4', '-w', '1.2', '-a', '-m', '/tmp/tmpmkj1n5cs/rouge_conf.xml']' returned non-zero exit status 255."
     ]
    }
   ],
   "source": [
    "result = rouge_eval(ref_dir, dec_dir)"
   ]
  },
  {
   "cell_type": "code",
   "execution_count": null,
   "metadata": {},
   "outputs": [],
   "source": [
    "# example\n",
    "\n",
    "r = Rouge155()\n",
    "r.system_dir = '/cs224u/processed_relationships/baseline/reference'\n",
    "r.model_dir = '/cs224u/processed_relationships/baseline/decoded'\n",
    "r.system_filename_pattern = 'some_name.(\\d+).txt'\n",
    "r.model_filename_pattern = 'some_name.[A-Z].#ID#.txt'\n",
    "\n",
    "output = r.convert_and_evaluate()\n",
    "print(output)\n",
    "output_dict = r.output_to_dict(output)"
   ]
  },
  {
   "cell_type": "code",
   "execution_count": null,
   "metadata": {},
   "outputs": [],
   "source": [
    "output_result = rouge_eval(ref_dir, dec_dir)"
   ]
  },
  {
   "cell_type": "code",
   "execution_count": null,
   "metadata": {},
   "outputs": [],
   "source": [
    "def rouge_log(results_dict, dir_to_write):\n",
    "  \"\"\"Log ROUGE results to screen and write to file.\n",
    "\n",
    "  Args:\n",
    "    results_dict: the dictionary returned by pyrouge\n",
    "    dir_to_write: the directory where we will write the results to\"\"\"\n",
    "  log_str = \"\"\n",
    "  for x in [\"1\",\"2\",\"l\"]:\n",
    "    log_str += \"\\nROUGE-%s:\\n\" % x\n",
    "    for y in [\"f_score\", \"recall\", \"precision\"]:\n",
    "      key = \"rouge_%s_%s\" % (x,y)\n",
    "      key_cb = key + \"_cb\"\n",
    "      key_ce = key + \"_ce\"\n",
    "      val = results_dict[key]\n",
    "      val_cb = results_dict[key_cb]\n",
    "      val_ce = results_dict[key_ce]\n",
    "      log_str += \"%s: %.4f with confidence interval (%.4f, %.4f)\\n\" % (key, val, val_cb, val_ce)\n",
    "  tf.logging.info(log_str) # log to screen\n",
    "  results_file = os.path.join(dir_to_write, \"ROUGE_results.txt\")\n",
    "  tf.logging.info(\"Writing final ROUGE results to %s...\", results_file)\n",
    "  with open(results_file, \"w\") as f:\n",
    "    f.write(log_str)"
   ]
  },
  {
   "cell_type": "code",
   "execution_count": null,
   "metadata": {},
   "outputs": [],
   "source": []
  }
 ],
 "metadata": {
  "kernelspec": {
   "display_name": "nlu3",
   "language": "python",
   "name": "nlu3"
  },
  "language_info": {
   "codemirror_mode": {
    "name": "ipython",
    "version": 3
   },
   "file_extension": ".py",
   "mimetype": "text/x-python",
   "name": "python",
   "nbconvert_exporter": "python",
   "pygments_lexer": "ipython3",
   "version": "3.7.3"
  }
 },
 "nbformat": 4,
 "nbformat_minor": 2
}
