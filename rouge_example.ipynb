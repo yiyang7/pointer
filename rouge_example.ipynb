{
 "cells": [
  {
   "cell_type": "code",
   "execution_count": 6,
   "metadata": {},
   "outputs": [],
   "source": [
    "from os import listdir\n",
    "from os.path import isfile, join\n",
    "from nltk.tokenize import TweetTokenizer\n",
    "import numpy as np\n",
    "import matplotlib.pyplot as plt"
   ]
  },
  {
   "cell_type": "code",
   "execution_count": 18,
   "metadata": {},
   "outputs": [
    {
     "name": "stdout",
     "output_type": "stream",
     "text": [
      "ROUGE-1: 0.7368421052631577\n",
      "ROUGE-2: 0.5882352941176471\n",
      "ROUGE-L: 0.7368421052631577\n",
      "ROUGE-BE: 0.823529411764706\n"
     ]
    }
   ],
   "source": [
    "from sumeval.metrics.rouge import RougeCalculator\n",
    "rouge = RougeCalculator(stopwords=True, lang=\"en\")\n",
    "\n",
    "\n",
    "\n",
    "f_decode='how do ex there ex girlfriends gfs boyfriend has an active dating profile looking for girls .\\ndo i tell her or just leave her alone she own independence for it style you or ?'\n",
    "f_ref='found out my ex girlfriends current boyfriend has an active dating profile looking for girls . do i tell her or just leave her alone ?'\n",
    "\n",
    "rouge_1 = rouge.rouge_n(\n",
    "            summary=f_decode,\n",
    "            references=f_ref,\n",
    "            n=1)\n",
    "\n",
    "rouge_2 = rouge.rouge_n(\n",
    "            summary=f_decode,\n",
    "            references=f_ref,\n",
    "            n=2)\n",
    "\n",
    "rouge_l = rouge.rouge_l(\n",
    "            summary=f_decode,\n",
    "            references=f_ref)\n",
    "\n",
    "\n",
    "rouge_be = rouge.rouge_be(\n",
    "            summary=f_decode,\n",
    "            references=f_ref)\n",
    "\n",
    "print(\"ROUGE-1: {}, ROUGE-2: {}, ROUGE-L: {}, ROUGE-BE: {}\".format(\n",
    "    rouge_1, rouge_2, rouge_l, rouge_be\n",
    ").replace(\", \", \"\\n\"))\n",
    "    "
   ]
  },
  {
   "cell_type": "code",
   "execution_count": null,
   "metadata": {},
   "outputs": [],
   "source": []
  },
  {
   "cell_type": "code",
   "execution_count": 14,
   "metadata": {},
   "outputs": [
    {
     "name": "stdout",
     "output_type": "stream",
     "text": [
      "precision 0.7812497558594512 recall 0.624999843750039 f1 0.6944442515432634\n"
     ]
    }
   ],
   "source": [
    "num_file = 1\n",
    "precisions = np.zeros(num_file)\n",
    "recalls = np.zeros(num_file)\n",
    "eps = 1e-5\n",
    "tokenizer = TweetTokenizer()\n",
    "for i in range(num_file):\n",
    "#     if reference_files[i][:6] ==  decoded_files[i][:6]:\n",
    "#         print reference_files[i], decoded_files[i]\n",
    "    #f_ref = open(ref_path + reference_files[i], 'r').read()\n",
    "    f_ref_token = set(tokenizer.tokenize(f_ref))\n",
    "#     print(reference_files[i] ,f_red.read())\n",
    "    #f_decode = open( dec_path + decoded_files[i], 'r').read()\n",
    "    f_decode_token = set(tokenizer.tokenize(f_decode))\n",
    "    precisions[i] = len(f_decode_token.intersection(f_ref_token)) * 1.0 / (len(f_decode_token) + eps)\n",
    "    recalls[i] = len(f_decode_token.intersection(f_ref_token)) * 1.0 / (len(f_ref_token)+ eps)\n",
    "\n",
    "pre = np.mean(precisions)\n",
    "rec = np.mean(recalls)\n",
    "f1 = 2.0 / (1.0/pre + 1.0/rec)\n",
    "print(\"precision\",pre, \"recall\", rec, \"f1\",f1)"
   ]
  },
  {
   "cell_type": "code",
   "execution_count": null,
   "metadata": {},
   "outputs": [],
   "source": []
  }
 ],
 "metadata": {
  "kernelspec": {
   "display_name": "nlu3",
   "language": "python",
   "name": "nlu3"
  },
  "language_info": {
   "codemirror_mode": {
    "name": "ipython",
    "version": 3
   },
   "file_extension": ".py",
   "mimetype": "text/x-python",
   "name": "python",
   "nbconvert_exporter": "python",
   "pygments_lexer": "ipython3",
   "version": "3.7.3"
  }
 },
 "nbformat": 4,
 "nbformat_minor": 2
}
