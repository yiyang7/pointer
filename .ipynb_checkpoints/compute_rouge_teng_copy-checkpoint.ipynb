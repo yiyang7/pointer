{
 "cells": [
  {
   "cell_type": "code",
   "execution_count": 1,
   "metadata": {},
   "outputs": [],
   "source": [
    "from os import listdir\n",
    "from os.path import isfile, join\n",
    "from sumeval.metrics.rouge import RougeCalculator\n",
    "import numpy as np\n",
    "import matplotlib.pyplot as plt"
   ]
  },
  {
   "cell_type": "markdown",
   "metadata": {},
   "source": [
    "# example"
   ]
  },
  {
   "cell_type": "code",
   "execution_count": 2,
   "metadata": {},
   "outputs": [
    {
     "name": "stdout",
     "output_type": "stream",
     "text": [
      "ROUGE-1: 0.5\n",
      "ROUGE-2: 0.4\n",
      "ROUGE-L: 0.6666666666666666\n",
      "ROUGE-BE: 0.4\n"
     ]
    }
   ],
   "source": [
    "\n",
    "from sumeval.metrics.rouge import RougeCalculator\n",
    "rouge = RougeCalculator(stopwords=True, lang=\"en\")\n",
    "\n",
    "rouge_1 = rouge.rouge_n(\n",
    "            summary=\"I went to the Mars from my living town.\",\n",
    "            references=\"I went to Mars\",\n",
    "            n=1)\n",
    "\n",
    "rouge_2 = rouge.rouge_n(\n",
    "            summary=\"I went to the Mars from my living town.\",\n",
    "            references=[\"I went to Mars\", \"It's my living town\"],\n",
    "            n=2)\n",
    "\n",
    "rouge_l = rouge.rouge_l(\n",
    "            summary=\"I went to the Mars from my living town.\",\n",
    "            references=[\"I went to Mars\", \"It's my living town\"])\n",
    "\n",
    "# You need spaCy to calculate ROUGE-BE\n",
    "\n",
    "rouge_be = rouge.rouge_be(\n",
    "            summary=\"I went to the Mars from my living town.\",\n",
    "            references=[\"I went to Mars\", \"It's my living town\"])\n",
    "\n",
    "print(\"ROUGE-1: {}, ROUGE-2: {}, ROUGE-L: {}, ROUGE-BE: {}\".format(\n",
    "    rouge_1, rouge_2, rouge_l, rouge_be\n",
    ").replace(\", \", \"\\n\"))\n",
    "    "
   ]
  },
  {
   "cell_type": "code",
   "execution_count": 15,
   "metadata": {},
   "outputs": [],
   "source": [
    "# relationship small dataset\n",
    "path_pre = \"/home/ubuntu/cs224u/processed_relationships/baseline\"\n",
    "ref_path = path_pre + '/reference'\n",
    "reference_files = [f for f in listdir(ref_path) if isfile(join(ref_path, f))]\n",
    "dec_path = path_pre + '/decoded'\n",
    "decoded_files = [f for f in listdir(dec_path) if isfile(join(dec_path, f))]\n"
   ]
  },
  {
   "cell_type": "code",
   "execution_count": 3,
   "metadata": {},
   "outputs": [
    {
     "data": {
      "text/plain": [
       "['t3_4bcuhi_reference.txt',\n",
       " 't3_3yzftu_reference.txt',\n",
       " '6ejvy9_reference.txt',\n",
       " 'd5axozy_reference.txt',\n",
       " 't3_29tth3_reference.txt',\n",
       " 'di3h5hh_reference.txt',\n",
       " 'd62d0ho_reference.txt',\n",
       " '64tr5t_reference.txt',\n",
       " 't3_1udtww_reference.txt']"
      ]
     },
     "execution_count": 3,
     "metadata": {},
     "output_type": "execute_result"
    }
   ],
   "source": [
    "reference_files"
   ]
  },
  {
   "cell_type": "code",
   "execution_count": null,
   "metadata": {},
   "outputs": [],
   "source": []
  },
  {
   "cell_type": "code",
   "execution_count": 17,
   "metadata": {},
   "outputs": [],
   "source": [
    "def computeRougeScore(path_pre, alpha_input = 0.5, consider_first = 0, if_rouge_be = False, \n",
    "                      random_test = True,\n",
    "                      first_str_in_ref = 0, print_progress = False, print_result = False,\n",
    "                     ref_folder = '/reference/', decode_folder = '/decoded/'):\n",
    "    '''\n",
    "    input: a working directory indicate where the reference and decode files are\n",
    "    '''\n",
    "    # setup working directory\n",
    "    ref_path = path_pre + ref_folder\n",
    "    dec_path = path_pre + decode_folder\n",
    "    reference_files = [f for f in listdir(ref_path) if isfile(join(ref_path, f))]\n",
    "    reference_files.sort()\n",
    "    #reference_files = reference_files[:5000]: to deal with the large AskReddit Dataset\n",
    "    decoded_files = [f for f in listdir(dec_path) if isfile(join(dec_path, f))]\n",
    "    decoded_files.sort()\n",
    "    #decoded_files = decoded_files[:5000]: to deal with the large AskReddit Dataset\n",
    "    rouge = RougeCalculator(stopwords=False, lang=\"en\")\n",
    "#     if consider_first:\n",
    "#         reference_files = reference_files[:consider_first]\n",
    "#         decoded_files = decoded_files[:consider_first]\n",
    "    num_file = len(reference_files)\n",
    "    \n",
    "    # select random(or first) part of the data \n",
    "    if random_test and consider_first > 0:\n",
    "        chosen_index = np.random.choice(num_file, consider_first, replace = False)\n",
    "    elif consider_first > 0:\n",
    "        chosen_index = np.arange(consider_first)\n",
    "    else:\n",
    "        chosen_index = np.arange(num_file)\n",
    "    \n",
    "    num_file = len(chosen_index)\n",
    "    \n",
    "    rouge_1 = np.zeros(num_file)\n",
    "    rouge_2 = np.zeros(num_file)\n",
    "    rouge_l = np.zeros(num_file)\n",
    "    rouge_be = np.zeros(num_file)\n",
    "    \n",
    "    \n",
    "    for i, indx in enumerate(chosen_index):\n",
    "        \n",
    "        if i % 500 == 0 and print_progress:\n",
    "            print('calculating i, finished', i/num_file)\n",
    "            \n",
    "        f_ref = open(ref_path + reference_files[indx], 'r').read()\n",
    "#         print(f_ref[:10])\n",
    "        if first_str_in_ref:\n",
    "            f_ref = f_ref[:int(len(f_ref) * first_str_in_ref)]\n",
    "        f_decode = open( dec_path + decoded_files[indx], 'r').read()\n",
    "#         print(reference_files[i], decoded_files[i])\n",
    "        rouge_1[i] = rouge.rouge_n(\n",
    "            summary=f_decode,\n",
    "            references=f_ref,\n",
    "            n=1,alpha = alpha_input)\n",
    "\n",
    "        rouge_2[i] = rouge.rouge_n(\n",
    "            summary=f_decode,\n",
    "            references=f_ref,\n",
    "            n=2, alpha = alpha_input)\n",
    "\n",
    "        rouge_l[i] = rouge.rouge_l(\n",
    "            summary=f_decode,\n",
    "            references=f_ref,alpha = alpha_input)\n",
    "        \n",
    "        if if_rouge_be:\n",
    "            rouge_be[i] = rouge.rouge_be(\n",
    "                summary=f_decode,\n",
    "                references=f_ref,alpha = alpha_input)\n",
    "\n",
    "    rouge_1_average = np.mean(rouge_1)    \n",
    "    rouge_2_average = np.mean(rouge_2)    \n",
    "    rouge_l_average = np.mean(rouge_l)\n",
    "    if print_result:\n",
    "        print(\"in total \", len(chosen_index), \"examples\")\n",
    "        print(\"rouge_1_average score:\", rouge_1_average)\n",
    "        print(\"rouge_2_average score:\", rouge_2_average)\n",
    "        print(\"rouge_l_average score:\", rouge_l_average)\n",
    "    \n",
    "    if if_rouge_be:\n",
    "        rouge_be_average = np.mean(rouge_be)\n",
    "        print(\"rouge_be_average score:\", rouge_be_average)   \n",
    "        return [rouge_1_average, rouge_2_average, rouge_l_average, rouge_be_average]\n",
    "    \n",
    "    return [rouge_1_average, rouge_2_average, rouge_l_average]"
   ]
  },
  {
   "cell_type": "code",
   "execution_count": 32,
   "metadata": {},
   "outputs": [
    {
     "name": "stdout",
     "output_type": "stream",
     "text": [
      "rouge_1_average score: 0.17448384037694867\n",
      "rouge_2_average score: 0.028741521495144688\n",
      "rouge_l_average score: 0.12528579276117954\n",
      "rouge_be_average score: 0.05478750640040962\n"
     ]
    }
   ],
   "source": [
    "# relationship small dataset\n",
    "path_pre = \"/home/ubuntu/cs224u/processed_relationships/baseline\"\n",
    "\n",
    "\n",
    "computeRougeScore(path_pre,alpha_input = 0.5) # return: precision, recall, f1"
   ]
  },
  {
   "cell_type": "code",
   "execution_count": 120,
   "metadata": {},
   "outputs": [
    {
     "name": "stdout",
     "output_type": "stream",
     "text": [
      "in total  4459 examples\n",
      "rouge_1_average score: 0.14524432050248826\n",
      "rouge_2_average score: 0.0262261693517867\n",
      "rouge_l_average score: 0.10016417609387036\n"
     ]
    },
    {
     "data": {
      "text/plain": [
       "[0.14524432050248826, 0.0262261693517867, 0.10016417609387036]"
      ]
     },
     "execution_count": 120,
     "metadata": {},
     "output_type": "execute_result"
    }
   ],
   "source": [
    "# pretrained model\n",
    "path_pre = '/home/ubuntu/cs224u/pointer/log/pretrained_model/decode_test_400maxenc_4beam_35mindec_120maxdec_ckpt-238410'\n",
    "computeRougeScore(path_pre,alpha_input = 0.5, print_result=True) # return: rouge1 rouge2, rougel\n",
    "# computeRougeScore(path_pre, alpha_input = 0.5, ref_folder = '/content/', decode_folder = '/reference/')"
   ]
  },
  {
   "cell_type": "code",
   "execution_count": 34,
   "metadata": {},
   "outputs": [
    {
     "name": "stdout",
     "output_type": "stream",
     "text": [
      "rouge_1_average score: 0.13774893754386922\n",
      "rouge_2_average score: 0.031008597706054207\n",
      "rouge_l_average score: 0.10987995815993751\n",
      "rouge_be_average score: 0.02278000647831357\n"
     ]
    }
   ],
   "source": [
    "# our training\n",
    "path_pre = '/home/ubuntu/cs224u/pointer/log/reddit_exp/decode_test_400maxenc_4beam_35mindec_120maxdec_ckpt-39995_cov_init_cov_init'\n",
    "\n",
    "computeRougeScore(path_pre,alpha_input = 0.5)"
   ]
  },
  {
   "cell_type": "code",
   "execution_count": 37,
   "metadata": {},
   "outputs": [
    {
     "name": "stdout",
     "output_type": "stream",
     "text": [
      "rouge_1_average score: 0.1518306825952093\n",
      "rouge_2_average score: 0.027848149178214408\n",
      "rouge_l_average score: 0.10711039495037253\n",
      "rouge_be_average score: 0.027821014579900872\n"
     ]
    }
   ],
   "source": [
    "# lead-3 baseline\n",
    "path_pre = '../AskReddit_baseline_summarization'\n",
    "\n",
    "computeRougeScore(path_pre,alpha_input = 0.5)"
   ]
  },
  {
   "cell_type": "code",
   "execution_count": 24,
   "metadata": {},
   "outputs": [
    {
     "name": "stdout",
     "output_type": "stream",
     "text": [
      "in total  2000 examples\n",
      "rouge_1_average score: 0.19788185299276198\n",
      "rouge_2_average score: 0.04009631604248373\n",
      "rouge_l_average score: 0.12610250947242602\n"
     ]
    },
    {
     "data": {
      "text/plain": [
       "[0.19788185299276198, 0.04009631604248373, 0.12610250947242602]"
      ]
     },
     "execution_count": 24,
     "metadata": {},
     "output_type": "execute_result"
    }
   ],
   "source": [
    "# pretrained on relationships\n",
    "\n",
    "path_pre = '/home/ubuntu/cs224u/pointer/log/pretrained_relationship/decode_test_400maxenc_4beam_35mindec_120maxdec_ckpt-238410'\n",
    "\n",
    "computeRougeScore(path_pre,alpha_input = 0.5,  if_rouge_be=False, consider_first=2000, random_test=True, print_result=True)\n",
    "# computeRougeScore(path_pre, alpha_input = 0.99,  consider_first=1000,\n",
    "#                   first_str_in_ref=200, ref_folder = '/content/', decode_folder = '/reference/')"
   ]
  },
  {
   "cell_type": "code",
   "execution_count": 30,
   "metadata": {},
   "outputs": [
    {
     "name": "stdout",
     "output_type": "stream",
     "text": [
      "in total  2000 examples\n",
      "rouge_1_average score: 0.22574401784513792\n",
      "rouge_2_average score: 0.06884955125441587\n",
      "rouge_l_average score: 0.17476097658344653\n"
     ]
    },
    {
     "data": {
      "text/plain": [
       "[0.22574401784513792, 0.06884955125441587, 0.17476097658344653]"
      ]
     },
     "execution_count": 30,
     "metadata": {},
     "output_type": "execute_result"
    }
   ],
   "source": [
    "# post trained on relationships\n",
    "\n",
    "path_pre = '/home/ubuntu/cs224u/pointer/log/relationships_exp/decode_test_400maxenc_4beam_35mindec_120maxdec_ckpt-253906_cov_init'\n",
    "\n",
    "computeRougeScore(path_pre,alpha_input = 0.5,  if_rouge_be=False, consider_first=2000, random_test=True, print_result=True)\n",
    "# computeRougeScore(path_pre, alpha_input = 0.99,  consider_first=1000,\n",
    "#                   first_str_in_ref=200, ref_folder = '/content/', decode_folder = '/reference/')"
   ]
  },
  {
   "cell_type": "code",
   "execution_count": 31,
   "metadata": {},
   "outputs": [
    {
     "name": "stdout",
     "output_type": "stream",
     "text": [
      "in total  2000 examples\n",
      "rouge_1_average score: 0.8049491511060715\n",
      "rouge_2_average score: 0.6190002024114848\n",
      "rouge_l_average score: 0.6827285338828178\n"
     ]
    },
    {
     "data": {
      "text/plain": [
       "[0.8049491511060715, 0.6190002024114848, 0.6827285338828178]"
      ]
     },
     "execution_count": 31,
     "metadata": {},
     "output_type": "execute_result"
    }
   ],
   "source": [
    "computeRougeScore(path_pre, alpha_input = 0.99,if_rouge_be=False, consider_first=2000, \n",
    "                  random_test=True, print_result=True,\n",
    "                  ref_folder = '/content/', decode_folder = '/decoded/')"
   ]
  },
  {
   "cell_type": "code",
   "execution_count": 95,
   "metadata": {},
   "outputs": [],
   "source": [
    "def plot_coverage(path_pre, consider_first, ref_folder = '/content/', decode_folder = '/reference/'):\n",
    "    str_length = [i *0.1 for i in range(1, 11)]\n",
    "    r_scores_ref = np.zeros([3, len(str_length)])\n",
    "    r_scores_dec = np.zeros([3, len(str_length)])\n",
    "    max_scores_ref = computeRougeScore(path_pre, alpha_input = 0.99,  consider_first=consider_first,\n",
    "                      first_str_in_ref=50000, ref_folder = '/content/', decode_folder = '/reference/')\n",
    "    max_scores_dec = computeRougeScore(path_pre, alpha_input = 0.99,  consider_first=consider_first,\n",
    "                      first_str_in_ref=50000, ref_folder = '/content/', decode_folder = '/decoded/')\n",
    "    for i, s in enumerate(str_length):\n",
    "        print('calculating ', i ,'/', len(str_length))\n",
    "        r_scores_ref[:, i]= computeRougeScore(path_pre, alpha_input = 0.99,  consider_first=consider_first,\n",
    "                      first_str_in_ref=s, ref_folder = '/content/', decode_folder = '/reference/')\n",
    "        r_scores_dec[:, i]= computeRougeScore(path_pre, alpha_input = 0.99,  consider_first=consider_first,\n",
    "                      first_str_in_ref=s, ref_folder = '/content/', decode_folder = '/decoded/')\n",
    "    #     r1_scores[0, i] = r1\n",
    "    r_scores_ref = r_scores_ref / np.array(max_scores_ref).reshape([3,1])\n",
    "    r_scores_dec = r_scores_dec / np.array(max_scores_dec).reshape([3,1])\n",
    "    \n",
    "    labels = ['rouge1', 'rouge2', 'rougel']\n",
    "    colors = ['red', 'green', 'blue']\n",
    "    for i in range(3):\n",
    "        plt.plot(str_length, r_scores_ref[i], color = colors[i], label = labels[i] + '_ref')\n",
    "        plt.plot(str_length, r_scores_dec[i], color = colors[i], ls = '--', label = labels[i] + '_dec')\n",
    "    plt.legend()"
   ]
  },
  {
   "cell_type": "code",
   "execution_count": 98,
   "metadata": {},
   "outputs": [
    {
     "name": "stdout",
     "output_type": "stream",
     "text": [
      "calculating  0 / 10\n",
      "calculating  1 / 10\n",
      "calculating  2 / 10\n",
      "calculating  3 / 10\n",
      "calculating  4 / 10\n",
      "calculating  5 / 10\n",
      "calculating  6 / 10\n",
      "calculating  7 / 10\n",
      "calculating  8 / 10\n",
      "calculating  9 / 10\n"
     ]
    },
    {
     "data": {
      "image/png": "[encoded data removed]",
      "text/plain": [
       "<Figure size 432x288 with 1 Axes>"
      ]
     },
     "metadata": {
      "needs_background": "light"
     },
     "output_type": "display_data"
    }
   ],
   "source": [
    "path_pre = '/home/ubuntu/cs224u/pointer/log/pretrained_relationship/decode_test_400maxenc_4beam_35mindec_120maxdec_ckpt-238410'\n",
    "consider_first = 2000\n",
    "\n",
    "plot_coverage(path_pre, consider_first, ref_folder = '/content/', decode_folder = '/reference/')"
   ]
  },
  {
   "cell_type": "code",
   "execution_count": 116,
   "metadata": {},
   "outputs": [
    {
     "name": "stdout",
     "output_type": "stream",
     "text": [
      "calculating  0 / 10\n",
      "calculating  1 / 10\n",
      "calculating  2 / 10\n",
      "calculating  3 / 10\n",
      "calculating  4 / 10\n",
      "calculating  5 / 10\n",
      "calculating  6 / 10\n",
      "calculating  7 / 10\n",
      "calculating  8 / 10\n",
      "calculating  9 / 10\n"
     ]
    },
    {
     "data": {
      "image/png": "[encoded data removed]",
      "text/plain": [
       "<Figure size 432x288 with 1 Axes>"
      ]
     },
     "metadata": {
      "needs_background": "light"
     },
     "output_type": "display_data"
    }
   ],
   "source": [
    "# post trained on relationships\n",
    "\n",
    "path_pre = '/home/ubuntu/cs224u/pointer/log/relationships_exp/decode_test_400maxenc_4beam_35mindec_120maxdec_ckpt-253906_cov_init'\n",
    "\n",
    "consider_first = 2000\n",
    "\n",
    "plot_coverage(path_pre, consider_first, ref_folder = '/content/', decode_folder = '/reference/')"
   ]
  },
  {
   "cell_type": "code",
   "execution_count": null,
   "metadata": {},
   "outputs": [],
   "source": [
    "result of pretrained on relationships: first 5000 samples\n",
    "# precision of decoded vs content\n",
    "rouge_1_average score: 0.9476733773189917\n",
    "rouge_2_average score: 0.8781008312357037\n",
    "rouge_l_average score: 0.7871324912436809\n",
    "    \n",
    "# precision of reference vs content\n",
    "rouge_1_average score: 0.6247194098851112\n",
    "rouge_2_average score: 0.22893374806623992\n",
    "rouge_l_average score: 0.44880102949302747\n",
    "    \n",
    "# rouge score of docoded vs reference\n",
    "rouge_1_average score: 0.198876853831287\n",
    "rouge_2_average score: 0.04060354197936704\n",
    "rouge_l_average score: 0.12683537873726394\n",
    "    \n",
    "    \n",
    "# rouge score of docoded vs reference (reddit-trained, 2000 examples)    \n",
    "rouge_1_average score: 0.2227052336405982\n",
    "rouge_2_average score: 0.06750046255742523\n",
    "rouge_l_average score: 0.1735205344857261\n",
    "\n",
    "    \n",
    "# rouge score of docoded vs content (reddit-trained, 2000 examples)    \n",
    "rouge_1_average score: 0.8049491511060715\n",
    "rouge_2_average score: 0.6190002024114848\n",
    "rouge_l_average score: 0.6827285338828178\n"
   ]
  },
  {
   "cell_type": "code",
   "execution_count": null,
   "metadata": {},
   "outputs": [],
   "source": []
  },
  {
   "cell_type": "code",
   "execution_count": null,
   "metadata": {},
   "outputs": [],
   "source": []
  },
  {
   "cell_type": "code",
   "execution_count": null,
   "metadata": {},
   "outputs": [],
   "source": []
  },
  {
   "cell_type": "code",
   "execution_count": null,
   "metadata": {},
   "outputs": [],
   "source": []
  },
  {
   "cell_type": "code",
   "execution_count": null,
   "metadata": {},
   "outputs": [],
   "source": []
  },
  {
   "cell_type": "code",
   "execution_count": null,
   "metadata": {},
   "outputs": [],
   "source": []
  },
  {
   "cell_type": "code",
   "execution_count": null,
   "metadata": {},
   "outputs": [],
   "source": []
  },
  {
   "cell_type": "markdown",
   "metadata": {},
   "source": [
    "# not relavant below"
   ]
  },
  {
   "cell_type": "code",
   "execution_count": 23,
   "metadata": {},
   "outputs": [],
   "source": [
    "def rouge_eval(ref_dir, dec_dir):\n",
    "  \"\"\"Evaluate the files in ref_dir and dec_dir with pyrouge, returning results_dict\"\"\"\n",
    "  r = pyrouge.Rouge155('/home/ubuntu/pyrouge/pyrouge/ROUGE-1.5.5')\n",
    "  r.model_filename_pattern = '#ID#_reference.txt'\n",
    "#   r.system_filename_pattern = '(\\s+)_decoded.txt'\n",
    "\n",
    "  r.system_filename_pattern = '(\\d+)_decoded.txt'\n",
    "  r.model_dir = ref_dir\n",
    "  r.system_dir = dec_dir\n",
    "  #logging.getLogger('global').setLevel(logging.WARNING) # silence pyrouge logging\n",
    "  rouge_results = r.convert_and_evaluate()\n",
    "  return r.output_to_dict(rouge_results)"
   ]
  },
  {
   "cell_type": "code",
   "execution_count": 24,
   "metadata": {},
   "outputs": [],
   "source": [
    "# compute rouge score on the relationship's small dataset\n",
    "#ref_dir = '/home/ubuntu/cs224u/processed_relationships/baseline/reference'\n",
    "#dec_dir = '/home/ubuntu/cs224u/processed_relationships/baseline/decoded'"
   ]
  },
  {
   "cell_type": "code",
   "execution_count": 20,
   "metadata": {},
   "outputs": [],
   "source": [
    "# compute rouge score on the relationship's small dataset\n",
    "ref_dir = '/home/ubuntu/cs224u/pointer/log/test_exp/decode_test_400maxenc_4beam_35mindec_120maxdec_ckpt-2315_cov_init/reference'\n",
    "dec_dir = '/home/ubuntu/cs224u/pointer/log/test_exp/decode_test_400maxenc_4beam_35mindec_120maxdec_ckpt-2315_cov_init/decoded'"
   ]
  },
  {
   "cell_type": "code",
   "execution_count": 21,
   "metadata": {},
   "outputs": [
    {
     "name": "stderr",
     "output_type": "stream",
     "text": [
      "2019-05-27 05:54:10,748 [MainThread  ] [INFO ]  Set ROUGE home directory to /home/ubuntu/pyrouge/pyrouge/ROUGE-1.5.5.\n",
      "2019-05-27 05:54:10,748 [MainThread  ] [INFO ]  Writing summaries.\n",
      "2019-05-27 05:54:10,749 [MainThread  ] [INFO ]  Processing summaries. Saving system files to /tmp/tmph0cnzion/system and model files to /tmp/tmph0cnzion/model.\n",
      "2019-05-27 05:54:10,750 [MainThread  ] [INFO ]  Processing files in /home/ubuntu/cs224u/pointer/log/test_exp/decode_test_400maxenc_4beam_35mindec_120maxdec_ckpt-2315_cov_init/decoded.\n",
      "2019-05-27 05:54:10,751 [MainThread  ] [INFO ]  Processing 000005_decoded.txt.\n",
      "2019-05-27 05:54:10,752 [MainThread  ] [INFO ]  Processing 000004_decoded.txt.\n",
      "2019-05-27 05:54:10,752 [MainThread  ] [INFO ]  Processing 000003_decoded.txt.\n",
      "2019-05-27 05:54:10,753 [MainThread  ] [INFO ]  Processing 000000_decoded.txt.\n",
      "2019-05-27 05:54:10,754 [MainThread  ] [INFO ]  Processing 000002_decoded.txt.\n",
      "2019-05-27 05:54:10,755 [MainThread  ] [INFO ]  Processing 000007_decoded.txt.\n",
      "2019-05-27 05:54:10,755 [MainThread  ] [INFO ]  Processing 000001_decoded.txt.\n",
      "2019-05-27 05:54:10,756 [MainThread  ] [INFO ]  Processing 000006_decoded.txt.\n",
      "2019-05-27 05:54:10,757 [MainThread  ] [INFO ]  Processing 000008_decoded.txt.\n",
      "2019-05-27 05:54:10,757 [MainThread  ] [INFO ]  Saved processed files to /tmp/tmph0cnzion/system.\n",
      "2019-05-27 05:54:10,758 [MainThread  ] [INFO ]  Processing files in /home/ubuntu/cs224u/pointer/log/test_exp/decode_test_400maxenc_4beam_35mindec_120maxdec_ckpt-2315_cov_init/reference.\n",
      "2019-05-27 05:54:10,758 [MainThread  ] [INFO ]  Processing 000005_reference.txt.\n",
      "2019-05-27 05:54:10,759 [MainThread  ] [INFO ]  Processing 000008_reference.txt.\n",
      "2019-05-27 05:54:10,760 [MainThread  ] [INFO ]  Processing 000000_reference.txt.\n",
      "2019-05-27 05:54:10,761 [MainThread  ] [INFO ]  Processing 000003_reference.txt.\n",
      "2019-05-27 05:54:10,761 [MainThread  ] [INFO ]  Processing 000007_reference.txt.\n",
      "2019-05-27 05:54:10,762 [MainThread  ] [INFO ]  Processing 000004_reference.txt.\n",
      "2019-05-27 05:54:10,763 [MainThread  ] [INFO ]  Processing 000002_reference.txt.\n",
      "2019-05-27 05:54:10,763 [MainThread  ] [INFO ]  Processing 000006_reference.txt.\n",
      "2019-05-27 05:54:10,764 [MainThread  ] [INFO ]  Processing 000001_reference.txt.\n",
      "2019-05-27 05:54:10,765 [MainThread  ] [INFO ]  Saved processed files to /tmp/tmph0cnzion/model.\n",
      "2019-05-27 05:54:10,766 [MainThread  ] [INFO ]  Written ROUGE configuration to /tmp/tmpmkj1n5cs/rouge_conf.xml\n",
      "2019-05-27 05:54:10,766 [MainThread  ] [INFO ]  Running ROUGE with command /home/ubuntu/pyrouge/pyrouge/ROUGE-1.5.5/ROUGE-1.5.5.pl -e /home/ubuntu/pyrouge/pyrouge/ROUGE-1.5.5/data -c 95 -2 -1 -U -r 1000 -n 4 -w 1.2 -a -m /tmp/tmpmkj1n5cs/rouge_conf.xml\n"
     ]
    },
    {
     "ename": "CalledProcessError",
     "evalue": "Command '['/home/ubuntu/pyrouge/pyrouge/ROUGE-1.5.5/ROUGE-1.5.5.pl', '-e', '/home/ubuntu/pyrouge/pyrouge/ROUGE-1.5.5/data', '-c', '95', '-2', '-1', '-U', '-r', '1000', '-n', '4', '-w', '1.2', '-a', '-m', '/tmp/tmpmkj1n5cs/rouge_conf.xml']' returned non-zero exit status 255.",
     "output_type": "error",
     "traceback": [
      "\u001b[0;31m---------------------------------------------------------------------------\u001b[0m",
      "\u001b[0;31mCalledProcessError\u001b[0m                        Traceback (most recent call last)",
      "\u001b[0;32m<ipython-input-21-9ad15289ba9c>\u001b[0m in \u001b[0;36m<module>\u001b[0;34m\u001b[0m\n\u001b[0;32m----> 1\u001b[0;31m \u001b[0mresult\u001b[0m \u001b[0;34m=\u001b[0m \u001b[0mrouge_eval\u001b[0m\u001b[0;34m(\u001b[0m\u001b[0mref_dir\u001b[0m\u001b[0;34m,\u001b[0m \u001b[0mdec_dir\u001b[0m\u001b[0;34m)\u001b[0m\u001b[0;34m\u001b[0m\u001b[0;34m\u001b[0m\u001b[0m\n\u001b[0m",
      "\u001b[0;32m<ipython-input-19-a70186ab68d6>\u001b[0m in \u001b[0;36mrouge_eval\u001b[0;34m(ref_dir, dec_dir)\u001b[0m\n\u001b[1;32m      9\u001b[0m   \u001b[0mr\u001b[0m\u001b[0;34m.\u001b[0m\u001b[0msystem_dir\u001b[0m \u001b[0;34m=\u001b[0m \u001b[0mdec_dir\u001b[0m\u001b[0;34m\u001b[0m\u001b[0;34m\u001b[0m\u001b[0m\n\u001b[1;32m     10\u001b[0m   \u001b[0;31m#logging.getLogger('global').setLevel(logging.WARNING) # silence pyrouge logging\u001b[0m\u001b[0;34m\u001b[0m\u001b[0;34m\u001b[0m\u001b[0;34m\u001b[0m\u001b[0m\n\u001b[0;32m---> 11\u001b[0;31m   \u001b[0mrouge_results\u001b[0m \u001b[0;34m=\u001b[0m \u001b[0mr\u001b[0m\u001b[0;34m.\u001b[0m\u001b[0mconvert_and_evaluate\u001b[0m\u001b[0;34m(\u001b[0m\u001b[0;34m)\u001b[0m\u001b[0;34m\u001b[0m\u001b[0;34m\u001b[0m\u001b[0m\n\u001b[0m\u001b[1;32m     12\u001b[0m   \u001b[0;32mreturn\u001b[0m \u001b[0mr\u001b[0m\u001b[0;34m.\u001b[0m\u001b[0moutput_to_dict\u001b[0m\u001b[0;34m(\u001b[0m\u001b[0mrouge_results\u001b[0m\u001b[0;34m)\u001b[0m\u001b[0;34m\u001b[0m\u001b[0;34m\u001b[0m\u001b[0m\n",
      "\u001b[0;32m~/miniconda2/envs/nlu3/lib/python3.7/site-packages/pyrouge/Rouge155.py\u001b[0m in \u001b[0;36mconvert_and_evaluate\u001b[0;34m(self, system_id, split_sentences, rouge_args)\u001b[0m\n\u001b[1;32m    359\u001b[0m             \u001b[0mself\u001b[0m\u001b[0;34m.\u001b[0m\u001b[0msplit_sentences\u001b[0m\u001b[0;34m(\u001b[0m\u001b[0;34m)\u001b[0m\u001b[0;34m\u001b[0m\u001b[0;34m\u001b[0m\u001b[0m\n\u001b[1;32m    360\u001b[0m         \u001b[0mself\u001b[0m\u001b[0;34m.\u001b[0m\u001b[0m__write_summaries\u001b[0m\u001b[0;34m(\u001b[0m\u001b[0;34m)\u001b[0m\u001b[0;34m\u001b[0m\u001b[0;34m\u001b[0m\u001b[0m\n\u001b[0;32m--> 361\u001b[0;31m         \u001b[0mrouge_output\u001b[0m \u001b[0;34m=\u001b[0m \u001b[0mself\u001b[0m\u001b[0;34m.\u001b[0m\u001b[0mevaluate\u001b[0m\u001b[0;34m(\u001b[0m\u001b[0msystem_id\u001b[0m\u001b[0;34m,\u001b[0m \u001b[0mrouge_args\u001b[0m\u001b[0;34m)\u001b[0m\u001b[0;34m\u001b[0m\u001b[0;34m\u001b[0m\u001b[0m\n\u001b[0m\u001b[1;32m    362\u001b[0m         \u001b[0;32mreturn\u001b[0m \u001b[0mrouge_output\u001b[0m\u001b[0;34m\u001b[0m\u001b[0;34m\u001b[0m\u001b[0m\n\u001b[1;32m    363\u001b[0m \u001b[0;34m\u001b[0m\u001b[0m\n",
      "\u001b[0;32m~/miniconda2/envs/nlu3/lib/python3.7/site-packages/pyrouge/Rouge155.py\u001b[0m in \u001b[0;36mevaluate\u001b[0;34m(self, system_id, rouge_args)\u001b[0m\n\u001b[1;32m    334\u001b[0m         self.log.info(\n\u001b[1;32m    335\u001b[0m             \"Running ROUGE with command {}\".format(\" \".join(command)))\n\u001b[0;32m--> 336\u001b[0;31m         \u001b[0mrouge_output\u001b[0m \u001b[0;34m=\u001b[0m \u001b[0mcheck_output\u001b[0m\u001b[0;34m(\u001b[0m\u001b[0mcommand\u001b[0m\u001b[0;34m)\u001b[0m\u001b[0;34m.\u001b[0m\u001b[0mdecode\u001b[0m\u001b[0;34m(\u001b[0m\u001b[0;34m\"UTF-8\"\u001b[0m\u001b[0;34m)\u001b[0m\u001b[0;34m\u001b[0m\u001b[0;34m\u001b[0m\u001b[0m\n\u001b[0m\u001b[1;32m    337\u001b[0m         \u001b[0;32mreturn\u001b[0m \u001b[0mrouge_output\u001b[0m\u001b[0;34m\u001b[0m\u001b[0;34m\u001b[0m\u001b[0m\n\u001b[1;32m    338\u001b[0m \u001b[0;34m\u001b[0m\u001b[0m\n",
      "\u001b[0;32m~/miniconda2/envs/nlu3/lib/python3.7/subprocess.py\u001b[0m in \u001b[0;36mcheck_output\u001b[0;34m(timeout, *popenargs, **kwargs)\u001b[0m\n\u001b[1;32m    393\u001b[0m \u001b[0;34m\u001b[0m\u001b[0m\n\u001b[1;32m    394\u001b[0m     return run(*popenargs, stdout=PIPE, timeout=timeout, check=True,\n\u001b[0;32m--> 395\u001b[0;31m                **kwargs).stdout\n\u001b[0m\u001b[1;32m    396\u001b[0m \u001b[0;34m\u001b[0m\u001b[0m\n\u001b[1;32m    397\u001b[0m \u001b[0;34m\u001b[0m\u001b[0m\n",
      "\u001b[0;32m~/miniconda2/envs/nlu3/lib/python3.7/subprocess.py\u001b[0m in \u001b[0;36mrun\u001b[0;34m(input, capture_output, timeout, check, *popenargs, **kwargs)\u001b[0m\n\u001b[1;32m    485\u001b[0m         \u001b[0;32mif\u001b[0m \u001b[0mcheck\u001b[0m \u001b[0;32mand\u001b[0m \u001b[0mretcode\u001b[0m\u001b[0;34m:\u001b[0m\u001b[0;34m\u001b[0m\u001b[0;34m\u001b[0m\u001b[0m\n\u001b[1;32m    486\u001b[0m             raise CalledProcessError(retcode, process.args,\n\u001b[0;32m--> 487\u001b[0;31m                                      output=stdout, stderr=stderr)\n\u001b[0m\u001b[1;32m    488\u001b[0m     \u001b[0;32mreturn\u001b[0m \u001b[0mCompletedProcess\u001b[0m\u001b[0;34m(\u001b[0m\u001b[0mprocess\u001b[0m\u001b[0;34m.\u001b[0m\u001b[0margs\u001b[0m\u001b[0;34m,\u001b[0m \u001b[0mretcode\u001b[0m\u001b[0;34m,\u001b[0m \u001b[0mstdout\u001b[0m\u001b[0;34m,\u001b[0m \u001b[0mstderr\u001b[0m\u001b[0;34m)\u001b[0m\u001b[0;34m\u001b[0m\u001b[0;34m\u001b[0m\u001b[0m\n\u001b[1;32m    489\u001b[0m \u001b[0;34m\u001b[0m\u001b[0m\n",
      "\u001b[0;31mCalledProcessError\u001b[0m: Command '['/home/ubuntu/pyrouge/pyrouge/ROUGE-1.5.5/ROUGE-1.5.5.pl', '-e', '/home/ubuntu/pyrouge/pyrouge/ROUGE-1.5.5/data', '-c', '95', '-2', '-1', '-U', '-r', '1000', '-n', '4', '-w', '1.2', '-a', '-m', '/tmp/tmpmkj1n5cs/rouge_conf.xml']' returned non-zero exit status 255."
     ]
    }
   ],
   "source": [
    "result = rouge_eval(ref_dir, dec_dir)"
   ]
  },
  {
   "cell_type": "code",
   "execution_count": null,
   "metadata": {},
   "outputs": [],
   "source": [
    "# example\n",
    "\n",
    "r = Rouge155()\n",
    "r.system_dir = '/cs224u/processed_relationships/baseline/reference'\n",
    "r.model_dir = '/cs224u/processed_relationships/baseline/decoded'\n",
    "r.system_filename_pattern = 'some_name.(\\d+).txt'\n",
    "r.model_filename_pattern = 'some_name.[A-Z].#ID#.txt'\n",
    "\n",
    "output = r.convert_and_evaluate()\n",
    "print(output)\n",
    "output_dict = r.output_to_dict(output)"
   ]
  },
  {
   "cell_type": "code",
   "execution_count": null,
   "metadata": {},
   "outputs": [],
   "source": [
    "output_result = rouge_eval(ref_dir, dec_dir)"
   ]
  },
  {
   "cell_type": "code",
   "execution_count": null,
   "metadata": {},
   "outputs": [],
   "source": [
    "def rouge_log(results_dict, dir_to_write):\n",
    "  \"\"\"Log ROUGE results to screen and write to file.\n",
    "\n",
    "  Args:\n",
    "    results_dict: the dictionary returned by pyrouge\n",
    "    dir_to_write: the directory where we will write the results to\"\"\"\n",
    "  log_str = \"\"\n",
    "  for x in [\"1\",\"2\",\"l\"]:\n",
    "    log_str += \"\\nROUGE-%s:\\n\" % x\n",
    "    for y in [\"f_score\", \"recall\", \"precision\"]:\n",
    "      key = \"rouge_%s_%s\" % (x,y)\n",
    "      key_cb = key + \"_cb\"\n",
    "      key_ce = key + \"_ce\"\n",
    "      val = results_dict[key]\n",
    "      val_cb = results_dict[key_cb]\n",
    "      val_ce = results_dict[key_ce]\n",
    "      log_str += \"%s: %.4f with confidence interval (%.4f, %.4f)\\n\" % (key, val, val_cb, val_ce)\n",
    "  tf.logging.info(log_str) # log to screen\n",
    "  results_file = os.path.join(dir_to_write, \"ROUGE_results.txt\")\n",
    "  tf.logging.info(\"Writing final ROUGE results to %s...\", results_file)\n",
    "  with open(results_file, \"w\") as f:\n",
    "    f.write(log_str)"
   ]
  },
  {
   "cell_type": "code",
   "execution_count": null,
   "metadata": {},
   "outputs": [],
   "source": []
  }
 ],
 "metadata": {
  "kernelspec": {
   "display_name": "nlu3",
   "language": "python",
   "name": "nlu3"
  },
  "language_info": {
   "codemirror_mode": {
    "name": "ipython",
    "version": 3
   },
   "file_extension": ".py",
   "mimetype": "text/x-python",
   "name": "python",
   "nbconvert_exporter": "python",
   "pygments_lexer": "ipython3",
   "version": "3.7.3"
  }
 },
 "nbformat": 4,
 "nbformat_minor": 2
}
