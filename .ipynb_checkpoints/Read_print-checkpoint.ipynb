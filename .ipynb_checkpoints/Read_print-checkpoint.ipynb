{
 "cells": [
  {
   "cell_type": "code",
   "execution_count": 2,
   "metadata": {},
   "outputs": [],
   "source": [
    "from os import listdir\n",
    "from os.path import isfile, join\n",
    "from nltk.tokenize import TweetTokenizer\n",
    "import numpy as np\n",
    "import matplotlib.pyplot as plt"
   ]
  },
  {
   "cell_type": "code",
   "execution_count": 3,
   "metadata": {},
   "outputs": [],
   "source": [
    "def cal_f1_score(path_pre, eps = 0.0001):\n",
    "\n",
    "    ref_path = path_pre + '/reference/'\n",
    "    reference_files = [f for f in listdir(ref_path) if isfile(join(ref_path, f))]\n",
    "    dec_path = path_pre + '/decoded/'\n",
    "    decoded_files = [f for f in listdir(dec_path) if isfile(join(dec_path, f))]\n",
    "\n",
    "    reference_files.sort()\n",
    "    decoded_files.sort()\n",
    "\n",
    "    num_file = len(reference_files)\n",
    "    precisions = np.zeros(num_file)\n",
    "    recalls = np.zeros(num_file)\n",
    "\n",
    "    tokenizer = TweetTokenizer()\n",
    "    for i in range(num_file):\n",
    "    #     if reference_files[i][:6] ==  decoded_files[i][:6]:\n",
    "    #         print reference_files[i], decoded_files[i]\n",
    "        f_ref = open(ref_path + reference_files[i], 'r').read()\n",
    "        f_ref_token = set(tokenizer.tokenize(f_ref))\n",
    "    #     print(reference_files[i] ,f_red.read())\n",
    "        f_decode = open( dec_path + decoded_files[i], 'r').read()\n",
    "        f_decode_token = set(tokenizer.tokenize(f_decode))\n",
    "        precisions[i] = len(f_decode_token.intersection(f_ref_token)) * 1.0 / (len(f_decode_token) + eps)\n",
    "        recalls[i] = len(f_decode_token.intersection(f_ref_token)) * 1.0 / (len(f_ref_token)+ eps)\n",
    "        \n",
    "    pre = np.mean(precisions)\n",
    "    rec = np.mean(recalls)\n",
    "    f1 = 2.0 / (1.0/pre + 1.0/rec)\n",
    "    print('total ', i, ' number of samples')\n",
    "    return [pre, rec, f1 ]\n",
    "#         print reference_files[i]\n",
    "#         print \"ref:\", f_ref\n",
    "#         print decoded_files[i]\n",
    "#         print \"decode:\", f_decode\n",
    "#     print( decoded_files[i] , f_decode.read())\n",
    "# f = open('example.txt', 'r')\n"
   ]
  },
  {
   "cell_type": "code",
   "execution_count": null,
   "metadata": {},
   "outputs": [],
   "source": [
    "\n"
   ]
  },
  {
   "cell_type": "code",
   "execution_count": null,
   "metadata": {},
   "outputs": [],
   "source": []
  },
  {
   "cell_type": "code",
   "execution_count": null,
   "metadata": {},
   "outputs": [],
   "source": []
  },
  {
   "cell_type": "code",
   "execution_count": null,
   "metadata": {},
   "outputs": [],
   "source": []
  },
  {
   "cell_type": "code",
   "execution_count": 4,
   "metadata": {},
   "outputs": [
    {
     "name": "stdout",
     "output_type": "stream",
     "text": [
      "('total ', 4458, ' number of samples')\n"
     ]
    },
    {
     "data": {
      "text/plain": [
       "[0.14248918894115392, 0.38500032992872757, 0.20799800864727042]"
      ]
     },
     "execution_count": 4,
     "metadata": {},
     "output_type": "execute_result"
    }
   ],
   "source": [
    "# pretrained model\n",
    "path_pre = './log/pretrained_model/decode_test_400maxenc_4beam_35mindec_120maxdec_ckpt-238410'\n",
    "\n",
    "cal_f1_score(path_pre) # return: precision, recall, f1"
   ]
  },
  {
   "cell_type": "code",
   "execution_count": 5,
   "metadata": {},
   "outputs": [
    {
     "name": "stdout",
     "output_type": "stream",
     "text": [
      "('total ', 4458, ' number of samples')\n"
     ]
    },
    {
     "data": {
      "text/plain": [
       "[0.22693112952839692, 0.280542278653292, 0.2509048756007665]"
      ]
     },
     "execution_count": 5,
     "metadata": {},
     "output_type": "execute_result"
    }
   ],
   "source": [
    "# our training\n",
    "path_pre = './log/reddit_exp/decode_test_400maxenc_4beam_35mindec_120maxdec_ckpt-39995_cov_init_cov_init'\n",
    "\n",
    "cal_f1_score(path_pre)"
   ]
  },
  {
   "cell_type": "code",
   "execution_count": 6,
   "metadata": {},
   "outputs": [
    {
     "name": "stdout",
     "output_type": "stream",
     "text": [
      "('total ', 446413, ' number of samples')\n"
     ]
    },
    {
     "data": {
      "text/plain": [
       "[0.13421487565445456, 0.34257666185145413, 0.1928678697320262]"
      ]
     },
     "execution_count": 6,
     "metadata": {},
     "output_type": "execute_result"
    }
   ],
   "source": [
    "# lead-3 baseline\n",
    "path_pre = '../AskReddit_baseline_summarization'\n",
    "\n",
    "cal_f1_score(path_pre)"
   ]
  },
  {
   "cell_type": "code",
   "execution_count": null,
   "metadata": {},
   "outputs": [],
   "source": []
  },
  {
   "cell_type": "code",
   "execution_count": 34,
   "metadata": {
    "scrolled": true
   },
   "outputs": [
    {
     "data": {
      "text/plain": [
       "1.0"
      ]
     },
     "execution_count": 34,
     "metadata": {},
     "output_type": "execute_result"
    }
   ],
   "source": [
    "np.max(recalls)"
   ]
  },
  {
   "cell_type": "code",
   "execution_count": 35,
   "metadata": {},
   "outputs": [
    {
     "data": {
      "text/plain": [
       "0.38630394815427593"
      ]
     },
     "execution_count": 35,
     "metadata": {},
     "output_type": "execute_result"
    }
   ],
   "source": [
    "np.mean(recalls)"
   ]
  },
  {
   "cell_type": "code",
   "execution_count": 36,
   "metadata": {},
   "outputs": [
    {
     "data": {
      "text/plain": [
       "0.13801663019276983"
      ]
     },
     "execution_count": 36,
     "metadata": {},
     "output_type": "execute_result"
    }
   ],
   "source": [
    "np.mean(precisions)"
   ]
  },
  {
   "cell_type": "code",
   "execution_count": 7,
   "metadata": {},
   "outputs": [
    {
     "data": {
      "text/plain": [
       "517"
      ]
     },
     "execution_count": 7,
     "metadata": {},
     "output_type": "execute_result"
    }
   ],
   "source": [
    "i"
   ]
  },
  {
   "cell_type": "code",
   "execution_count": 28,
   "metadata": {},
   "outputs": [
    {
     "name": "stdout",
     "output_type": "stream",
     "text": [
      "000735_reference.txt\n",
      "ref: nothing .\n",
      "000735_decoded.txt\n",
      "decode: something ? seriously , i am now currently doing nothing it is because more then .\n",
      "am not on the internet but in the end it would be more effort for the same result .\n",
      "if i am said person asking said question in which whatever i was doing something that does not matter to you so by default in too becomes nothing .\n"
     ]
    }
   ],
   "source": [
    "i = 735\n",
    "f_ref = open(ref_path + reference_files[i], 'r').read()\n",
    "f_ref_token = set(tokenizer.tokenize(f_ref))\n",
    "#     print(reference_files[i] ,f_red.read())\n",
    "f_decode = open( dec_path + decoded_files[i], 'r').read()\n",
    "f_decode_token = set(tokenizer.tokenize(f_decode))\n",
    "# precisions[i] = len(f_decode_token.intersection(f_ref_token)) / len(f_decode_token)\n",
    "# recalls[i] = len(f_decode_token.intersection(f_ref_token)) / len(f_ref_token)\n",
    "print reference_files[i]\n",
    "print \"ref:\", f_ref\n",
    "print decoded_files[i]\n",
    "print \"decode:\", f_decode"
   ]
  },
  {
   "cell_type": "code",
   "execution_count": 31,
   "metadata": {
    "scrolled": true
   },
   "outputs": [
    {
     "data": {
      "text/plain": [
       "{u'.', u'nothing'}"
      ]
     },
     "execution_count": 31,
     "metadata": {},
     "output_type": "execute_result"
    }
   ],
   "source": [
    "f_decode_token.intersection(f_ref_token)"
   ]
  },
  {
   "cell_type": "markdown",
   "metadata": {},
   "source": [
    "## relationships small dataset"
   ]
  },
  {
   "cell_type": "code",
   "execution_count": 26,
   "metadata": {},
   "outputs": [],
   "source": [
    "def add_example(eg_list, f_content, f_ref, f_decode, precision, recall):\n",
    "    return eg_list + [{'content':f_content, 'reference': f_ref, 'decode': f_decode, \n",
    "                      'precision': precision, 'recall': recall}]"
   ]
  },
  {
   "cell_type": "code",
   "execution_count": 3,
   "metadata": {
    "scrolled": true
   },
   "outputs": [
    {
     "ename": "IOError",
     "evalue": "[Errno 2] No such file or directory: './log/small_exp/decode_test_400maxenc_4beam_35mindec_120maxdec_ckpt-623_cov_init/content/000000_reference.txt'",
     "output_type": "error",
     "traceback": [
      "\u001b[0;31m---------------------------------------------------------------------------\u001b[0m",
      "\u001b[0;31mIOError\u001b[0m                                   Traceback (most recent call last)",
      "\u001b[0;32m<ipython-input-3-921af270262a>\u001b[0m in \u001b[0;36m<module>\u001b[0;34m()\u001b[0m\n\u001b[1;32m     31\u001b[0m \u001b[0;31m#         print reference_files[i], decoded_files[i]\u001b[0m\u001b[0;34m\u001b[0m\u001b[0;34m\u001b[0m\u001b[0m\n\u001b[1;32m     32\u001b[0m     \u001b[0mf_ref\u001b[0m \u001b[0;34m=\u001b[0m \u001b[0mopen\u001b[0m\u001b[0;34m(\u001b[0m\u001b[0mref_path\u001b[0m \u001b[0;34m+\u001b[0m \u001b[0mreference_files\u001b[0m\u001b[0;34m[\u001b[0m\u001b[0mi\u001b[0m\u001b[0;34m]\u001b[0m\u001b[0;34m,\u001b[0m \u001b[0;34m'r'\u001b[0m\u001b[0;34m)\u001b[0m\u001b[0;34m.\u001b[0m\u001b[0mread\u001b[0m\u001b[0;34m(\u001b[0m\u001b[0;34m)\u001b[0m\u001b[0;34m\u001b[0m\u001b[0m\n\u001b[0;32m---> 33\u001b[0;31m     \u001b[0mf_content\u001b[0m \u001b[0;34m=\u001b[0m \u001b[0mopen\u001b[0m\u001b[0;34m(\u001b[0m\u001b[0mcont_path\u001b[0m \u001b[0;34m+\u001b[0m \u001b[0mreference_files\u001b[0m\u001b[0;34m[\u001b[0m\u001b[0mi\u001b[0m\u001b[0;34m]\u001b[0m\u001b[0;34m,\u001b[0m \u001b[0;34m'r'\u001b[0m\u001b[0;34m)\u001b[0m\u001b[0;34m.\u001b[0m\u001b[0mread\u001b[0m\u001b[0;34m(\u001b[0m\u001b[0;34m)\u001b[0m\u001b[0;34m\u001b[0m\u001b[0m\n\u001b[0m\u001b[1;32m     34\u001b[0m     \u001b[0mf_decode\u001b[0m \u001b[0;34m=\u001b[0m \u001b[0mopen\u001b[0m\u001b[0;34m(\u001b[0m \u001b[0mdec_path\u001b[0m \u001b[0;34m+\u001b[0m \u001b[0mdecoded_files\u001b[0m\u001b[0;34m[\u001b[0m\u001b[0mi\u001b[0m\u001b[0;34m]\u001b[0m\u001b[0;34m,\u001b[0m \u001b[0;34m'r'\u001b[0m\u001b[0;34m)\u001b[0m\u001b[0;34m.\u001b[0m\u001b[0mread\u001b[0m\u001b[0;34m(\u001b[0m\u001b[0;34m)\u001b[0m\u001b[0;34m\u001b[0m\u001b[0m\n\u001b[1;32m     35\u001b[0m \u001b[0;34m\u001b[0m\u001b[0m\n",
      "\u001b[0;31mIOError\u001b[0m: [Errno 2] No such file or directory: './log/small_exp/decode_test_400maxenc_4beam_35mindec_120maxdec_ckpt-623_cov_init/content/000000_reference.txt'"
     ]
    }
   ],
   "source": [
    "path_pre = './log/small_exp/decode_test_400maxenc_4beam_35mindec_120maxdec_ckpt-623_cov_init'\n",
    "\n",
    "cont_path = path_pre + '/content/'\n",
    "content_files = [f for f in listdir(cont_path) if isfile(join(cont_path, f))]\n",
    "ref_path = path_pre + '/reference/'\n",
    "reference_files = [f for f in listdir(ref_path) if isfile(join(ref_path, f))]\n",
    "dec_path = path_pre + '/decoded/'\n",
    "decoded_files = [f for f in listdir(dec_path) if isfile(join(dec_path, f))]\n",
    "\n",
    "content_files.sort()\n",
    "reference_files.sort()\n",
    "decoded_files.sort()\n",
    "\n",
    "eps = 0.0001\n",
    "\n",
    "num_file = len(decoded_files)\n",
    "precisions = np.zeros(num_file)\n",
    "recalls = np.zeros(num_file)\n",
    "\n",
    "low_prec_low_recall = []\n",
    "low_prec_high_recall = []\n",
    "high_prec_low_recall = []\n",
    "high_prec_high_recall = []\n",
    "\n",
    "low_shreshold = 0.2\n",
    "high_shreshold = 0.5\n",
    "\n",
    "tokenizer = TweetTokenizer()\n",
    "for i in range(num_file):\n",
    "#     if reference_files[i][:6] ==  decoded_files[i][:6]:\n",
    "#         print reference_files[i], decoded_files[i]\n",
    "    f_ref = open(ref_path + reference_files[i], 'r').read()\n",
    "    f_content = open(cont_path + content_files[i], 'r').read()\n",
    "    f_decode = open( dec_path + decoded_files[i], 'r').read()\n",
    "    \n",
    "    f_ref_token = set(tokenizer.tokenize(f_ref))\n",
    "    f_content_token = set(tokenizer.tokenize(f_ref))\n",
    "#     print(reference_files[i] ,f_red.read())\n",
    "    f_decode_token = set(tokenizer.tokenize(f_decode))\n",
    "    precision = len(f_decode_token.intersection(f_ref_token)) * 1.0 / (len(f_decode_token) + eps)\n",
    "    precisions[i] = precision\n",
    "    recall = len(f_decode_token.intersection(f_ref_token)) * 1.0 / (len(f_ref_token)+ eps)\n",
    "    recalls[i] = recall\n",
    "    if precision <= low_shreshold and recall <= low_shreshold:\n",
    "        low_prec_low_recall = add_example(low_prec_low_recall, f_content, f_ref, f_decode, precision, recall)\n",
    "    elif  precision <= low_shreshold and recall > high_shreshold:\n",
    "        low_prec_high_recall = add_example(low_prec_high_recall, f_content, f_ref, f_decode, precision, recall)\n",
    "    elif precision > high_shreshold and recall <= low_shreshold:\n",
    "        high_prec_low_recall = add_example(high_prec_low_recall, f_content, f_ref, f_decode, precision, recall)\n",
    "    elif precision > high_shreshold and recall > high_shreshold:\n",
    "        high_prec_high_recall = add_example(high_prec_high_recall, f_content, f_ref, f_decode, precision, recall)\n",
    "        \n",
    "    print('content: ', f_content)\n",
    "    print('reference: ', f_ref)\n",
    "    print('decoded:', f_decode)\n",
    "\n",
    "pre = np.mean(precisions)\n",
    "rec = np.mean(recalls)\n",
    "f1 = 2.0 / (1.0/pre + 1.0/rec)\n",
    "print('total ', i, ' number of samples')\n",
    "examples = {'low_prec_low_recall': low_prec_low_recall,\n",
    "           'low_prec_high_recall': low_prec_high_recall,\n",
    "           'high_prec_low_recall': high_prec_low_recall,\n",
    "           'high_prec_high_recall': high_prec_high_recall}\n",
    "# return [pre, rec, f1 ]"
   ]
  },
  {
   "cell_type": "code",
   "execution_count": 37,
   "metadata": {
    "scrolled": false
   },
   "outputs": [
    {
     "name": "stdout",
     "output_type": "stream",
     "text": [
      "('low_prec_high_recall', 3)\n",
      "('low_prec_low_recall', 8)\n",
      "('high_prec_high_recall', 10)\n",
      "('high_prec_low_recall', 0)\n"
     ]
    },
    {
     "data": {
      "text/plain": [
       "{'high_prec_high_recall': [{'content': \"so i thought i 'd update you on this . this might be long after i messaged rosie i blocked her because anxiety took over and i was afraid she would be really mad . fast forward a few days i get a message from a friend who also knows rosie who says hey op i saw rosie and she said that she 'd been having issues getting online but she got some messages from you with screenshots and she ca n't seem to reply but she 's really grateful you sent them because it put a lot of things into perspective for her . so i unblocked her and explained that i was worried she 'd be mad and that i hope she 's okay etc. . she has n't replied . but i feel at peace about the situation i 'm really glad i told her and i hope that i 've made a positive difference to her life . on to greg greg decided to make a fake profile and add me as a friend not long after i 'd blocked him and cut contact . i refused the request but received a message from him saying about how i 'd ruined his life and i should be ashamed of myself . i blocked the fake profile and moved on without replying .\",\n",
       "   'decode': \"told my old friend her boyfriend had came on to me while they were on a break she took him really well and did friend relatives broke how do i do life n't or ?\",\n",
       "   'precision': 0.7812475586013793,\n",
       "   'recall': 0.6249984375039062,\n",
       "   'reference': \"told my old friend her boyfriend had came on to me while they were on a break she took it really well and did n't get back together with him . she seems happy . i 'm happy . all is well in the universe .\"},\n",
       "  {'content': \"so had a break up with my ex couple of weeks back . was n't a pretty break up , but i am getting by . i started using a dating website called okcupid , which i am sure many of you know of . after browsing on it for a couple of weeks i noticed my ex gfs current boyfriend is on there , and was even online at the time . i pay for the membership so i can browse anonymously . my ex and i do n't talk , nor are we even friends , but do i mention this to her ? they met through work and i know she has no idea about his dating profile . i would n't think much of his profile if it said `` last online x months ago '' but he seems to be on it daily . saying he is single and such . do i just let this slide ? my ex pretty much hates me and talking to her really would just make things worse between us .\",\n",
       "   'decode': 'how do ex there ex girlfriends gfs boyfriend has an active dating profile looking for girls .\\ndo i tell her or just leave her alone she own independence for it style you or ?',\n",
       "   'precision': 0.6999976666744444,\n",
       "   'recall': 0.83999664001344,\n",
       "   'reference': 'found out my ex girlfriends current boyfriend has an active dating profile looking for girls . do i tell her or just leave her alone ?'},\n",
       "  {'content': \"we were out saturday with another couple that are our friends . they left early , we stayed out and kept drinking . now , my fiancee and i have been together for over 3 and a half years . when we first started dating , i had just gotten released from a mental hospital for attempting suicide . she was actually what kept me from going right back in there . she knows this . what she did n't know was that that was the third time i had attempted suicide . we started talking about how she saved my life , blah blah blah , then i brought up the previous times i had attempted suicide . now , the problem is , in my drunken state , i was talking in the present tense about what happened in the past . so , she thinks i 'm depressed and suicidal again . how do i convince her it was all in the past and behind me ? understandably , she 's hesitant to believe me and thinks i 'm depressed because i do n't like my job and i 'm hiding it .\",\n",
       "   'decode': \"brought up past suicide attempts with fiancee and spoke in the present tense .\\ndo i tell her or just leave her alone .\\ndo tell should i though should i go i 'm suicidal again now .\",\n",
       "   'precision': 0.6666644444518518,\n",
       "   'recall': 0.9090867768782869,\n",
       "   'reference': \"brought up past suicide attempts with fiancee and spoke in the present tense . she thinks i 'm suicidal again now .\"},\n",
       "  {'content': \"to give a quick summary of who i am : . pretty outspoken individual who went to a prestigious university in the same town as my medical program . i was very excited when the program was about to begin because i was expecting a close network of friends and positive people . it has been exactly the opposite . i have never been surrounded by so many rude , selfish complainers in my life . this is only aggravated because i frequently go out of my way to do things for my class as i hold an officer position -lrb- i.e. organizing a service trip to a latin american country , organizing guest speakers , organizing professional apparel orders -rrb- . i understand that respect is earned , but it does n't help that i am one of the jokers of the class and i sit in the front row -lrb- not typically a front row person in undergrad , but i use my laptop during class and did n't want to get distracted -rrb- . overall , i am sorely disappointed with how judgmental , cliquish , and unsupportive my class is . specially coming from a liberal undergrad where expressing your opinion was appreciated -lrb- my classmates are very ready to throw anybody under the buss for anything -rrb- , i 'm taking this really hard . we had a pool party today to raise money for the service trip and i was actually having a decent time , but one of my classmates came up and started yelling at me about something menial and i just lost it . ended up slamming a chair down and leaving . it made a bit of a scene and now i have to see them tomorrow in class . i am just exhausted of being treated as somebody less than human while i am trying to do work for them without their acknowledgement . we have already lost 18 % of our class . part of this was due to grades , but speaking to a lot of the people who did n't make it , it appears that a large part of it was how unsupported they were by their classmates . i am wondering if i should just focus on life outside of my class ? should i just give up on them ? i 'm already that girl in the front row , but should i just not talk ? honestly , i need friends ... i 'm really struggling ... and i have to spend two more years with these people -lrb- 5x a week and we do n't get summers off -rrb- .\",\n",
       "   'decode': \"do because program that is really cliquish and i 'm handling it worse than i 've ever handled anything in my life .\\ndo n't or or just leave her alone them or leave ?\",\n",
       "   'precision': 0.8064490114548017,\n",
       "   'recall': 0.6249984375039062,\n",
       "   'reference': \"competitive medical program that is really cliquish and i 'm handling it worse than i 've ever handled anything in my life . do n't know if there are certain things that i can do to be proactive or if i should just stop caring .\"},\n",
       "  {'content': \"after 9 months of a very smooth relationship we had a break up . we had been through a lot and had always talked out our problems and overcame them together . suddenly she said she felt like she was making my life worse by adding more stress and bringing me to the edge when she was n't . she has n't been replying to my texts and deleted me off facebook and twitter . i 've known her for 4 years and this is n't like her . we have a long distance relationship and i really want her back . i want to surprise her by taking a trip to her city , showing up at her work with flowers and telling her just how happy she has made me and how much she means to me but i do n't know if that is too romance movie stalker type .\",\n",
       "   'decode': \"knew her 4 years , dated for 9 months , suddenly started blaming herself and left , want her back by doing a very romantic/creepy and to from .\\ni 'm not there get support her .\",\n",
       "   'precision': 0.7647036332246081,\n",
       "   'recall': 0.8124974609454345,\n",
       "   'reference': 'knew her 4 years , dated for 9 months , suddenly started blaming herself and left , want her back by doing a very romantic/creepy way to show her what she means to me .'},\n",
       "  {'content': \"i have lived with my boyfriend for the last three years and he gets upset about any little thing . he works from home and gets upset if i make any nosie while hes working , but he also gets upset when i spend to much time on the internet . he gets upset every time he has to take the dog out or the trash or i ask him to do dishes . i am tired of dealing with it but am not sure how to break it off . since we have lived together for so long all of our lives are so intertwined it feels like the effort to break it off is paramount to a divorce and i am not sure if its worth it , but at the same time i have decided that i do n't want to deal with it anymore .\",\n",
       "   'decode': 'boyfriend gets upset about everything ; i want to break up but am not sure how since we have effort want to but to but to back time .\\nanyone have to have divorce else movie style .',\n",
       "   'precision': 0.7142831632744169,\n",
       "   'recall': 0.7999968000127999,\n",
       "   'reference': 'boyfriend gets upset about everything ; i want to break up but am not sure how since we have lived together for so long .'},\n",
       "  {'content': \"we 've known each other since we were 14 , so we 've been in contact for nearly ten years now . we , a long time ago , did try and end up together but ... she was a hot popular girl , i was a socially awkward teenage guy with poor social skills at best . fast forward a few years : she 's had some relationships , not all great . i 've been engaged , and moved out . gotten rid of the socially awkward , seen the world a bit more . i 've just left a relationship of two years , and so has she . the real kicker , and what i want to know is ... well , we talk , text ... a lot . we 're talking 40-70 texts a day here . it has descended into flirting a few times but she 's always been a fairly reserved person , and neither of us really want to push texts and things in that direction . in real life , though , there 's a lot of accidentally touching , being in each others space when it 's not required . there 's more of a spark there than there used to be . messages on a postcard please . we 're going to the pub in ... 14:15 hours from this post . :-rrb- . so , .\",\n",
       "   'decode': \"do i make a move on my best friend when i 'm pretty sure there is something there ? even though on or should i 'm pretty sure there is something there ? even though routine a is been needy ?\",\n",
       "   'precision': 0.7999968000127999,\n",
       "   'recall': 0.6451592091638414,\n",
       "   'reference': \"do i make a move on my best friend when i 'm pretty sure there is something there ? even though , if i 'm wrong , it risks making things a bit ... awkward .\"},\n",
       "  {'content': \"i work with some really catty coworkers 22 24f . they 're the type to talk behind others ' backs constantly make snide comments and bond over gossiping about others . for context i 'm introverted and keep to myself more . i still act professionally to all my coworkers and say hi when i see them . there 's one female coworker in particular who never seemed to like me . i posted about it in a different subreddit a few weeks ago . she 'd ignore my greetings and never talk to me even in groups . she 'd ask everyone in our row for help except me . people said to ignore her and honestly i stopped caring for a while . however i 've recently noticed that 3 of the coworkers she 's closest with with have become cold toward me too . they would n't even greet me and the one i used to talk with often would cut conversations with me short . am i jumping to conclusions when i assume this catty coworker had something to do with this moreover any advice to help me keep my confidence in this kind of environment .\",\n",
       "   'decode': \"catty coworker never liked me .\\nthe people she 's closest with have suddenly become cold towards me too .\\nany advice besides approaching her ignore support ignore during ignore wants i am in and suddenly started blaming herself to from me .\\ni 'm not sure help her support with gf gf 's treating well and how\",\n",
       "   'precision': 0.5333321481507819,\n",
       "   'recall': 0.92307337279472,\n",
       "   'reference': \"catty coworker never liked me . the people she 's closest with have suddenly become cold towards me too . any advice besides approaching her about this .\"},\n",
       "  {'content': \"so i 've known this girl at my church for about 2 years now . i have n't really talked to her at all until the middle of last year . then again i have n't engaged in any full conversations with her as she was and still is very shy awkward around me . i would always catch her looking at me etc. and i had a great feeling she was interested in me . anyway i mustered up the courage to ask her out over text and she said yes . we have n't been able to go out though since both of us have been very busy . since the beginning of this year 2017 she has been constantly initiating snapchat messages texting with me freely etc. . we 'd flirt too things were going really smoothly and we were learning some great things about each other . i even gave her a ride home from church on sunday and she seemed very interested she invited me to an activity on wednesday . we would make constant eye contact too . until several nights ago one of our friends sort of got involved i guess on our date on the 25th . her friend told me that she is currently not interested in any sort of dating or relationship at the very moment but would rather have a platonic relationship . i was pretty confused when i heard this so i did end up confronting her about this last night . it took her a while to respond to this message and i did tell her we could just play off as a platonic relationship i guess . she did agree but now she wo n't message me at all in fact she 's beginning to ignore my messages . i feel like a little bit of something has died . i do n't know what happened . perhaps she might see me more than a friend who knows . i would like some input and advice on this situation . thank you for your advice reddit . i would be happy to answer any clarifications or share any messages we had in our convo over text .\",\n",
       "   'decode': \"new that revealed signs of interest for a long time tells a friend of platonic mine that she two weeks only interested in a platonic cold towards me .\\nany advice besides approaching her approaching 's booty any alone her should year number or how\",\n",
       "   'precision': 0.5789458448793555,\n",
       "   'recall': 0.5365840571120558,\n",
       "   'reference': \"girl that revealed signs of interest for a long time tells a friend of mine that she 's only interested in a platonic relationship so i confront her about it and agree to it and now she ignores me that little bit of something feels like it 's missing with her .\"},\n",
       "  {'content': \"my gf -lrb- 17 -rrb- slept with around 30 people after her dad went to prison as a way of taking out her anger . she was younger at the time but this does n't make me think about it any less . some of these guys she fucked with no condom and i cant stop thinking about these other guys ... she was also abused by one guy and i 've considered killing him but that 's another issue i guess ... how can i get over these issues and stop thinking about it ? i think about her past so much and it really depresses me . thanks for reading .\",\n",
       "   'decode': 'new fucked loads of guys before we met and this depresses me , how do i stop thinking thinking about it it about have other issues stop about number or should about about about her .',\n",
       "   'precision': 0.6785690051106961,\n",
       "   'recall': 0.9499952500237498,\n",
       "   'reference': 'gf fucked loads of guys before we met and it depresses me , how do i stop thinking about it .'}],\n",
       " 'high_prec_low_recall': [],\n",
       " 'low_prec_high_recall': [{'content': \"i am a 57-year old , happily married man , living near a major northeast city . my wife and i want different things sexually , and while we usually have a great time in bed , it 's usually her doing things for me , and me doing different things for her . it 's been frustrating at times , so last year we started swinging . and it 's been amazing for both of us . we met another couple that has a similar incompatibility , but with the genders reversed . so the four of us have the most amazing sex , either in a group , or pairing off . for various reasons , this relationship with the other couple is cooling off , and possibly ending . my wife had her adventure and is done . i 'm not done , and my wife is fine with that . she is actively encouraging me to find new partners . so here 's my problem : how do i find sexual partners , at my age , and in my situation -- an open marriage ? as a single guy on the swingers ' website , where we met the other couple , i have had zero luck . -lrb- singles on that website are common . -rrb- i 'm in great shape for my age , but it seems that women my age and younger are mostly interested in even younger men . i have no clue how to pick up women at a bar , or anywhere else for that matter . never have . dating websites are for dating , and i 'm not interested in a relationship . what i 'm trying to find is an ongoing friends-with-benefits situation , and/or one-night stands . i have no idea how to pursue either of these . surely there are women of my age , or a bit younger , who want that too ? how do i find them ?\",\n",
       "   'decode': \"almost having an guy find my car her an international all in the arrangement .\\nhow can i be to help her mine that that that 's $ later too to what me what me alone the wo you tell me what 's 's 's booty any approaching ?\",\n",
       "   'precision': 0.13513476990602727,\n",
       "   'recall': 0.5555493827846357,\n",
       "   'reference': 'how does an old guy find no-strings-attached sex ?'},\n",
       "  {'content': \"so we had a new flatmate move in a month ago , and i like her . i think she 's sweet , kind , beautiful and i 'm happy whenever i 'm with her . there 's two problems . she 's really flirty with most of the other guys in the house , and we talk sometimes and exchange a few glances before she looks away but i do n't know if she 's interested . she said she 's an introvert as well which makes it kind of harder to read . whenever i see her i 'm the one that starts talking but with everyone else in the house she 's comfortable to make the first move . she 's stopped laughing at all of my terrible jokes all of a sudden as well . second problem - i went through a bad breakup a couple of months ago which she knows about . my ex phoned up about fixing things earlier on and i told her i was n't interested . i do n't know , i guess i 'm worried that she 'll think that if i like her it 's just a rebound -lrb- not the case , obviously -rrb- . i do n't know , if you have any experience , does closing up on someone mean they 're interested if they 're shy or ? i 'm worried that she thinks my ex defines my emotions right now , i do n't really know the best way to approach that .\",\n",
       "   'decode': \"girlfriend cheated because and i broke up for this ? i get know to of n't a been seeming too needy ? call up a my now now is smooth sailing i.e do n't annoy know should i cut ?\",\n",
       "   'precision': 0.15624951172027585,\n",
       "   'recall': 0.6249921875976551,\n",
       "   'reference': 'thing for my flatmate . what do ?'},\n",
       "  {'content': \"hi y' all ! i 'm a long time lurker , first time poster . i 've been dealing with my family/friends/community fat logic and i just do n't know how to cope with it all . i 'm from a small southern town . it 's incredibly stereotypical , in that everyone is racist/super religious and works at the local factory or piggly wiggly -lrb- yes , we really have them -rrb- . obesity , as you can probably imagine , is quite high . and honestly , it 's a huge -lrb- no pun intended -rrb- part of our culture : after church , we have a huge sunday lunch at meemaw 's , and lawd help you if you do n't clean your plate . i 'm the very first in my family , on both sides , to go to and graduate from college , and one of the only people from my town to go on to law school . i have a job in the `` big city '' but i live only 1.5 hours away so i go home regularly , and my people are still a big part of my life . i 'm fat , but losing -lrb- 5 ' 4 and 280 -- 240 -rrb- . i 'm having trouble because every time i mention losing weight , my friends/family/community get ugly and start accusing me of being stuck up . last weekend , i got into a fight with my step mother and she got in my face shouting that i think i 'm so much better than they aree , just for using my weight watchers . i talked to my best friend -lrb- since i was 3 -rrb- about it , and she agreed with my step mom ! cutting these people out of my life is not an option , because i do love them ad they 've been there for me time and again . honestly , i 'm losing weight because i ca n't do basic things that someone my age should be able to do with no problem , like tie my shoes , get off the floor with no problem , sit in chairs/booths etc. . and they know this . they 've seen me at my biggest struggling to breath , with my legs all swollen up -lrb- sorry for the tmi -rrb- . has anyone dealt with something similar ?\",\n",
       "   'decode': \"how do i deal do age be though should to even though seemed fantastic law wo n't know to anything i 'm not sure help her support sides ? even about should school or should with is asking it continue suicidal to get get me me support to , but up routine n't anything the ?\",\n",
       "   'precision': 0.14285680272189827,\n",
       "   'recall': 0.545449586821938,\n",
       "   'reference': 'how do i deal with my community while losing weight ?'}],\n",
       " 'low_prec_low_recall': [{'content': \"first thing to know is that i have never dated and i am honestly clueless on how to get someone to hangout unless we have the same hobby or something and they want to hang out . so me and a friend are in a awkward stage of texting after a date went awkward and we agreed to be friends before doing any more dating . i 've been trying to think of how to get past this awkward stage without stressing her out or anything . we do n't really have anything in common but i am always up to do new things . we both have quite a few things keeping us from hanging out one big thing is that she has a child . i like her and she needs a friend right now so i 'm trying to figure out how i can get this to work . so is the best way to handle this is to be kindly honest and talk to her about how she wants to get past this phase . i 'm sorta scared that i will scare her off but i feel like we text each other and ask the same questions over and over . i would feel like she does n't like me but she has texted me when i do n't text her at least once a day . so if i do this what should i say she has a 1 year old child and works constantly . i do n't want to stress her out or rush her but i would like to know if she wants to go anywhere farther then -lrb- hey . hey . how was your day today ? good u ? -rrb- . so any ideas ? also sorry if this is confusing i have retyped this at least 10 times to make it more simple and less confusing .\",\n",
       "   'decode': \"how do if wants text new is n't respect is but go new is the suddenly tense do give from towards me .\\nany advice besides approaching her support n't or leave leave her alone n't or ?\",\n",
       "   'precision': 0.0,\n",
       "   'recall': 0.0,\n",
       "   'reference': 'mandatory summary/question !'},\n",
       "  {'content': 'so i just broke up with a gf of 5 years . last time we broke up , a little over a year ago , i jumped right into dating and i was too much . i just wanted that void in my life filled and i become super clingy with the first girl , scaring her off . the second liked my clingyness and we dated for 3 months before i ended up cheating on her with my ex then getting back with her . now i am broken up again since august , and i have that feel again . i feel like if a random girl came off the street and told me the time i would fall for her . so sooner or later i am going to want to start dating , sooner rather than later. , so i need help on how to date . i have never done it . my ex of 5 years was my first gf , so i never had to . i just feel like any girl i would go out with i would become too much again . i would want to see them every day and text and talk and force a relationship to form . and then end up hurting someone again . i still get sad thinking about the girl i hurt last year . i am also afraid of the opposite , since i am aware of what may occur , i may do everything to prevent it . i may miss a good opportunity . i know trial and error is really that answer , but any advice or insight would be greatly appreciated. :-rrb- .',\n",
       "   'decode': \"new so girl over the people ex might occur wait ex 'm not have , girl good may to , willing you to tell me what 's alone came what her shot 's leave .\",\n",
       "   'precision': 0.19999933333555556,\n",
       "   'recall': 0.1499996250009375,\n",
       "   'reference': 'i am a few months out of a 5 year relationship and i would like to try dating again but i am scared i will force a relationship or since i am so aware of my habbit to do so , may block someone out . i never dated , i only had the one ltr .'},\n",
       "  {'content': \"in the comments of -lsb- my previous submission -rsb- -lrb- was a confession that i had a crush on another girl . i thought i was over her , however , as she also lives in this house , my feelings for her suddenly came back . i never confessed to her anything and i treat all girls equally . today , however , i started a fight with my room mates over something stupid , which has lead me to make a decision . i need to move out quickly because these relationships are toxic . not only have i become more sexually frustrated , i am also an emotional time bomb . i believe that only through separation , i can become stable again . it is a shame to loose my room mates as friends , however , if i do n't want to become a creep for the rest of my life , i will have to make this sacrifice . the next weeks will be tough . not only will we part ways , but the healing process can begin . i just hope that , someday , i can find people as awesome as them and maybe even find a girl who wants to start a romantic relationship with me . thanks for the advice anyway . talking about it did help me stay strong .\",\n",
       "   'decode': 'how do relationship .\\nmy , my when with is for even to the arrangement my that that problems have suddenly become cold towards me .\\nany advice besides approaching her approaching me support my fantastic on routine .',\n",
       "   'precision': 0.12903184183276828,\n",
       "   'recall': 0.19999900000499998,\n",
       "   'reference': 'old crush made things too complicated , so i am breaking all bonds with my room mates very soon .'},\n",
       "  {'content': \"so i know reddit is a minefield when it comes to overweight women . my fiance , jess , is overweight . she has been since i 've known her . i would say that when we met she was 5 ' 0 and 220 , and she has been steadily losing weight since the wedding plans were being set . she has been working hard all year to lose weight . myfitnesspal , weight lifting , cardio kickboxing classes , all of it . we never ate very unhealthy to begin with , but we are big drinkers , so we cut alcohol down significantly . our wedding is in 3 weeks . she came home sobbing from her final dress fitting , and started begging me to cancel the wedding . she said that she is too fat to be a wife , that she looks disgusting in her dress , she does n't want me to see her , that she feels like a troll , and that she is embarrassed to let me walk down the aisle with a fat girl . right now she is out at the park with the dog doing laps . my heart is breaking over this . i think she looks amazing . i thought she looked great when we met -- obviously , i fell in love with her . it 's not like i 'm a body builder chad type with bulging muscles , either . i 'm fit , but not muscular , and i have honestly never been one to care about a girl 's size when it comes to this stuff . and it 's not like she 's still 220 . her mfp app has her last weigh-in at 140 . i do n't know what to do or how to help . i asked her maid of honor what to do , and she did n't know . but i know we can not cancel this wedding -lrb- so many people are coming in from out of town already -rrb- , we can not change anything . what do i do to help her ?\",\n",
       "   'decode': \"knew -rrb- , gf , but worried we have in 's girlfriend 'm i 'm not sure how to help her do do thought guys do routine to , should help independence in even though get ?\",\n",
       "   'precision': 0.19354776274915242,\n",
       "   'recall': 0.1764700692056788,\n",
       "   'reference': \"fiance wants to cancel the wedding because she thinks she is too fat . i do n't know how to help her . she has lost a lot of weight and had her final fitting for her dress and she feels awful .\"},\n",
       "  {'content': \"last time i posted this on a throwaway which i told her about and she found it anyway -lrb- she was n't very happy about it -rrb- . if she wants to look , i want to give her something to see . 20 yr old gf -lrb- i 'm 23 yr old m -rrb- of about 3 years keeps spying on me to see what i do on reddit . i 've tried telling her what i do on reddit , tried sharing with her , offered to show her how this site works but she still has n't joined and keeps spying on my account . so today i put up this meme because if i say she 's attached then she must be , but refuses to outright admit what she 's doing . i also have confirmed that she has tried to hack into my account . admittedly , she has told me in the past that she feels really shitty for doing this , but that does n't change the fact that this is still happening . this all stems from past relationships where the guys were assholes and broke her trust repeatedly , but now i have to bear that cross which is entirely unfair . gim me advice ?\",\n",
       "   'decode': 'just you there this guy find an ? pretty on me what ? she me me what ? call ldr routine reddit to cut ties my block her number or how can get ties it ?',\n",
       "   'precision': 0.06896527943007093,\n",
       "   'recall': 0.12499921875488279,\n",
       "   'reference': \"girlfriend spies on account , has tried hacking it , and i 'm sick of it .\"},\n",
       "  {'content': \"alright , so i 'll try to keep this post as short as possible . i also have only posted on reddit itself a handful or times , so if im missing something , i apologize . i was with a guy for a little over 2 years . we were perfect together & everyone agreed , he loved me & i loved him . however , during this time , he was fighting leukemia & even with severe medical treatments , it kept coming back . even now , after bereavement , it all seems so surreal for me . for privacy 's sake , i 'm keeping his name anonymous as he had a large fanbase of almost half a million people & the last thing i want is anyone assuming oh , you 're just looking for booty calls . trust me , if he had never passed away , i would n't even be here asking for advice . one of the things we talked about before he passed was that he wanted me to be happy & that i would find someone who would do just that . granted , the person in question -lsb- 24 m -rsb- i know full-well will never replace him , but he has lost both of his parents a few years back to cancer as well , so if anyone knows how bereavement on an extreme level like mine is , it would be him . now me & my friend have been friends since approximately 2012 & while we are on good terms with each other , he has told me that he is n't ready for any kind of relationship ; shortly after my boyfriend died , a girl he was with for so many years broke up with him . he 's told me that he 's still feeling devastaed & while he 's looking at other people , trying to -lrb- i can only assume -rrb- get over her has n't been easy for him in the slightest . there are also some other things severely concerning about pursuing a relationship with him , such as how this would be long-distance -lrb- it 's only one state , but for sizes each state is , it 's quite a trip -rrb- & introducing him to my parents -lrb- with my late bf , they loved him in 5 minutes , so he has some pretty big shoes to fill , should he ever like me back -rrb- . i guess what im trying to ask is i 'm trying to move on , but i miss all the things about a relationship & the one guy i 'm friends with has relationship problems of his own . thoughts ?\",\n",
       "   'decode': \"old medical my up with dated him remind with , love all to get know to talk to help her support he during that that 's only so so so so so so so so so my might corrupt what we have have says it it .\",\n",
       "   'precision': 0.18181763085566405,\n",
       "   'recall': 0.19999933333555556,\n",
       "   'reference': 'its been about 5 months since my boyfriend died of cancer & im trying to move onto another guy , but he has problems of his own . what do ?'},\n",
       "  {'content': \"hi everyone first of all thanks for taking the time to read this . little background first i 'm a senior in high school and lately i 've been talking to a girl in my grade a lot for approximately 4 months everyday and after going to some school events with her i decided to as her if she like me to which she responded i do n't really know . i mean right now i 'm in a place where i 'm too busy to do anything and i have n't really had time to think . right now it 's great to just have a friend but it maybe could be more i do n't know really . afterwards i was heartbroken i 'd never spent so much time on fostering a friendship with a girl and i felt as if we had a real connection we like the same type of music sports and t.v. show . after she friend zoned me i ended up distancing myself from her to allot myself some time to recover from the emotional damage i sustained and she began to start conversations something she rarely did before only twisting the metaphorical dagger inside me . i am starting to get over it and was wondering if she is a lost cause because a part of me deep inside believes that i could change her opinion on me and that i should just get on with my life . so i was just hopingif the nice people in the reddit community could help me out of this rut i am in right now . thanks in advance .\",\n",
       "   'decode': \"should for up , dated she school , and started blaming herself anything left , want now left , and corrupt to tell me .\\nwe more get when to broke up what to everything seemed fantastic to 's wo n't style .\",\n",
       "   'precision': 0.05882335640189293,\n",
       "   'recall': 0.19999800001999982,\n",
       "   'reference': 'got friendzoned looking for next step in friendship relationship .'},\n",
       "  {'content': \"met a guy a couple weeks ago . thought he was cute and conversations with him are great . it 's been a long time since i 've dated so i figured i 'd get to know him more before getting into anything serious . i know he 's into me and he even said it out to me in person . felt like he showed his cards way too early . the following dates were fun but still it was moving way too fast . he just went straight for it . held my hand and went for the kiss after date 4 and 5 respectively . after date 5 , i felt smothered by him . he was blowing up my phone with unnecessary messages . his messages are about irrelevant things `` stuck in traffic '' `` i 'm hungry '' `` i miss you '' . i dont reply these messages right away since i have work . he flips out if i dont reply right away ... because the app sends read reciepts . i look at it during work but i dont reply unless its urgent . i have n't had an experience with a guy this clingy after 5 dates before . is this normal ? i talked to him and asked him to give me some space . he was anxious and nervous about my need for space but agreed to give me time to do my own thing . i was relieved . he did n't contact me for 24 hours . but once the 24 hour mark passed , he messaged me . i feel like this is a red flag . but since i have n't dated in so long , is this normal for someone who is seriously into you ? am i the crazy one ? or am i just a cold hearted bitch who finds this kind of behavior annoying when most people will find it flattering ?!\",\n",
       "   'decode': \"girlfriend spies for next with friendship his years relationship .\\nwe 'm we get get help during he 5 even too anything people my own independence .\\ncompletely thinks me even anyone have get have to but househould movie style .\",\n",
       "   'precision': 0.11428538775603497,\n",
       "   'recall': 0.19999900000499998,\n",
       "   'reference': 'asked for space , he agreed , left me alone for only 24 hours and went back to routine , red flag ?'}]}"
      ]
     },
     "execution_count": 37,
     "metadata": {},
     "output_type": "execute_result"
    }
   ],
   "source": [
    "for key, value in examples.items():\n",
    "    print(key, len(value))\n",
    "examples"
   ]
  },
  {
   "cell_type": "code",
   "execution_count": 38,
   "metadata": {
    "scrolled": true
   },
   "outputs": [
    {
     "data": {
      "text/plain": [
       "[0.31974029778215757, 0.40476269263471176, 0.35726269066098604]"
      ]
     },
     "execution_count": 38,
     "metadata": {},
     "output_type": "execute_result"
    }
   ],
   "source": [
    "[pre, rec, f1 ]"
   ]
  },
  {
   "cell_type": "code",
   "execution_count": 15,
   "metadata": {},
   "outputs": [
    {
     "data": {
      "text/plain": [
       "(array([ 3., 15., 15., 18., 10.,  4.,  2.,  2.,  4.,  6.]),\n",
       " array([0.        , 0.0806449 , 0.1612898 , 0.2419347 , 0.3225796 ,\n",
       "        0.40322451, 0.48386941, 0.56451431, 0.64515921, 0.72580411,\n",
       "        0.80644901]),\n",
       " <a list of 10 Patch objects>)"
      ]
     },
     "execution_count": 15,
     "metadata": {},
     "output_type": "execute_result"
    },
    {
     "data": {
      "image/png": "[encoded data removed]",
      "text/plain": [
       "<Figure size 432x288 with 1 Axes>"
      ]
     },
     "metadata": {
      "needs_background": "light"
     },
     "output_type": "display_data"
    }
   ],
   "source": [
    "plt.hist(precisions)"
   ]
  },
  {
   "cell_type": "code",
   "execution_count": 16,
   "metadata": {},
   "outputs": [
    {
     "data": {
      "text/plain": [
       "(array([ 1.,  6., 25., 19.,  8.,  5.,  5.,  1.,  3.,  6.]),\n",
       " array([0.        , 0.09999923, 0.19999846, 0.29999769, 0.39999692,\n",
       "        0.49999615, 0.59999538, 0.69999462, 0.79999385, 0.89999308,\n",
       "        0.99999231]),\n",
       " <a list of 10 Patch objects>)"
      ]
     },
     "execution_count": 16,
     "metadata": {},
     "output_type": "execute_result"
    },
    {
     "data": {
      "image/png": "[encoded data removed]",
      "text/plain": [
       "<Figure size 432x288 with 1 Axes>"
      ]
     },
     "metadata": {
      "needs_background": "light"
     },
     "output_type": "display_data"
    }
   ],
   "source": [
    "plt.hist(recalls)"
   ]
  }
 ],
 "metadata": {
  "kernelspec": {
   "display_name": "nlu",
   "language": "python",
   "name": "nlu"
  },
  "language_info": {
   "codemirror_mode": {
    "name": "ipython",
    "version": 2
   },
   "file_extension": ".py",
   "mimetype": "text/x-python",
   "name": "python",
   "nbconvert_exporter": "python",
   "pygments_lexer": "ipython2",
   "version": "2.7.16"
  }
 },
 "nbformat": 4,
 "nbformat_minor": 2
}
