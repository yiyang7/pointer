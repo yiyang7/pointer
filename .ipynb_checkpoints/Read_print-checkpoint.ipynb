{
 "cells": [
  {
   "cell_type": "code",
   "execution_count": 52,
   "metadata": {},
   "outputs": [],
   "source": [
    "from os import listdir\n",
    "from os.path import isfile, join\n",
    "from nltk.tokenize import TweetTokenizer\n",
    "import numpy as np"
   ]
  },
  {
   "cell_type": "code",
   "execution_count": 57,
   "metadata": {},
   "outputs": [],
   "source": [
    "def cal_f1_score(path_pre, eps = 0.0001):\n",
    "\n",
    "    ref_path = path_pre + '/reference/'\n",
    "    reference_files = [f for f in listdir(ref_path) if isfile(join(ref_path, f))]\n",
    "    dec_path = path_pre + '/decoded/'\n",
    "    decoded_files = [f for f in listdir(dec_path) if isfile(join(dec_path, f))]\n",
    "\n",
    "    reference_files.sort()\n",
    "    decoded_files.sort()\n",
    "\n",
    "    num_file = len(reference_files)\n",
    "    precisions = np.zeros(num_file)\n",
    "    recalls = np.zeros(num_file)\n",
    "\n",
    "    tokenizer = TweetTokenizer()\n",
    "    for i in range(num_file):\n",
    "    #     if reference_files[i][:6] ==  decoded_files[i][:6]:\n",
    "    #         print reference_files[i], decoded_files[i]\n",
    "        f_ref = open(ref_path + reference_files[i], 'r').read()\n",
    "        f_ref_token = set(tokenizer.tokenize(f_ref))\n",
    "    #     print(reference_files[i] ,f_red.read())\n",
    "        f_decode = open( dec_path + decoded_files[i], 'r').read()\n",
    "        f_decode_token = set(tokenizer.tokenize(f_decode))\n",
    "        precisions[i] = len(f_decode_token.intersection(f_ref_token)) * 1.0 / (len(f_decode_token) + eps)\n",
    "        recalls[i] = len(f_decode_token.intersection(f_ref_token)) * 1.0 / (len(f_ref_token)+ eps)\n",
    "        \n",
    "    pre = np.mean(precisions)\n",
    "    rec = np.mean(recalls)\n",
    "    f1 = 1.0 / (1.0/pre + 1.0/rec)\n",
    "    print('total ', i, ' number of samples')\n",
    "    return [pre, rec, f1 ]\n",
    "#         print reference_files[i]\n",
    "#         print \"ref:\", f_ref\n",
    "#         print decoded_files[i]\n",
    "#         print \"decode:\", f_decode\n",
    "#     print( decoded_files[i] , f_decode.read())\n",
    "# f = open('example.txt', 'r')\n"
   ]
  },
  {
   "cell_type": "code",
   "execution_count": 58,
   "metadata": {},
   "outputs": [
    {
     "name": "stdout",
     "output_type": "stream",
     "text": [
      "('total ', 2562, ' number of samples')\n"
     ]
    },
    {
     "data": {
      "text/plain": [
       "[0.14071242406898482, 0.38900608459929037, 0.10333410716413009]"
      ]
     },
     "execution_count": 58,
     "metadata": {},
     "output_type": "execute_result"
    }
   ],
   "source": [
    "# pretrained model\n",
    "path_pre = './log/pretrained_model/decode_test_400maxenc_4beam_35mindec_120maxdec_ckpt-238410'\n",
    "\n",
    "cal_f1_score(path_pre) # return: precision, recall, f1"
   ]
  },
  {
   "cell_type": "code",
   "execution_count": 59,
   "metadata": {},
   "outputs": [
    {
     "name": "stdout",
     "output_type": "stream",
     "text": [
      "('total ', 4458, ' number of samples')\n"
     ]
    },
    {
     "data": {
      "text/plain": [
       "[0.22693112952839692, 0.280542278653292, 0.12545243780038326]"
      ]
     },
     "execution_count": 59,
     "metadata": {},
     "output_type": "execute_result"
    }
   ],
   "source": [
    "# our training\n",
    "path_pre = './log/reddit_exp/decode_test_400maxenc_4beam_35mindec_120maxdec_ckpt-39995_cov_init_cov_init'\n",
    "\n",
    "cal_f1_score(path_pre)"
   ]
  },
  {
   "cell_type": "code",
   "execution_count": null,
   "metadata": {},
   "outputs": [],
   "source": [
    "# lead-3 baseline\n",
    "path_pre = '../AskReddit_baseline_summarization'\n",
    "\n",
    "cal_f1_score(path_pre)"
   ]
  },
  {
   "cell_type": "code",
   "execution_count": null,
   "metadata": {},
   "outputs": [],
   "source": []
  },
  {
   "cell_type": "code",
   "execution_count": 34,
   "metadata": {
    "scrolled": true
   },
   "outputs": [
    {
     "data": {
      "text/plain": [
       "1.0"
      ]
     },
     "execution_count": 34,
     "metadata": {},
     "output_type": "execute_result"
    }
   ],
   "source": [
    "np.max(recalls)"
   ]
  },
  {
   "cell_type": "code",
   "execution_count": 35,
   "metadata": {},
   "outputs": [
    {
     "data": {
      "text/plain": [
       "0.38630394815427593"
      ]
     },
     "execution_count": 35,
     "metadata": {},
     "output_type": "execute_result"
    }
   ],
   "source": [
    "np.mean(recalls)"
   ]
  },
  {
   "cell_type": "code",
   "execution_count": 36,
   "metadata": {},
   "outputs": [
    {
     "data": {
      "text/plain": [
       "0.13801663019276983"
      ]
     },
     "execution_count": 36,
     "metadata": {},
     "output_type": "execute_result"
    }
   ],
   "source": [
    "np.mean(precisions)"
   ]
  },
  {
   "cell_type": "code",
   "execution_count": 7,
   "metadata": {},
   "outputs": [
    {
     "data": {
      "text/plain": [
       "517"
      ]
     },
     "execution_count": 7,
     "metadata": {},
     "output_type": "execute_result"
    }
   ],
   "source": [
    "i"
   ]
  },
  {
   "cell_type": "code",
   "execution_count": 28,
   "metadata": {},
   "outputs": [
    {
     "name": "stdout",
     "output_type": "stream",
     "text": [
      "000735_reference.txt\n",
      "ref: nothing .\n",
      "000735_decoded.txt\n",
      "decode: something ? seriously , i am now currently doing nothing it is because more then .\n",
      "am not on the internet but in the end it would be more effort for the same result .\n",
      "if i am said person asking said question in which whatever i was doing something that does not matter to you so by default in too becomes nothing .\n"
     ]
    }
   ],
   "source": [
    "i = 735\n",
    "f_ref = open(ref_path + reference_files[i], 'r').read()\n",
    "f_ref_token = set(tokenizer.tokenize(f_ref))\n",
    "#     print(reference_files[i] ,f_red.read())\n",
    "f_decode = open( dec_path + decoded_files[i], 'r').read()\n",
    "f_decode_token = set(tokenizer.tokenize(f_decode))\n",
    "# precisions[i] = len(f_decode_token.intersection(f_ref_token)) / len(f_decode_token)\n",
    "# recalls[i] = len(f_decode_token.intersection(f_ref_token)) / len(f_ref_token)\n",
    "print reference_files[i]\n",
    "print \"ref:\", f_ref\n",
    "print decoded_files[i]\n",
    "print \"decode:\", f_decode"
   ]
  },
  {
   "cell_type": "code",
   "execution_count": 31,
   "metadata": {},
   "outputs": [
    {
     "data": {
      "text/plain": [
       "{u'.', u'nothing'}"
      ]
     },
     "execution_count": 31,
     "metadata": {},
     "output_type": "execute_result"
    }
   ],
   "source": [
    "f_decode_token.intersection(f_ref_token)"
   ]
  }
 ],
 "metadata": {
  "kernelspec": {
   "display_name": "nlu",
   "language": "python",
   "name": "nlu"
  },
  "language_info": {
   "codemirror_mode": {
    "name": "ipython",
    "version": 2
   },
   "file_extension": ".py",
   "mimetype": "text/x-python",
   "name": "python",
   "nbconvert_exporter": "python",
   "pygments_lexer": "ipython2",
   "version": "2.7.16"
  }
 },
 "nbformat": 4,
 "nbformat_minor": 2
}
